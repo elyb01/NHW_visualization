{
 "cells": [
  {
   "cell_type": "markdown",
   "metadata": {},
   "source": [
    "# Surface Visualization Demo Notebook, Neurohackweek, 8 Sept 2017\n",
    "\n",
    "- (Mostly) developted by Murat Bilgel, Benjamin Ely, Melanie Ganz, Krisanne Litinas, and Andrea Shafer\n",
    "- Heavily indebted to Satra Ghosh, Chris Holdgraf, Anisha Keshavan, and Tal Yarkoni\n",
    "- Builds on \n",
    "[IPyvolume](https://ipyvolume.readthedocs.io/en/latest/index.html), \n",
    "[NiBabel cifti2 package](http://nipy.org/nibabel/reference/nibabel.cifti2.html), \n",
    "[Michiel Cottaar's cifti tools](https://git.fmrib.ox.ac.uk/ndcn0236/cifti), and [various NHW demo notebooks](https://github.com/neurohackweek)\n"
   ]
  },
  {
   "cell_type": "markdown",
   "metadata": {},
   "source": [
    "<b>Load packages etc:</b>"
   ]
  },
  {
   "cell_type": "code",
   "execution_count": 4,
   "metadata": {
    "collapsed": true
   },
   "outputs": [],
   "source": [
    "%matplotlib inline\n",
    "import matplotlib.pyplot as plt\n",
    "import nibabel as nb\n",
    "import ipyvolume\n",
    "import ipyvolume.pylab as p3\n",
    "import numpy as np\n",
    "import os\n",
    "import sys"
   ]
  },
  {
   "cell_type": "code",
   "execution_count": 5,
   "metadata": {},
   "outputs": [
    {
     "name": "stderr",
     "output_type": "stream",
     "text": [
      "pixdim[1,2,3] should be non-zero; setting 0 dims to 1\n"
     ]
    }
   ],
   "source": [
    "# NB: added 'export NHW=$HOME/Desktop/nhw2017/NHW_visualization' to ~/.bashrc\n",
    "nhw = os.environ['NHW'] \n",
    "# FYI example data primarily from Human Connectome Project subject 100610\n",
    "data_lh = nb.load(nhw+'/data/100610/MNINonLinear/fsaverage_LR32k/100610.L.very_inflated_MSMAll.32k_fs_LR.surf.gii')\n",
    "data_rh = nb.load(nhw+'/data/100610/MNINonLinear/fsaverage_LR32k/100610.R.midthickness_MSMAll.32k_fs_LR.surf.gii')\n",
    "data_lh_myelin = nb.load(nhw+'/data/100610/MNINonLinear/fsaverage_LR32k/100610.L.MyelinMap.32k_fs_LR.func.gii')\n",
    "data_rh_myelin = nb.load(nhw+'/data/100610/MNINonLinear/fsaverage_LR32k/100610.R.MyelinMap.32k_fs_LR.func.gii')\n",
    "data_sc = nb.load(nhw+'/data/100610/MNINonLinear/Atlas_ROIs.2.nii.gz')\n",
    "data_ciftiTS = nb.load(nhw+'/data/100610/MNINonLinear/Results/rfMRI_REST1_LR/rfMRI_REST1_LR_Atlas_MSMAll_hp2000_clean.dtseries.nii')"
   ]
  },
  {
   "cell_type": "markdown",
   "metadata": {},
   "source": [
    "<b>Define functions:</b>"
   ]
  },
  {
   "cell_type": "code",
   "execution_count": 14,
   "metadata": {
    "collapsed": true
   },
   "outputs": [],
   "source": [
    "def mwmask(surf,mask):\n",
    "    '''\n",
    "    mask out medial wall; with some tinkering could be used to mask any vertices of (no) interest\n",
    "    surf and mask should be .gii structures loaded with nibabel\n",
    "    surf is the target surface\n",
    "    mask is an overlay with no information at medial wall vertices (e.g. myelin map)\n",
    "    '''\n",
    "    keep=(mask.darrays[0].data!=0)\n",
    "    kill=(mask.darrays[0].data==0)\n",
    "    ikeep=[i for i, e in enumerate(keep) if e != 0]\n",
    "    ikill=[i for i, e in enumerate(kill) if e != 0]\n",
    "    killdict={ii:1 for ii in ikill} # fun fact, iterating over a dictionary is ~exponentially faster vs. over a list\n",
    "    mask_kill=np.zeros([surf.darrays[1].data.shape[0]],dtype=bool) # create empty arrays matching surface mesh dimentions\n",
    "    mask_keep=mask_kill.copy()\n",
    "    for ii, row in enumerate(surf.darrays[1].data):\n",
    "        for item in row:\n",
    "            if item in killdict.keys():\n",
    "                mask_kill[ii]=True\n",
    "                continue\n",
    "            else:\n",
    "                mask_keep[ii]=True\n",
    "                continue\n",
    "    return mask_keep,mask_kill"
   ]
  },
  {
   "cell_type": "code",
   "execution_count": 16,
   "metadata": {
    "collapsed": true
   },
   "outputs": [],
   "source": [
    "def showSurface(surface,overlay=None,frame=0,newfigure=True,colormap='summer',figsize=np.array([600,600]),\n",
    "                figlims=np.array([[-100,100],[-100,100],[-100,100]]),mwall=True):\n",
    "    '''\n",
    "    Displays a surface mesh in gifti or FreeSurfer (FS) surface format with/without an overlay inside  \n",
    "    Jupyter notebook for interactive visualization.\n",
    "\n",
    "    Parameters\n",
    "    ----------\n",
    "    surface: str, gifti opject\n",
    "        Path to surface file in gifti or FS surface format or an already loaded gifti object of surface\n",
    "    overlay: str, gifti opject\n",
    "        Path to overlay file in gifti or FS annot or anaotimcal (.curv,.sulc,.thickness) format or an already loaded \n",
    "        gifti object of overlay, default None\n",
    "    frame: int\n",
    "        indice of the frame (timepoint or functional data frame) to show\n",
    "    newfigure: bool\n",
    "        Create a new figure else prints into the last figure (in order to visualize both hemispheres in \n",
    "        one plot), default True\n",
    "    colormap: string\n",
    "        A matplotlib colormap, default summer\n",
    "    figsize: ndarray\n",
    "        Size of the figure to display, default [600,600]\n",
    "    figLims: ndarray\n",
    "        x,y and z limits of the axes, default [[-100,100],[-100,100],[-100,100]])\n",
    "\n",
    "    '''\n",
    "\n",
    "    if isinstance(surface,str):\n",
    "        if not os.path.exists(surface):\n",
    "            error('File does not exist, please provide a valid file path to a gifti or FreeSurfer file.')\n",
    "        filename, file_extension = os.path.splitext(surface)\n",
    "        if file_extension is '.gii':\n",
    "            surface = nb.load(surface)\n",
    "        else:\n",
    "            fsgeometry = nb.freesurfer.read_geometry(surface)\n",
    "            x,y,z = fsgeometry[0].T\n",
    "            vertex_edges=fsgeometry[1]\n",
    "\n",
    "    if isinstance(surface,nb.gifti.gifti.GiftiImage):\n",
    "        try:\n",
    "            vertex_spatial=surface.darrays[0]\n",
    "            vertex_edges=surface.darrays[1]\n",
    "            x, y, z = vertex_spatial.data.T\n",
    "        except:\n",
    "            raise ValueError('Please provide a valid gifti file.')\n",
    "    \n",
    "    if mwall is False:\n",
    "        try:\n",
    "            mkeep,mkill=mwmask(surface,overlay)\n",
    "        except:\n",
    "            raise ValueError('Overlay required for medial wall masking.')\n",
    "    \n",
    "    if not isinstance(frame,int):\n",
    "        ValueError('Please provide a valid integer frame index.')\n",
    "    \n",
    "    if isinstance(overlay,list):\n",
    "        if frame>len(overlay) or frame < 0:\n",
    "            error('Frame index out of bounds, please provide a valid frame index.')\n",
    "        overlay = overlay[frame]\n",
    "    \n",
    "    if isinstance(overlay,str):\n",
    "        if not os.path.exists(overlay):\n",
    "            error('File does not exist, please provide a valid file path to a gifti or FreeSurfer file.')\n",
    "        filename, file_extension = os.path.splitext(overlay)\n",
    "        \n",
    "        if file_extension is '.gii':\n",
    "            overlay = nb.load(overlay)\n",
    "        elif (file_extension in ('.annot','')):\n",
    "            annot = nb.freesurfer.read_annot(overlay)\n",
    "            activation = annot[0]\n",
    "        elif (file_extension in ('.curv','.thickness','.sulc')):\n",
    "            activation = nb.freesurfer.read_morph_data(overlay)\n",
    "            \n",
    "    if isinstance(overlay,nb.gifti.gifti.GiftiImage):\n",
    "        try:\n",
    "            activation=overlay.darrays[0].data\n",
    "        except:\n",
    "            raise ValueError('Please provide a valid gifti file')\n",
    "    \n",
    "    \n",
    "    if newfigure:\n",
    "\n",
    "        fig = p3.figure(width=figsize[0], height=figsize[1])\n",
    "        fig.camera_fov = 1\n",
    "        fig.style = {'axes': {'color': 'black',\n",
    "          'label': {'color': 'black'},\n",
    "          'ticklabel': {'color': 'black'},\n",
    "          'visible': False},\n",
    "         'background-color': 'white',\n",
    "         'box': {'visible': False}}\n",
    "        fig.xlim = (figlims[0][0], figlims[0][1])\n",
    "        fig.ylim = (figlims[1][0], figlims[1][1])\n",
    "        fig.zlim = (figlims[2][0], figlims[2][1])\n",
    "\n",
    "        \n",
    "    # plot surface\n",
    "    if overlay is None:\n",
    "        p3.plot_trisurf(x, y, z, triangles=vertex_edges.data)\n",
    "    elif mwall is False:\n",
    "        my_color = plt.cm.get_cmap(colormap)\n",
    "        colors=my_color((activation-min(activation))/(max(activation)-min(activation)))\n",
    "        p3.plot_trisurf(x, y, z, triangles=vertex_edges.data[mkeep], color=colors[:,:3])\n",
    "    else:\n",
    "        my_color = plt.cm.get_cmap(colormap)\n",
    "        colors=my_color((activation-min(activation))/(max(activation)-min(activation)))\n",
    "        p3.plot_trisurf(x, y, z, triangles=vertex_edges.data, color=colors[:,:3])\n",
    "\n",
    "    if newfigure:\n",
    "        p3.show()\n",
    "        \n",
    "    return 1"
   ]
  },
  {
   "cell_type": "code",
   "execution_count": 17,
   "metadata": {
    "scrolled": false
   },
   "outputs": [
    {
     "data": {
      "application/vnd.jupyter.widget-view+json": {
       "model_id": "6212545fa1654e0c83775a3f39d0182d",
       "version_major": 2,
       "version_minor": 0
      },
      "text/plain": [
       "A Jupyter Widget"
      ]
     },
     "metadata": {},
     "output_type": "display_data"
    },
    {
     "data": {
      "application/vnd.jupyter.widget-view+json": {
       "model_id": "ae1ec70f334d423e9a3dbf0320621ba5",
       "version_major": 2,
       "version_minor": 0
      },
      "text/plain": [
       "A Jupyter Widget"
      ]
     },
     "metadata": {},
     "output_type": "display_data"
    },
    {
     "data": {
      "text/plain": [
       "1"
      ]
     },
     "execution_count": 17,
     "metadata": {},
     "output_type": "execute_result"
    }
   ],
   "source": [
    "# showSurface example:\n",
    "showSurface(data_rh) # right surface only\n",
    "showSurface(data_rh,data_rh_myelin) # new plot, same surface but with myelin map overlay\n",
    "showSurface(data_lh,data_lh_myelin,newfigure=False,mwall=False) # same plot, added \"very inflated\" left surface, excluded medial wall"
   ]
  },
  {
   "cell_type": "markdown",
   "metadata": {},
   "source": [
    "<b>Tangentially related CIFTI tools:</b>"
   ]
  },
  {
   "cell_type": "code",
   "execution_count": 36,
   "metadata": {
    "collapsed": true
   },
   "outputs": [],
   "source": [
    "def cread(infile):\n",
    "    # loads a cifti file and stores the data and four metadata objects\n",
    "    # should be called as: cd,ch,cn,cx,cf=cread(input_cifti)\n",
    "    cin=nb.load(infile)\n",
    "    cdata=np.asarray(cin.get_data()).copy()\n",
    "    chead=cin.header.copy()\n",
    "    cnhdr=cin.nifti_header.copy()\n",
    "    cxtra=cin.extra.copy()\n",
    "    cfmap=cin.file_map.copy()\n",
    "    return cdata,chead,cnhdr,cxtra,cfmap"
   ]
  },
  {
   "cell_type": "code",
   "execution_count": 6,
   "metadata": {},
   "outputs": [
    {
     "name": "stderr",
     "output_type": "stream",
     "text": [
      "pixdim[1,2,3] should be non-zero; setting 0 dims to 1\n"
     ]
    }
   ],
   "source": [
    "# cread example:\n",
    "input_cifti=nhw+'/rfMRI_REST1_LR_Atlas_MSMAll_hp2000_clean.dtseries.nii'\n",
    "cd,ch,cn,cx,cf=cread(input_cifti)"
   ]
  },
  {
   "cell_type": "code",
   "execution_count": 7,
   "metadata": {
    "collapsed": true
   },
   "outputs": [],
   "source": [
    "def clthresh(data,thresh,setto=0):\n",
    "    # set all values below threshold to a given value (default 0)\n",
    "    lthr_data=data.copy()\n",
    "    lthr_data[lthr_data<thresh]=setto\n",
    "    return lthr_data"
   ]
  },
  {
   "cell_type": "code",
   "execution_count": 8,
   "metadata": {
    "collapsed": true
   },
   "outputs": [],
   "source": [
    "def cuthresh(data,thresh,setto=0):\n",
    "    # set all values above threshold to a given value (default 0)\n",
    "    uthr_data=data.copy()\n",
    "    uthr_data[uthr_data>thresh]=setto\n",
    "    return uthr_data"
   ]
  },
  {
   "cell_type": "code",
   "execution_count": 19,
   "metadata": {},
   "outputs": [
    {
     "data": {
      "image/png": "[encoded data removed]",
      "text/plain": [
       "<matplotlib.figure.Figure at 0x14b873b38>"
      ]
     },
     "metadata": {},
     "output_type": "display_data"
    }
   ],
   "source": [
    "# clthresh/cuthresh example:\n",
    "tl12000_cd=clthresh(cd,12000)\n",
    "tu12000_cd=cuthresh(cd,12000)\n",
    "plt.hist(cd[np.nonzero(cd)], 32);\n",
    "plt.hist(tl12000_cd[np.nonzero(tl12000_cd)], 32);\n",
    "plt.hist(tu12000_cd[np.nonzero(tu12000_cd)], 32);"
   ]
  },
  {
   "cell_type": "code",
   "execution_count": 12,
   "metadata": {
    "collapsed": true
   },
   "outputs": [],
   "source": [
    "def csave(filename,cdata,chead=None,cnhdr=None,cxtra=None,cfmap=None):\n",
    "    # saves a cifti data structure to file. Output likely unusable without some header info\n",
    "    cout=nb.Cifti2Image(dataobj=cdata,header=chead,nifti_header=cnhdr, extra=cxtra, file_map=cfmap)\n",
    "    cout.to_filename(filename)"
   ]
  },
  {
   "cell_type": "code",
   "execution_count": 13,
   "metadata": {
    "collapsed": true
   },
   "outputs": [],
   "source": [
    "# csave example:\n",
    "output_cifti=nhw+'/save_demo.dtseries.nii'\n",
    "csave(output_cifti,cd,ch,cn,ch,cf)"
   ]
  },
  {
   "cell_type": "code",
   "execution_count": 15,
   "metadata": {
    "collapsed": true
   },
   "outputs": [],
   "source": [
    "def cmask(cdata1,cdata2):\n",
    "    # masks cifti data 1 with non-zero values of cifti data 2\n",
    "    # cdata2 can be a single timepoint or matched to cdata1 dimensions\n",
    "    masked_cdata1=cdata1.copy()\n",
    "    if cdata1.shape != cdata2.shape:\n",
    "        mask=np.tile(cdata2,(cdata1.shape[0],1))\n",
    "    else:\n",
    "        mask=cdata2.copy()\n",
    "    masked_cdata1[mask==0]=0\n",
    "    return masked_cdata1"
   ]
  },
  {
   "cell_type": "code",
   "execution_count": 16,
   "metadata": {},
   "outputs": [
    {
     "data": {
      "image/png": "[encoded data removed]",
      "text/plain": [
       "<matplotlib.figure.Figure at 0x10f8e85c0>"
      ]
     },
     "metadata": {},
     "output_type": "display_data"
    }
   ],
   "source": [
    "# cmask example:\n",
    "masked3d=cmask(cd,tu12000_cd[0]) # masking 4d timeseries with single 3d timepoint\n",
    "masked4d=cmask(cd,tu12000_cd)    # masking 4d timeseries with 4d timeseries\n",
    "plt.hist(cd[np.nonzero(cd)], 32);\n",
    "plt.hist(masked3d[np.nonzero(masked3d)], 32);\n",
    "plt.hist(masked4d[np.nonzero(masked4d)], 32);"
   ]
  },
  {
   "cell_type": "code",
   "execution_count": 20,
   "metadata": {
    "collapsed": true
   },
   "outputs": [],
   "source": [
    "def oscale(olay):\n",
    "    # scales input array values to between zero and one, needed for iPyVolume colormaps\n",
    "    # for now, olay must be a 1D array (single timepoint)\n",
    "    scaled=np.asarray((olay-min(olay))/(max(olay)-min(olay)))\n",
    "    return scaled"
   ]
  },
  {
   "cell_type": "code",
   "execution_count": 35,
   "metadata": {
    "collapsed": true
   },
   "outputs": [],
   "source": [
    "def cplot(coverlay,lsurf,rsurf,subvol,colormap):\n",
    "    # plots cifti overlay data with specified color on surfaces/subcortex\n",
    "    # lsurf and rsurf should be .surf.gii files matched to the number of vertices in each cifti hemisphere\n",
    "    # subvol should be a HCP-style subcortical volume (e.g. Atlas_ROIs.2.nii.gz)\n",
    "    \n",
    "    # import packages\n",
    "    import nibabel as nb\n",
    "    import matplotlib.pyplot as plt\n",
    "    import ipyvolume\n",
    "    import ipyvolume.pylab as p3\n",
    "    import numpy as np\n",
    "    \n",
    "    # read input files\n",
    "    cd,ch,cn,cx,cf=cread(coverlay) \n",
    "    ls=nb.load(lsurf)\n",
    "    rs=nb.load(rsurf)\n",
    "    sv=nb.load(subvol)\n",
    "    \n",
    "    # parse surface structure\n",
    "    lxyz=ls.darrays[0]\n",
    "    rxyz=rs.darrays[0]\n",
    "    lmesh=ls.darrays[1]\n",
    "    rmesh=rs.darrays[1]\n",
    "    \n",
    "    # parse cifti header\n",
    "    mim = ch.matrix[1]\n",
    "    bm1 = list(mim.brain_models)[0]\n",
    "    bm2 = list(mim.brain_models)[1]\n",
    "    lidx = list(bm1.vertex_indices)\n",
    "    ridx = [bm1.surface_number_of_vertices + val for val in bm2.vertex_indices]\n",
    "    bidx = np.concatenate((lidx, ridx))\n",
    "    # debug:\n",
    "    # print(bidx.shape)\n",
    "    #    for idx, bm in enumerate(mim.brain_models):\n",
    "    #        print((idx, bm.index_offset, bm.brain_structure))\n",
    "    \n",
    "    # split cifti overlay into left surface, right surface, and subcortical volume\n",
    "    clh=cd[:,0:len(lidx)]\n",
    "    crh=cd[:,len(lidx):len(lidx)+len(ridx)+1]\n",
    "    csc=cd[:,len(lidx)+len(ridx)+1:cd.shape[1]]\n",
    "    \n",
    "    # scale overlay values to between 0 and 1\n",
    "    slh=oscale(clh)\n",
    "    srh=oscale(crh)\n",
    "    scs=oscale(scs)\n",
    "    \n",
    "    # mask out medial wall vertices\n",
    "    lolay=np.zeros([lxyz.data.shape[0]])\n",
    "    rolay=np.zeros([rxyz.data.shape[0]])\n",
    "    lolay[lidx]=slh.copy()\n",
    "    rolay[ridx]=srh.copy()\n",
    "    \n",
    "    return lolay, rolay\n",
    "    "
   ]
  },
  {
   "cell_type": "code",
   "execution_count": 53,
   "metadata": {
    "collapsed": true
   },
   "outputs": [],
   "source": [
    "def showSurface(surface,overlay=None,frame=0,newfigure=True,colormap='summer',figsize=np.array([600,600]),\n",
    "                figlims=np.array([[-100,100],[-100,100],[-100,100]]),mwall=True):\n",
    "    '''\n",
    "    Displays a surface mesh in gifti or FreeSurfer (FS) surface format with/without an overlay inside  \n",
    "    Jupyter notebook for interactive visualization.\n",
    "\n",
    "    Parameters\n",
    "    ----------\n",
    "    surface: str, gifti opject\n",
    "        Path to surface file in gifti or FS surface format or an already loaded gifti object of surface\n",
    "    overlay: str, gifti opject\n",
    "        Path to overlay file in gifti or FS annot or anaotimcal (.curv,.sulc,.thickness) format or an already loaded \n",
    "        gifti object of overlay, default None\n",
    "    frame: int\n",
    "        indice of the frame (timepoint or functional data frame) to show\n",
    "    newfigure: bool\n",
    "        Create a new figure else prints into the last figure (in order to visualize both hemispheres in \n",
    "        one plot), default True\n",
    "    colormap: string\n",
    "        A matplotlib colormap, default summer\n",
    "    figsize: ndarray\n",
    "        Size of the figure to display, default [600,600]\n",
    "    figLims: ndarray\n",
    "        x,y and z limits of the axes, default [[-100,100],[-100,100],[-100,100]])\n",
    "\n",
    "    '''\n",
    "\n",
    "    if isinstance(surface,str):\n",
    "        if not os.path.exists(surface):\n",
    "            error('File does not exist, please provide a valid file path to a gifti or FreeSurfer file.')\n",
    "        filename, file_extension = os.path.splitext(surface)\n",
    "        if file_extension is '.gii':\n",
    "            surface = nb.load(surface)\n",
    "        else:\n",
    "            fsgeometry = nb.freesurfer.read_geometry(surface)\n",
    "            x,y,z = fsgeometry[0].T\n",
    "            vertex_edges=fsgeometry[1]\n",
    "\n",
    "    if isinstance(surface,nb.gifti.gifti.GiftiImage):\n",
    "        try:\n",
    "            vertex_spatial=surface.darrays[0]\n",
    "            vertex_edges=surface.darrays[1]\n",
    "            x, y, z = vertex_spatial.data.T\n",
    "        except:\n",
    "            raise ValueError('Please provide a valid gifti file.')\n",
    "    \n",
    "    if mwall is False:\n",
    "        try:\n",
    "            mkeep,mkill=mwmask(surface,overlay)\n",
    "        except:\n",
    "            raise ValueError('Overlay required for medial wall masking.')\n",
    "    \n",
    "    if not isinstance(frame,int):\n",
    "        ValueError('Please provide a valid integer frame index.')\n",
    "    \n",
    "    if isinstance(overlay,list):\n",
    "        if frame>len(overlay) or frame < 0:\n",
    "            error('Frame index out of bounds, please provide a valid frame index.')\n",
    "        overlay = overlay[frame]\n",
    "    \n",
    "    if isinstance(overlay,str):\n",
    "        if not os.path.exists(overlay):\n",
    "            error('File does not exist, please provide a valid file path to a gifti or FreeSurfer file.')\n",
    "        filename, file_extension = os.path.splitext(overlay)\n",
    "        \n",
    "        if file_extension is '.gii':\n",
    "            overlay = nb.load(overlay)\n",
    "        elif (file_extension in ('.annot','')):\n",
    "            annot = nb.freesurfer.read_annot(overlay)\n",
    "            activation = annot[0]\n",
    "        elif (file_extension in ('.curv','.thickness','.sulc')):\n",
    "            activation = nb.freesurfer.read_morph_data(overlay)\n",
    "            \n",
    "    if isinstance(overlay,nb.gifti.gifti.GiftiImage):\n",
    "        try:\n",
    "            activation=overlay.darrays[0].data\n",
    "        except:\n",
    "            raise ValueError('Please provide a valid gifti file')\n",
    "    \n",
    "    \n",
    "    if newfigure:\n",
    "\n",
    "        fig = p3.figure(width=figsize[0], height=figsize[1])\n",
    "        fig.camera_fov = 1\n",
    "        fig.style = {'axes': {'color': 'black',\n",
    "          'label': {'color': 'black'},\n",
    "          'ticklabel': {'color': 'black'},\n",
    "          'visible': False},\n",
    "         'background-color': 'white',\n",
    "         'box': {'visible': False}}\n",
    "        fig.xlim = (figlims[0][0], figlims[0][1])\n",
    "        fig.ylim = (figlims[1][0], figlims[1][1])\n",
    "        fig.zlim = (figlims[2][0], figlims[2][1])\n",
    "\n",
    "        \n",
    "    # plot surface\n",
    "    if overlay is None:\n",
    "        p3.plot_trisurf(x, y, z, triangles=vertex_edges.data)\n",
    "    elif mwall is False:\n",
    "        my_color = plt.cm.get_cmap(colormap)\n",
    "        colors=my_color((activation-min(activation))/(max(activation)-min(activation)))\n",
    "        p3.plot_trisurf(x, y, z, triangles=vertex_edges.data[mkeep], color=colors[:,:3])\n",
    "    else:\n",
    "        my_color = plt.cm.get_cmap(colormap)\n",
    "        colors=my_color((activation-min(activation))/(max(activation)-min(activation)))\n",
    "        p3.plot_trisurf(x, y, z, triangles=vertex_edges.data, color=colors[:,:3])\n",
    "\n",
    "    if newfigure:\n",
    "        p3.show()\n",
    "        \n",
    "    return 1"
   ]
  },
  {
   "cell_type": "code",
   "execution_count": null,
   "metadata": {
    "collapsed": true
   },
   "outputs": [],
   "source": [
    "cplot(data_ciftiTS,data_lh,data_rh,data_sc,None)"
   ]
  }
 ],
 "metadata": {
  "kernelspec": {
   "display_name": "Python 3",
   "language": "python",
   "name": "python3"
  },
  "language_info": {
   "codemirror_mode": {
    "name": "ipython",
    "version": 3
   },
   "file_extension": ".py",
   "mimetype": "text/x-python",
   "name": "python",
   "nbconvert_exporter": "python",
   "pygments_lexer": "ipython3",
   "version": "3.6.1"
  }
 },
 "nbformat": 4,
 "nbformat_minor": 2
}
