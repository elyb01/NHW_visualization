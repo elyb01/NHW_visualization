{
 "cells": [
  {
   "cell_type": "markdown",
   "metadata": {},
   "source": [
    "# Surface Visualization Demo Notebook, Neurohackweek, 8 Sept 2017\n",
    "\n",
    "- (Mostly) developted by Murat Bilgel, Benjamin Ely, Melanie Ganz, Krisanne Litinas, and Andrea Shafer\n",
    "- Heavily indebted to Satra Ghosh, Chris Holdgraf, Anisha Keshavan, and Tal Yarkoni\n",
    "- Builds on \n",
    "[IPyvolume](https://ipyvolume.readthedocs.io/en/latest/index.html), \n",
    "[NiBabel cifti2 package](http://nipy.org/nibabel/reference/nibabel.cifti2.html), \n",
    "[Michiel Cottaar's cifti tools](https://git.fmrib.ox.ac.uk/ndcn0236/cifti), and [various NHW demo notebooks](https://github.com/neurohackweek)\n"
   ]
  },
  {
   "cell_type": "markdown",
   "metadata": {},
   "source": [
    "<b>Load packages etc:</b>"
   ]
  },
  {
   "cell_type": "code",
   "execution_count": 638,
   "metadata": {
    "collapsed": true
   },
   "outputs": [],
   "source": [
    "%matplotlib inline\n",
    "import matplotlib.pyplot as plt\n",
    "import nibabel as nb\n",
    "import ipyvolume\n",
    "import ipyvolume.pylab as p3\n",
    "import numpy as np\n",
    "import os, sys, time\n",
    "import niwidgets\n",
    "from niwidgets import NiftiWidget\n",
    "from niwidgets import niwidget_surface\n",
    "import nilearn.plotting as nip\n",
    "from ipywidgets import interact, fixed, IntSlider, FloatSlider\n",
    "from ipywidgets import interact,fixed,IntSlider\n",
    "from nilearn import image\n",
    "from itertools import islice"
   ]
  },
  {
   "cell_type": "code",
   "execution_count": 401,
   "metadata": {
    "scrolled": true
   },
   "outputs": [
    {
     "name": "stderr",
     "output_type": "stream",
     "text": [
      "pixdim[1,2,3] should be non-zero; setting 0 dims to 1\n"
     ]
    }
   ],
   "source": [
    "# NB: added 'export NHW=$HOME/Desktop/nhw2017/NHW_visualization' to ~/.bashrc\n",
    "nhw = os.environ['NHW'] \n",
    "# FYI example data primarily from Human Connectome Project subject 100610\n",
    "path_lh = nhw+'/data/100610/MNINonLinear/fsaverage_LR32k/100610.L.very_inflated_MSMAll.32k_fs_LR.surf.gii'\n",
    "data_lh = nb.load(path_lh)\n",
    "path_rh = nhw+'/data/100610/MNINonLinear/fsaverage_LR32k/100610.R.midthickness_MSMAll.32k_fs_LR.surf.gii'\n",
    "data_rh = nb.load(path_rh)\n",
    "path_sc=nhw+'/data/100610/MNINonLinear/ROIs/Atlas_ROIs.2.nii.gz'\n",
    "data_sc = nb.load(path_sc)\n",
    "\n",
    "path_lh_myelin = nhw+'/data/100610/MNINonLinear/fsaverage_LR32k/100610.L.MyelinMap.32k_fs_LR.func.gii'\n",
    "data_lh_myelin = nb.load(path_lh_myelin)\n",
    "path_rh_myelin = nhw+'/data/100610/MNINonLinear/fsaverage_LR32k/100610.R.MyelinMap.32k_fs_LR.func.gii'\n",
    "data_rh_myelin = nb.load(path_rh_myelin)\n",
    "\n",
    "path_lh_corthick = nhw+'/data/100610/MNINonLinear/fsaverage_LR32k/100610.L.corrThickness.32k_fs_LR.shape.gii'\n",
    "data_lh_corthick = nb.load(path_lh_corthick)\n",
    "\n",
    "filename = os.path.join(nhw,'data','subjA','subjA_t0_pet_mni.nii.gz')\n",
    "filename_4D = os.path.join(nhw,'data','subjA','subjA_4D_pet_mni.nii.gz')\n",
    "\n",
    "path_ciftiTS = nhw+'/data/100610/MNINonLinear/Results/rfMRI_REST1_LR/rfMRI_REST1_LR_Atlas_MSMAll_hp2000_clean.dtseries.nii'\n",
    "data_ciftiTS = nb.load(path_ciftiTS)"
   ]
  },
  {
   "cell_type": "markdown",
   "metadata": {},
   "source": [
    "<b>Surface display functions:</b>  "
   ]
  },
  {
   "cell_type": "code",
   "execution_count": 551,
   "metadata": {
    "collapsed": true
   },
   "outputs": [],
   "source": [
    "def showSurface(surface,overlay=None,frame=0,newfigure=True,colormap='summer',figsize=np.array([600,600]),\n",
    "                figlims=np.array([[-100,100],[-100,100],[-100,100]]),showZeroes=True):\n",
    "    '''\n",
    "    Displays a surface mesh in gifti or FreeSurfer (FS) surface format with/without an overlay inside  \n",
    "    Jupyter notebook for interactive visualization.\n",
    "\n",
    "    Parameters\n",
    "    ----------\n",
    "    surface: str, gifti object\n",
    "        Path to surface file in gifti or FS surface format or an already loaded gifti object of surface\n",
    "    overlay: str, gifti object\n",
    "        Path to overlay file in gifti or FS annot or anaotimcal (.curv,.sulc,.thickness) format or an already loaded \n",
    "        gifti object of overlay, default None\n",
    "    frame: int\n",
    "        index of the frame (timepoint or functional data frame) to show\n",
    "    newfigure: bool\n",
    "        Create a new figure else prints into the last figure (in order to visualize both hemispheres in \n",
    "        one plot), default True\n",
    "    colormap: string\n",
    "        A matplotlib colormap, default summer\n",
    "    figsize: ndarray\n",
    "        Size of the figure to display, default [600,600]\n",
    "    figLims: ndarray\n",
    "        x,y and z limits of the axes, default [[-100,100],[-100,100],[-100,100]])\n",
    "    showZeroes: bool\n",
    "        Display vertices with intensity = 0, default True\n",
    "\n",
    "    '''\n",
    "\n",
    "    if isinstance(surface,str):\n",
    "        if not os.path.exists(surface):\n",
    "            error('File does not exist, please provide a valid file path to a gifti or FreeSurfer file.')\n",
    "        filename, file_extension = os.path.splitext(surface)\n",
    "        if file_extension is '.gii':\n",
    "            surface = nb.load(surface)\n",
    "        else:\n",
    "            fsgeometry = nb.freesurfer.read_geometry(surface)\n",
    "            x,y,z = fsgeometry[0].T\n",
    "            vertex_edges=fsgeometry[1]\n",
    "\n",
    "    if isinstance(surface,nb.gifti.gifti.GiftiImage):\n",
    "        try:\n",
    "            vertex_spatial=surface.darrays[0]\n",
    "            vertex_edges=surface.darrays[1]\n",
    "            x, y, z = vertex_spatial.data.T\n",
    "        except:\n",
    "            raise ValueError('Please provide a valid gifti file.')\n",
    "\n",
    "    \n",
    "    if not isinstance(frame,int):\n",
    "        raise ValueError('Please provide a valid integer frame index.')\n",
    "    \n",
    "    if isinstance(overlay,list):\n",
    "        if frame>len(overlay) or frame < 0:\n",
    "            error('Frame index out of bounds, please provide a valid frame index.')\n",
    "        overlay = overlay[frame]\n",
    "    \n",
    "    if isinstance(overlay,str):\n",
    "        if not os.path.exists(overlay):\n",
    "            error('File does not exist, please provide a valid file path to a gifti or FreeSurfer file.')\n",
    "        filename, file_extension = os.path.splitext(overlay)\n",
    "        \n",
    "        if file_extension is '.gii':\n",
    "            overlay = nb.load(overlay)\n",
    "        elif (file_extension in ('.annot','')):\n",
    "            annot = nb.freesurfer.read_annot(overlay)\n",
    "            activation = annot[0]\n",
    "        elif (file_extension in ('.curv','.thickness','.sulc')):\n",
    "            activation = nb.freesurfer.read_morph_data(overlay)\n",
    "#        elif (file_extension in ('.dlabel.nii','.dscalar.nii','.dconn.nii','.dtseries.nii')):\n",
    "#            left,right,sub=csplit(overlay)\n",
    "\n",
    "            \n",
    "    if isinstance(overlay,nb.gifti.gifti.GiftiImage):\n",
    "        try:\n",
    "            activation=overlay.darrays[0].data\n",
    "        except:\n",
    "            raise ValueError('Please provide a valid gifti file')\n",
    "            \n",
    "            \n",
    "    \n",
    "    if showZeroes is False:\n",
    "        try:\n",
    "            mkeep,mkill=zmask(surface,overlay)\n",
    "        except:\n",
    "            raise ValueError('Overlay required for medial wall masking.')\n",
    "    \n",
    "    \n",
    "    if newfigure:\n",
    "\n",
    "        fig = p3.figure(width=figsize[0], height=figsize[1])\n",
    "        fig.camera_fov = 1\n",
    "        fig.style = {'axes': {'color': 'black',\n",
    "          'label': {'color': 'black'},\n",
    "          'ticklabel': {'color': 'black'},\n",
    "          'visible': False},\n",
    "         'background-color': 'white',\n",
    "         'box': {'visible': False}}\n",
    "        fig.xlim = (figlims[0][0], figlims[0][1])\n",
    "        fig.ylim = (figlims[1][0], figlims[1][1])\n",
    "        fig.zlim = (figlims[2][0], figlims[2][1])\n",
    "\n",
    "        \n",
    "    # plot surface\n",
    "    if overlay is None:\n",
    "        p3.plot_trisurf(x, y, z, triangles=vertex_edges.data)\n",
    "    elif showZeroes is False:\n",
    "        my_color = plt.cm.get_cmap(colormap)\n",
    "        colors=my_color(oscale(activation))\n",
    "        p3.plot_trisurf(x, y, z, triangles=vertex_edges.data[mkeep], color=colors[:,:3])\n",
    "    else:\n",
    "        my_color = plt.cm.get_cmap(colormap)\n",
    "        colors=my_color(oscale(activation))\n",
    "        p3.plot_trisurf(x, y, z, triangles=vertex_edges.data, color=colors[:,:3])\n",
    "\n",
    "    if newfigure:\n",
    "        p3.show()\n",
    "        \n",
    "    return 1"
   ]
  },
  {
   "cell_type": "code",
   "execution_count": 402,
   "metadata": {
    "collapsed": true
   },
   "outputs": [],
   "source": [
    "def zmask(surf,mask):\n",
    "    '''\n",
    "    Masks out vertices with intensity=0 from overlay. Also returns masked-out vertices.\n",
    "    \n",
    "    Parameters\n",
    "    ----------\n",
    "    surf: gifti object\n",
    "        already loaded gifti object of target surface\n",
    "    mask: gifti object\n",
    "        already loaded gifti object of overlay with zeroes at vertices of no interest (e.g. medial wall)\n",
    "    '''\n",
    "    keep=(mask.darrays[0].data!=0) # nonzero values of mask\n",
    "    kill=(mask.darrays[0].data==0) # zero values of mask\n",
    "    ikeep=[i for i, e in enumerate(keep) if e != 0] # indices of nonzero mask values\n",
    "    ikill=[i for i, e in enumerate(kill) if e != 0] # indices of zero mask values\n",
    "    killdict={ii:1 for ii in ikill} # fun fact, iterating over a dictionary is ~exponentially faster vs. over a list\n",
    "    mask_kill=np.zeros([surf.darrays[1].data.shape[0]],dtype=bool) # create empty arrays matching surface mesh dimentions\n",
    "    mask_keep=mask_kill.copy()\n",
    "    for ii, row in enumerate(surf.darrays[1].data):\n",
    "        for item in row:\n",
    "            if item in killdict.keys():\n",
    "                mask_kill[ii]=True\n",
    "                continue\n",
    "            else:\n",
    "                mask_keep[ii]=True\n",
    "                continue\n",
    "    return mask_keep, mask_kill"
   ]
  },
  {
   "cell_type": "code",
   "execution_count": 404,
   "metadata": {
    "collapsed": true
   },
   "outputs": [],
   "source": [
    "def mwpad(overlay,template,frame=0):\n",
    "    '''\n",
    "    Adds intensity=0 vertices along medial wall of overlay\n",
    "\n",
    "    Parameters\n",
    "    ----------\n",
    "    overlay: gifti object\n",
    "        gifti object overlay to be padded (e.g. hemisphere data array from a cifti file)\n",
    "    template: gifti object\n",
    "        gifti object with zeroes at medial wall vertices, otherwise matched to overlay (e.g. myelin map)\n",
    "    frame: int\n",
    "        index of the timepoint to show, default 0, ignored if overlay only has one timepoint\n",
    "    '''\n",
    "    padolay=nb.gifti.gifti.GiftiImage()\n",
    "    padded=np.zeros(template.darrays[0].data.shape[0])\n",
    "    count=0        \n",
    "    for i, x in enumerate(template.darrays[0].data):\n",
    "        if x!=0:\n",
    "            if overlay.darrays[0].data.ndim > 1:\n",
    "                padded[i]=overlay.darrays[0].data[frame,count]\n",
    "            else:\n",
    "                padded[i]=overlay.darrays[0].data[count]\n",
    "            count=count+1\n",
    "    padarray=nb.gifti.gifti.GiftiDataArray(padded)\n",
    "    padolay.add_gifti_data_array(padarray)\n",
    "    return padolay"
   ]
  },
  {
   "cell_type": "code",
   "execution_count": 405,
   "metadata": {
    "collapsed": true
   },
   "outputs": [],
   "source": [
    "def oscale(overlay):\n",
    "    '''\n",
    "    Scales input array values to between zero and one, as needed for iPyVolume colormaps.\n",
    "    For now, olay must be a 1D array (single timepoint).\n",
    "    \n",
    "    Parameters\n",
    "    ----------\n",
    "    overlay: gifti object\n",
    "        gifti object overlay to be scaled (e.g. myelin map)\n",
    "    '''\n",
    "    scaled=np.asarray((overlay-min(overlay))/(max(overlay)-min(overlay)))\n",
    "    return scaled"
   ]
  },
  {
   "cell_type": "code",
   "execution_count": 409,
   "metadata": {
    "scrolled": false
   },
   "outputs": [
    {
     "data": {
      "application/vnd.jupyter.widget-view+json": {
       "model_id": "4b81ec9e9e3d4add87647440cf5d864c",
       "version_major": 2,
       "version_minor": 0
      },
      "text/plain": [
       "A Jupyter Widget"
      ]
     },
     "metadata": {},
     "output_type": "display_data"
    },
    {
     "data": {
      "text/plain": [
       "1"
      ]
     },
     "execution_count": 409,
     "metadata": {},
     "output_type": "execute_result"
    }
   ],
   "source": [
    "# showSurface example 1:\n",
    "# right surface only\n",
    "showSurface(data_rh)"
   ]
  },
  {
   "cell_type": "code",
   "execution_count": 410,
   "metadata": {},
   "outputs": [
    {
     "data": {
      "application/vnd.jupyter.widget-view+json": {
       "model_id": "5d72e7ed90de45b7b0db86664897bdba",
       "version_major": 2,
       "version_minor": 0
      },
      "text/plain": [
       "A Jupyter Widget"
      ]
     },
     "metadata": {},
     "output_type": "display_data"
    }
   ],
   "source": [
    "# showSurface example 2:\n",
    "# new plot, same surface but with myelin map overlay\n",
    "fig=showSurface(data_rh,data_rh_myelin)"
   ]
  },
  {
   "cell_type": "code",
   "execution_count": 411,
   "metadata": {
    "collapsed": true
   },
   "outputs": [],
   "source": [
    "# same plot, added \"very inflated\" left surface, excluded medial wall\n",
    "fig=showSurface(data_lh,data_lh_myelin,newfigure=False,showZeroes=False)"
   ]
  },
  {
   "cell_type": "markdown",
   "metadata": {},
   "source": [
    "<b>NiWidgets 4D longitudinal or timeseries display:</b>"
   ]
  },
  {
   "cell_type": "code",
   "execution_count": 293,
   "metadata": {
    "collapsed": true
   },
   "outputs": [],
   "source": [
    "# 1) get the default plotter in niwidgets and manipulate it.\n",
    "# 2) write function for an spaghetti plot showing the longitudinal trend at selected voxel\n",
    "\n",
    "def plot_timepoint_slices(data, figure, x, y, z, t=0, colormap='viridis', figsize=(15, 5)):\n",
    "    \"\"\"\n",
    "    Plots x,y,z slices at time point t.\n",
    "    \"\"\"\n",
    "    \n",
    "    coords = [x, y, z]\n",
    "    views = ['Sagittal', 'Coronal', 'Axial']\n",
    "    \n",
    "    axes = [figure.add_subplot(231), figure.add_subplot(232), figure.add_subplot(233),\n",
    "            figure.add_subplot(234)]\n",
    "    \n",
    "    \n",
    "    data = data.dataobj.get_unscaled()\n",
    "    print(data.shape)\n",
    "    for subplot in range(3):\n",
    "        slice_obj = 3 * [slice(None)] + [t]\n",
    "        slice_obj[subplot] = coords[subplot]\n",
    "\n",
    "        plt.sca(axes[subplot])\n",
    "        axes[subplot].set_facecolor('black')\n",
    "        axes[subplot].set_title(views[subplot])\n",
    "        axes[subplot].tick_params(\n",
    "            axis='both', which='both', bottom='off', top='off',\n",
    "            labelbottom='off', right='off', left='off', labelleft='off'\n",
    "            )\n",
    "        # fix the axis limits\n",
    "        axis_limits = [limit for i, limit in enumerate(data.shape)\n",
    "                       if i != subplot]\n",
    "        axes[subplot].set_xlim(0, axis_limits[0])\n",
    "        axes[subplot].set_ylim(0, axis_limits[1])\n",
    "\n",
    "        # plot the actual slice\n",
    "        if subplot == 0:\n",
    "            plt.imshow(np.flipud(np.rot90(data[slice_obj], k=1)),\n",
    "                       cmap=colormap)\n",
    "        else:\n",
    "            plt.imshow(np.rot90(data[slice_obj], k=3), cmap=colormap)\n",
    "        # draw guides to show where the other two slices are\n",
    "        guide_positions = [val for i, val in enumerate(coords)\n",
    "                           if i != subplot]\n",
    "        plt.axvline(x=guide_positions[0], color='gray', alpha=0.8)\n",
    "        plt.axhline(y=guide_positions[1], color='gray', alpha=0.8)\n",
    "\n",
    "    #plt.sca(axes[-1])\n",
    "    axes[-1].plot(range(data.shape[3]),data[x,y,z,:],'o-')\n",
    "    axes[-1].plot(t,data[x,y,z,t],'ro')\n",
    "    axes[-1].set_xlabel('Time point')\n",
    "    axes[-1].set_ylabel('Intensity')\n",
    "    \n",
    "    # show the plot\n",
    "    plt.show()\n",
    "    # print the value at that point in case people need to know\n",
    "    print('Value at point {x}, {y}, {z}, {t}: {intensity}'.format(\n",
    "        x=x, y=y, z=z, t=t, intensity=data[x, y, z, t]\n",
    "    ))"
   ]
  },
  {
   "cell_type": "code",
   "execution_count": null,
   "metadata": {
    "collapsed": true,
    "scrolled": false
   },
   "outputs": [],
   "source": [
    "# example volumetric 4D data:\n",
    "my_4D_widget = NiftiWidget(filename_4D)\n",
    "my_4D_widget.nifti_plotter(plotting_func=plot_timepoint_slices, \n",
    "                           x=IntSlider(90, min=0, max=181, continuous_update=False),\n",
    "                           y=IntSlider(100, min=0, max=217),\n",
    "                           z=IntSlider(90, min=0, max=181),\n",
    "                           t=IntSlider(min=0, max=3))"
   ]
  },
  {
   "cell_type": "code",
   "execution_count": null,
   "metadata": {
    "collapsed": true
   },
   "outputs": [],
   "source": [
    "# example surface 4D data:\n",
    "meshfile_lh_inflated = nhw+'/data/006/surf/lh.inflated'\n",
    "overlayfiles_lh = [nhw+'/data/006/surf/lh.thickness',nhw+'/data/006/surf/lh.curv']\n",
    "sw = niwidget_surface.SurfaceWidget(meshfile=meshfile_lh_inflated,\n",
    "                                    overlayfiles = overlayfiles_lh)\n",
    "sw.surface_plotter()\n",
    "sw.fig"
   ]
  },
  {
   "cell_type": "markdown",
   "metadata": {},
   "source": [
    "<b>CIFTI tools:</b>"
   ]
  },
  {
   "cell_type": "code",
   "execution_count": 421,
   "metadata": {},
   "outputs": [],
   "source": [
    "def cread(infile):\n",
    "    '''\n",
    "    Loads a cifti file and stores as five objects: data array, cifti header, nifti header, extra metadata, filemap\n",
    "    Example call:\n",
    "        cd,ch,cn,cx,cf=cread(path_to_cifti)\n",
    "    \n",
    "    Parameters\n",
    "    ----------\n",
    "    infile: str, Cifti2Image\n",
    "        string containing path to cifti file or an already loaded cifti object\n",
    "    '''\n",
    "    if isinstance(infile,nb.cifti2.cifti2.Cifti2Image):\n",
    "        try:\n",
    "            cin=infile\n",
    "        except:\n",
    "            raise ValueError('Please provide a valid cifti file.')\n",
    "    elif isinstance(infile,str):\n",
    "        if not os.path.exists(infile):\n",
    "            raise ValueError('File does not exist, please provide a valid path to a cifti file.')\n",
    "        try:\n",
    "            cin=nb.load(infile) # NB causes apparently benign warning as of NiBabel version 2.2.0dev\n",
    "        except:\n",
    "            raise ValueError('Please provide a valid cifti file.')\n",
    "    cdata=np.asarray(cin.get_data()).copy()\n",
    "    chead=cin.header.copy()\n",
    "    cnhdr=cin.nifti_header.copy()\n",
    "    cxtra=cin.extra.copy()\n",
    "    cfmap=cin.file_map.copy()\n",
    "    return cdata,chead,cnhdr,cxtra,cfmap"
   ]
  },
  {
   "cell_type": "code",
   "execution_count": 416,
   "metadata": {},
   "outputs": [
    {
     "name": "stderr",
     "output_type": "stream",
     "text": [
      "pixdim[1,2,3] should be non-zero; setting 0 dims to 1\n"
     ]
    },
    {
     "name": "stdout",
     "output_type": "stream",
     "text": [
      "(1200, 91282)\n"
     ]
    }
   ],
   "source": [
    "# cread example 1:\n",
    "cd,ch,cn,cx,cf=cread(path_ciftiTS)\n",
    "print(cd.data.shape)"
   ]
  },
  {
   "cell_type": "code",
   "execution_count": 493,
   "metadata": {
    "scrolled": true
   },
   "outputs": [
    {
     "name": "stdout",
     "output_type": "stream",
     "text": [
      "(1200, 91282)\n"
     ]
    }
   ],
   "source": [
    "# cread example 2:\n",
    "cd,ch,cn,cx,cf=cread(data_ciftiTS)\n",
    "print(cd.data.shape)"
   ]
  },
  {
   "cell_type": "code",
   "execution_count": 426,
   "metadata": {
    "collapsed": true
   },
   "outputs": [],
   "source": [
    "def csave(filename,cdata,chead,cnhdr=None,cxtra=None,cfmap=None,returnImg=False):\n",
    "    '''\n",
    "    Saves a cifti image from a collection of cifti substructures to file.\n",
    "    \n",
    "    Parameters\n",
    "    ----------\n",
    "    filename: str\n",
    "        string containing output file path\n",
    "    cdata: numpy ndarray\n",
    "        array containing data to be saved, can be 1D (single timepoint) or 2D (timeseries)\n",
    "    chead: Cifti2Header\n",
    "        cifti header data, generally extracted from a previously read cifti file\n",
    "    cnhdr: Nifti2Header (optional)\n",
    "        nifti header data, also generally extracted from a previously read cifti file\n",
    "    cxtra: dict (optional)\n",
    "        extra cifti metadata, generally empty\n",
    "    cfmap: dict (optional)\n",
    "        file map, generally contains the string 'image'\n",
    "    returnImg: bool\n",
    "        optionally return the compiled cifti object\n",
    "    '''\n",
    "    cout=nb.Cifti2Image(dataobj=cdata,header=chead,nifti_header=cnhdr, extra=cxtra, file_map=cfmap)\n",
    "    cout.to_filename(filename)\n",
    "    if returnImg is True:\n",
    "        return cout"
   ]
  },
  {
   "cell_type": "code",
   "execution_count": 429,
   "metadata": {},
   "outputs": [],
   "source": [
    "# csave example:\n",
    "output_cifti=nhw+'/save_demo.dtseries.nii'\n",
    "csave(output_cifti,cd,ch,cn,ch,cf)"
   ]
  },
  {
   "cell_type": "code",
   "execution_count": 437,
   "metadata": {
    "collapsed": true
   },
   "outputs": [],
   "source": [
    "def clthresh(data,thresh,setTo=0):\n",
    "    '''\n",
    "    Set all values below threshold for a cifti file to a given value (default 0).\n",
    "    \n",
    "    Parameters\n",
    "    ----------\n",
    "    data: numpy ndarray\n",
    "        array containing data to be thresholded\n",
    "    thresh: float\n",
    "        Threshold value (exclusive)\n",
    "    setTo: float\n",
    "        Value to which voxels/vertices are set if below the threshold, default 0\n",
    "    '''\n",
    "    # \n",
    "    lthr_data=data.copy()\n",
    "    lthr_data[lthr_data<thresh]=setTo\n",
    "    return lthr_data"
   ]
  },
  {
   "cell_type": "code",
   "execution_count": 438,
   "metadata": {
    "collapsed": true
   },
   "outputs": [],
   "source": [
    "def cuthresh(data,thresh,setto=0):\n",
    "    '''\n",
    "    Set all values above threshold for a cifti file to a given value (default 0).\n",
    "    \n",
    "    Parameters\n",
    "    ----------\n",
    "    data: numpy ndarray\n",
    "        array containing data to be thresholded\n",
    "    thresh: float\n",
    "        Threshold value (exclusive)\n",
    "    setTo: float\n",
    "        Value to which voxels/vertices are set if above the threshold, default 0\n",
    "    '''\n",
    "    # set all values above threshold to a given value (default 0)\n",
    "    uthr_data=data.copy()\n",
    "    uthr_data[uthr_data>thresh]=setto\n",
    "    return uthr_data"
   ]
  },
  {
   "cell_type": "code",
   "execution_count": 302,
   "metadata": {},
   "outputs": [
    {
     "data": {
      "image/png": "[encoded data removed]",
      "text/plain": [
       "<matplotlib.figure.Figure at 0x1179b47f0>"
      ]
     },
     "metadata": {},
     "output_type": "display_data"
    }
   ],
   "source": [
    "# clthresh/cuthresh example:\n",
    "p1=plt.hist(cd[np.nonzero(cd)], 64,[0,20000])"
   ]
  },
  {
   "cell_type": "code",
   "execution_count": 434,
   "metadata": {},
   "outputs": [],
   "source": [
    "tl12000_cd=clthresh(cd,12000)\n",
    "tu12000_cd=cuthresh(cd,12000)\n",
    "p1=plt.hist(tu12000_cd[np.nonzero(tu12000_cd)], 64, [0,20000],color='Orange')\n",
    "p1=plt.hist(tl12000_cd[np.nonzero(tl12000_cd)], 64, [0,20000],color='Green')\n",
    "output_cifti=nhw+'/thresh_demo.dtseries.nii'\n",
    "csave(output_cifti,tl12000_cd,ch,cn,cx,cf)"
   ]
  },
  {
   "cell_type": "code",
   "execution_count": 457,
   "metadata": {},
   "outputs": [],
   "source": [
    "def cmask(target,mask):\n",
    "    '''\n",
    "    Masks target cifti file with non-zero values of mask cifti file\n",
    "    \n",
    "    Parameters\n",
    "    ----------\n",
    "    target: numpy ndarray\n",
    "        numpy array containing cifti data to be masked\n",
    "    mask: numpy ndarray\n",
    "        numpy array containing cifti data to use as mask. Can be 1D or 2D, must match target spatial dimensions.\n",
    "    '''\n",
    "    masked_data=target.copy()\n",
    "    if target.shape != mask.shape:\n",
    "        mask=np.tile(mask,(target.shape[0],1))\n",
    "    masked_data[mask==0]=0 # NB could be sped up by using a data dictionary, not currently high-priority\n",
    "    return masked_data"
   ]
  },
  {
   "cell_type": "code",
   "execution_count": 305,
   "metadata": {},
   "outputs": [
    {
     "data": {
      "image/png": "[encoded data removed]",
      "text/plain": [
       "<matplotlib.figure.Figure at 0x12039c1d0>"
      ]
     },
     "metadata": {},
     "output_type": "display_data"
    }
   ],
   "source": [
    "# cmask example:\n",
    "plt.hist(cd[np.nonzero(cd)],64,[0,20000]);"
   ]
  },
  {
   "cell_type": "code",
   "execution_count": 464,
   "metadata": {},
   "outputs": [
    {
     "data": {
      "image/png": "[encoded data removed]",
      "text/plain": [
       "<matplotlib.figure.Figure at 0x120acd160>"
      ]
     },
     "metadata": {},
     "output_type": "display_data"
    }
   ],
   "source": [
    "masked3d=cmask(cd,tu12000_cd[0]) # masking 4d timeseries with single 3d timepoint\n",
    "plt.hist(masked3d[np.nonzero(masked3d)],64,[0,20000],color='Orange');"
   ]
  },
  {
   "cell_type": "code",
   "execution_count": 463,
   "metadata": {
    "scrolled": true
   },
   "outputs": [
    {
     "data": {
      "image/png": "[encoded data removed]",
      "text/plain": [
       "<matplotlib.figure.Figure at 0x117e117b8>"
      ]
     },
     "metadata": {},
     "output_type": "display_data"
    }
   ],
   "source": [
    "masked4d=cmask(cd,tu12000_cd)    # masking 4d timeseries with 4d timeseries\n",
    "plt.hist(masked4d[np.nonzero(masked4d)],64,[0,20000],color='Green');"
   ]
  },
  {
   "cell_type": "code",
   "execution_count": 308,
   "metadata": {},
   "outputs": [
    {
     "data": {
      "image/png": "[encoded data removed]",
      "text/plain": [
       "<matplotlib.figure.Figure at 0x10a666278>"
      ]
     },
     "metadata": {},
     "output_type": "display_data"
    }
   ],
   "source": [
    "tl8000_cd=clthresh(cd,8000)\n",
    "range4d=cmask(tl8000_cd,tu12000_cd)    # masking 4d timeseries with 4d timeseries\n",
    "plt.hist(range4d[np.nonzero(range4d)],64,[0,20000],color='Green');\n",
    "output_cifti=nhw+'/range_demo.dtseries.nii'\n",
    "csave(output_cifti,range4d,ch,cn,ch,cf)"
   ]
  },
  {
   "cell_type": "code",
   "execution_count": 629,
   "metadata": {},
   "outputs": [],
   "source": [
    "def cinfo(infile):\n",
    "    '''\n",
    "    Returns information about input cifti header\n",
    "    \n",
    "    Parameters\n",
    "    ----------\n",
    "    infile: str, Cifti2Image\n",
    "        string containing path to cifti file or an already loaded cifti object\n",
    "    verbose: bool\n",
    "        report relatively esoteric cifti header info\n",
    "    '''\n",
    "    if isinstance(infile,nb.cifti2.cifti2.Cifti2Header):\n",
    "        ch=infile\n",
    "    elif isinstance(infile,nb.cifti2.cifti2.Cifti2Image):\n",
    "        cin=infile\n",
    "        cd,ch,cn,cx,cf=cread(infile)\n",
    "    elif isinstance(infile,str):\n",
    "        if not os.path.exists(infile):\n",
    "            raise ValueError('File does not exist, please provide a valid path to a cifti file.')\n",
    "        try:\n",
    "            cd,ch,cn,cx,cf=cread(infile)\n",
    "        except:\n",
    "            raise ValueError('Please provide a valid cifti file.')\n",
    "    ch0=ch.get_index_map(0)\n",
    "    ch1=ch.get_index_map(1)\n",
    "    if ch.get_index_map(0).indices_map_to_data_type=='CIFTI_INDEX_TYPE_SERIES': # support for other cifti types pending\n",
    "        print('cifti data dype = fMRI timeseries')\n",
    "        me=ch1.volume.transformation_matrix_voxel_indices_ijk_to_xyz.meter_exponent\n",
    "        if me==-3:\n",
    "            units='MM'\n",
    "        else:\n",
    "            units='x10^{e} M'.format(e=me)\n",
    "        print('Xdim = {x} {u} x {xx}'.format(\n",
    "            x=np.abs(ch1.volume.transformation_matrix_voxel_indices_ijk_to_xyz.matrix[0,0]),\n",
    "            u=units,\n",
    "            xx=ch1.volume.volume_dimensions[0]))\n",
    "        print('Ydim = {y} {u} x {yy}'.format(\n",
    "            y=np.abs(ch1.volume.transformation_matrix_voxel_indices_ijk_to_xyz.matrix[1,1]),\n",
    "            u=units,\n",
    "            yy=ch1.volume.volume_dimensions[1]))\n",
    "        print('Zdim = {z} {u} x {zz}'.format(\n",
    "            z=np.abs(ch1.volume.transformation_matrix_voxel_indices_ijk_to_xyz.matrix[2,2]),\n",
    "            u=units,\n",
    "            zz=ch1.volume.volume_dimensions[2]))\n",
    "        print('Tdim = {y} {z} x {t}'.format(\n",
    "            y=ch.get_index_map(0).series_step,\n",
    "            z=ch.get_index_map(0).series_unit,\n",
    "            t=ch.get_index_map(0).number_of_series_points))\n",
    "    disp=[]\n",
    "    voxels=0\n",
    "    print('INDEX      OFFSET     SIZE       STRUCTURE')\n",
    "    for idx, bm in enumerate(ch1.brain_models):\n",
    "        disp.append([idx,bm.index_offset,bm.index_count,bm.brain_structure])\n",
    "        if bm.model_type=='CIFTI_MODEL_TYPE_VOXELS':\n",
    "            voxels=voxels+bm.index_count\n",
    "    col_width = max(len(str(word)) for row in disp for word in row) + 2  # padding\n",
    "    for row in disp:\n",
    "        print(\"{: <10} {: <10} {: <10} {: <20}\".format(*row))\n",
    "    print('total left cortex vertices = {lv} of {lt}'.format(\n",
    "        lv=list(ch1.brain_models)[0].index_count,\n",
    "        lt=list(ch1.brain_models)[0].surface_number_of_vertices))\n",
    "    print('total right cortex vertices = {rv} of {rt}'.format(\n",
    "        rv=list(ch1.brain_models)[1].index_count,\n",
    "        rt=list(ch1.brain_models)[1].surface_number_of_vertices))\n",
    "    print('total subcortical voxels = {v}'.format(v=voxels))\n",
    "    print('total data points = {total}'.format(\n",
    "        total=list(ch1.brain_models)[0].index_count+list(ch1.brain_models)[1].index_count+voxels))"
   ]
  },
  {
   "cell_type": "code",
   "execution_count": 630,
   "metadata": {
    "scrolled": true
   },
   "outputs": [
    {
     "name": "stderr",
     "output_type": "stream",
     "text": [
      "pixdim[1,2,3] should be non-zero; setting 0 dims to 1\n",
      "WARNING:nibabel.global:pixdim[1,2,3] should be non-zero; setting 0 dims to 1\n"
     ]
    },
    {
     "name": "stdout",
     "output_type": "stream",
     "text": [
      "cifti data dype = fMRI timeseries\n",
      "Xdim = 2.0 MM x 91\n",
      "Ydim = 2.0 MM x 109\n",
      "Zdim = 2.0 MM x 91\n",
      "Tdim = 0.72 SECOND x 1200\n",
      "INDEX      OFFSET     SIZE       STRUCTURE\n",
      "0          0          29696      CIFTI_STRUCTURE_CORTEX_LEFT\n",
      "1          29696      29716      CIFTI_STRUCTURE_CORTEX_RIGHT\n",
      "2          59412      135        CIFTI_STRUCTURE_ACCUMBENS_LEFT\n",
      "3          59547      140        CIFTI_STRUCTURE_ACCUMBENS_RIGHT\n",
      "4          59687      315        CIFTI_STRUCTURE_AMYGDALA_LEFT\n",
      "5          60002      332        CIFTI_STRUCTURE_AMYGDALA_RIGHT\n",
      "6          60334      3472       CIFTI_STRUCTURE_BRAIN_STEM\n",
      "7          63806      728        CIFTI_STRUCTURE_CAUDATE_LEFT\n",
      "8          64534      755        CIFTI_STRUCTURE_CAUDATE_RIGHT\n",
      "9          65289      8709       CIFTI_STRUCTURE_CEREBELLUM_LEFT\n",
      "10         73998      9144       CIFTI_STRUCTURE_CEREBELLUM_RIGHT\n",
      "11         83142      706        CIFTI_STRUCTURE_DIENCEPHALON_VENTRAL_LEFT\n",
      "12         83848      712        CIFTI_STRUCTURE_DIENCEPHALON_VENTRAL_RIGHT\n",
      "13         84560      764        CIFTI_STRUCTURE_HIPPOCAMPUS_LEFT\n",
      "14         85324      795        CIFTI_STRUCTURE_HIPPOCAMPUS_RIGHT\n",
      "15         86119      297        CIFTI_STRUCTURE_PALLIDUM_LEFT\n",
      "16         86416      260        CIFTI_STRUCTURE_PALLIDUM_RIGHT\n",
      "17         86676      1060       CIFTI_STRUCTURE_PUTAMEN_LEFT\n",
      "18         87736      1010       CIFTI_STRUCTURE_PUTAMEN_RIGHT\n",
      "19         88746      1288       CIFTI_STRUCTURE_THALAMUS_LEFT\n",
      "20         90034      1248       CIFTI_STRUCTURE_THALAMUS_RIGHT\n",
      "total left cortex vertices = 29696 of 32492\n",
      "total right cortex vertices = 29716 of 32492\n",
      "total subcortical voxels = 31870\n",
      "total data points = 91282\n",
      "None\n",
      "cifti data dype = fMRI timeseries\n",
      "Xdim = 2.0 MM x 91\n",
      "Ydim = 2.0 MM x 109\n",
      "Zdim = 2.0 MM x 91\n",
      "Tdim = 0.72 SECOND x 1200\n",
      "INDEX      OFFSET     SIZE       STRUCTURE\n",
      "0          0          29696      CIFTI_STRUCTURE_CORTEX_LEFT\n",
      "1          29696      29716      CIFTI_STRUCTURE_CORTEX_RIGHT\n",
      "2          59412      135        CIFTI_STRUCTURE_ACCUMBENS_LEFT\n",
      "3          59547      140        CIFTI_STRUCTURE_ACCUMBENS_RIGHT\n",
      "4          59687      315        CIFTI_STRUCTURE_AMYGDALA_LEFT\n",
      "5          60002      332        CIFTI_STRUCTURE_AMYGDALA_RIGHT\n",
      "6          60334      3472       CIFTI_STRUCTURE_BRAIN_STEM\n",
      "7          63806      728        CIFTI_STRUCTURE_CAUDATE_LEFT\n",
      "8          64534      755        CIFTI_STRUCTURE_CAUDATE_RIGHT\n",
      "9          65289      8709       CIFTI_STRUCTURE_CEREBELLUM_LEFT\n",
      "10         73998      9144       CIFTI_STRUCTURE_CEREBELLUM_RIGHT\n",
      "11         83142      706        CIFTI_STRUCTURE_DIENCEPHALON_VENTRAL_LEFT\n",
      "12         83848      712        CIFTI_STRUCTURE_DIENCEPHALON_VENTRAL_RIGHT\n",
      "13         84560      764        CIFTI_STRUCTURE_HIPPOCAMPUS_LEFT\n",
      "14         85324      795        CIFTI_STRUCTURE_HIPPOCAMPUS_RIGHT\n",
      "15         86119      297        CIFTI_STRUCTURE_PALLIDUM_LEFT\n",
      "16         86416      260        CIFTI_STRUCTURE_PALLIDUM_RIGHT\n",
      "17         86676      1060       CIFTI_STRUCTURE_PUTAMEN_LEFT\n",
      "18         87736      1010       CIFTI_STRUCTURE_PUTAMEN_RIGHT\n",
      "19         88746      1288       CIFTI_STRUCTURE_THALAMUS_LEFT\n",
      "20         90034      1248       CIFTI_STRUCTURE_THALAMUS_RIGHT\n",
      "total left cortex vertices = 29696 of 32492\n",
      "total right cortex vertices = 29716 of 32492\n",
      "total subcortical voxels = 31870\n",
      "total data points = 91282\n",
      "None\n",
      "cifti data dype = fMRI timeseries\n",
      "Xdim = 2.0 MM x 91\n",
      "Ydim = 2.0 MM x 109\n",
      "Zdim = 2.0 MM x 91\n",
      "Tdim = 0.72 SECOND x 1200\n",
      "INDEX      OFFSET     SIZE       STRUCTURE\n",
      "0          0          29696      CIFTI_STRUCTURE_CORTEX_LEFT\n",
      "1          29696      29716      CIFTI_STRUCTURE_CORTEX_RIGHT\n",
      "2          59412      135        CIFTI_STRUCTURE_ACCUMBENS_LEFT\n",
      "3          59547      140        CIFTI_STRUCTURE_ACCUMBENS_RIGHT\n",
      "4          59687      315        CIFTI_STRUCTURE_AMYGDALA_LEFT\n",
      "5          60002      332        CIFTI_STRUCTURE_AMYGDALA_RIGHT\n",
      "6          60334      3472       CIFTI_STRUCTURE_BRAIN_STEM\n",
      "7          63806      728        CIFTI_STRUCTURE_CAUDATE_LEFT\n",
      "8          64534      755        CIFTI_STRUCTURE_CAUDATE_RIGHT\n",
      "9          65289      8709       CIFTI_STRUCTURE_CEREBELLUM_LEFT\n",
      "10         73998      9144       CIFTI_STRUCTURE_CEREBELLUM_RIGHT\n",
      "11         83142      706        CIFTI_STRUCTURE_DIENCEPHALON_VENTRAL_LEFT\n",
      "12         83848      712        CIFTI_STRUCTURE_DIENCEPHALON_VENTRAL_RIGHT\n",
      "13         84560      764        CIFTI_STRUCTURE_HIPPOCAMPUS_LEFT\n",
      "14         85324      795        CIFTI_STRUCTURE_HIPPOCAMPUS_RIGHT\n",
      "15         86119      297        CIFTI_STRUCTURE_PALLIDUM_LEFT\n",
      "16         86416      260        CIFTI_STRUCTURE_PALLIDUM_RIGHT\n",
      "17         86676      1060       CIFTI_STRUCTURE_PUTAMEN_LEFT\n",
      "18         87736      1010       CIFTI_STRUCTURE_PUTAMEN_RIGHT\n",
      "19         88746      1288       CIFTI_STRUCTURE_THALAMUS_LEFT\n",
      "20         90034      1248       CIFTI_STRUCTURE_THALAMUS_RIGHT\n",
      "total left cortex vertices = 29696 of 32492\n",
      "total right cortex vertices = 29716 of 32492\n",
      "total subcortical voxels = 31870\n",
      "total data points = 91282\n",
      "None\n"
     ]
    }
   ],
   "source": [
    "# cinfo examples:\n",
    "print(cinfo(path_ciftiTS))\n",
    "#print(cinfo(data_ciftiTS))\n",
    "#print(cinfo(ch))"
   ]
  },
  {
   "cell_type": "code",
   "execution_count": 552,
   "metadata": {
    "collapsed": true
   },
   "outputs": [],
   "source": [
    "def cvoxels(header,MNI=True,trim=False):\n",
    "    '''\n",
    "    Returns array where each element is an array of coordinates for a particular cifti brain structure.\n",
    "    Coordinates can be voxel indices (i,j,k) or MNI coordinates (x,y,z; default).\n",
    "    \n",
    "    Parameters\n",
    "    ----------\n",
    "    header: Cifti2Header\n",
    "        cifti header object containing the voxel index mapping and list of brain structures\n",
    "    MNI: bool\n",
    "        True returns MNI coordinates, False returns voxel indices, default=True\n",
    "    trim: bool\n",
    "        removes array elements corresponding to cortical surfaces, default=False\n",
    "    '''\n",
    "    if not isinstance(header,nb.cifti2.cifti2.Cifti2Header):\n",
    "        raise ValueError('Please provide a valid cifti header.')\n",
    "\n",
    "    ch1=header.get_index_map(1)\n",
    "    voxarray=[]\n",
    "    if MNI is True:\n",
    "        from nibabel.affines import apply_affine\n",
    "        warp=ch1.volume.transformation_matrix_voxel_indices_ijk_to_xyz.matrix\n",
    "    for idx, bm in enumerate(ch1.brain_models):\n",
    "        if bm.model_type=='CIFTI_MODEL_TYPE_VOXELS':\n",
    "            if MNI is False:\n",
    "                voxarray.append(np.asarray(bm.voxel_indices_ijk))\n",
    "            else:\n",
    "                voxarray.append(apply_affine(warp,bm.voxel_indices_ijk))\n",
    "        else:\n",
    "            if trim is False:\n",
    "                voxarray.append([[],[],[]])\n",
    "    return np.asarray(voxarray)"
   ]
  },
  {
   "cell_type": "code",
   "execution_count": 562,
   "metadata": {},
   "outputs": [
    {
     "name": "stdout",
     "output_type": "stream",
     "text": [
      "[49 66 28] [ -8.   6. -16.]\n",
      "[50 66 28] [-10.   6. -16.]\n",
      "[48 67 28] [ -6.   8. -16.]\n",
      "[49 67 28] [ -8.   8. -16.]\n",
      "[50 67 28] [-10.   8. -16.]\n",
      "[48 65 29] [ -6.   4. -14.]\n",
      "[49 65 29] [ -8.   4. -14.]\n",
      "[50 65 29] [-10.   4. -14.]\n",
      "[48 66 29] [ -6.   6. -14.]\n",
      "[49 66 29] [ -8.   6. -14.]\n",
      "[50 66 29] [-10.   6. -14.]\n",
      "[48 67 29] [ -6.   8. -14.]\n",
      "[49 67 29] [ -8.   8. -14.]\n",
      "[50 67 29] [-10.   8. -14.]\n",
      "[50 64 30] [-10.   2. -12.]\n",
      "[47 65 30] [ -4.   4. -12.]\n",
      "[48 65 30] [ -6.   4. -12.]\n",
      "[49 65 30] [ -8.   4. -12.]\n",
      "[50 65 30] [-10.   4. -12.]\n",
      "[47 66 30] [ -4.   6. -12.]\n",
      "[48 66 30] [ -6.   6. -12.]\n",
      "[49 66 30] [ -8.   6. -12.]\n",
      "[50 66 30] [-10.   6. -12.]\n",
      "[47 67 30] [ -4.   8. -12.]\n",
      "[48 67 30] [ -6.   8. -12.]\n",
      "[49 67 30] [ -8.   8. -12.]\n",
      "[50 67 30] [-10.   8. -12.]\n",
      "[48 68 30] [ -6.  10. -12.]\n",
      "[49 68 30] [ -8.  10. -12.]\n",
      "[50 68 30] [-10.  10. -12.]\n",
      "[51 68 30] [-12.  10. -12.]\n",
      "[50 69 30] [-10.  12. -12.]\n",
      "[51 69 30] [-12.  12. -12.]\n",
      "[47 65 31] [ -4.   4. -10.]\n",
      "[48 65 31] [ -6.   4. -10.]\n",
      "[49 65 31] [ -8.   4. -10.]\n",
      "[50 65 31] [-10.   4. -10.]\n",
      "[47 66 31] [ -4.   6. -10.]\n",
      "[48 66 31] [ -6.   6. -10.]\n",
      "[49 66 31] [ -8.   6. -10.]\n",
      "[50 66 31] [-10.   6. -10.]\n",
      "[47 67 31] [ -4.   8. -10.]\n",
      "[48 67 31] [ -6.   8. -10.]\n",
      "[49 67 31] [ -8.   8. -10.]\n",
      "[50 67 31] [-10.   8. -10.]\n",
      "[47 68 31] [ -4.  10. -10.]\n",
      "[48 68 31] [ -6.  10. -10.]\n",
      "[49 68 31] [ -8.  10. -10.]\n",
      "[50 68 31] [-10.  10. -10.]\n",
      "[51 68 31] [-12.  10. -10.]\n",
      "[48 69 31] [ -6.  12. -10.]\n",
      "[49 69 31] [ -8.  12. -10.]\n",
      "[50 69 31] [-10.  12. -10.]\n",
      "[51 69 31] [-12.  12. -10.]\n",
      "[49 70 31] [ -8.  14. -10.]\n",
      "[50 70 31] [-10.  14. -10.]\n",
      "[51 70 31] [-12.  14. -10.]\n",
      "[52 70 31] [-14.  14. -10.]\n",
      "[50 71 31] [-10.  16. -10.]\n",
      "[51 71 31] [-12.  16. -10.]\n",
      "[52 71 31] [-14.  16. -10.]\n",
      "[47 65 32] [-4.  4. -8.]\n",
      "[48 65 32] [-6.  4. -8.]\n",
      "[49 65 32] [-8.  4. -8.]\n",
      "[47 66 32] [-4.  6. -8.]\n",
      "[48 66 32] [-6.  6. -8.]\n",
      "[49 66 32] [-8.  6. -8.]\n",
      "[50 66 32] [-10.   6.  -8.]\n",
      "[47 67 32] [-4.  8. -8.]\n",
      "[48 67 32] [-6.  8. -8.]\n",
      "[49 67 32] [-8.  8. -8.]\n",
      "[50 67 32] [-10.   8.  -8.]\n",
      "[47 68 32] [ -4.  10.  -8.]\n",
      "[48 68 32] [ -6.  10.  -8.]\n",
      "[49 68 32] [ -8.  10.  -8.]\n",
      "[50 68 32] [-10.  10.  -8.]\n",
      "[48 69 32] [ -6.  12.  -8.]\n",
      "[49 69 32] [ -8.  12.  -8.]\n",
      "[50 69 32] [-10.  12.  -8.]\n",
      "[51 69 32] [-12.  12.  -8.]\n",
      "[48 70 32] [ -6.  14.  -8.]\n",
      "[49 70 32] [ -8.  14.  -8.]\n",
      "[50 70 32] [-10.  14.  -8.]\n",
      "[51 70 32] [-12.  14.  -8.]\n",
      "[52 70 32] [-14.  14.  -8.]\n",
      "[49 71 32] [ -8.  16.  -8.]\n",
      "[50 71 32] [-10.  16.  -8.]\n",
      "[51 71 32] [-12.  16.  -8.]\n",
      "[52 71 32] [-14.  16.  -8.]\n",
      "[47 65 33] [-4.  4. -6.]\n",
      "[48 65 33] [-6.  4. -6.]\n",
      "[47 66 33] [-4.  6. -6.]\n",
      "[48 66 33] [-6.  6. -6.]\n",
      "[46 67 33] [-2.  8. -6.]\n",
      "[47 67 33] [-4.  8. -6.]\n",
      "[48 67 33] [-6.  8. -6.]\n",
      "[47 68 33] [ -4.  10.  -6.]\n",
      "[48 68 33] [ -6.  10.  -6.]\n",
      "[47 69 33] [ -4.  12.  -6.]\n",
      "[48 69 33] [ -6.  12.  -6.]\n",
      "[48 70 33] [ -6.  14.  -6.]\n",
      "[49 70 33] [ -8.  14.  -6.]\n",
      "[49 71 33] [ -8.  16.  -6.]\n",
      "[50 71 33] [-10.  16.  -6.]\n",
      "[49 72 33] [ -8.  18.  -6.]\n",
      "[50 72 33] [-10.  18.  -6.]\n",
      "[47 65 34] [-4.  4. -4.]\n",
      "[48 65 34] [-6.  4. -4.]\n",
      "[46 66 34] [-2.  6. -4.]\n",
      "[47 66 34] [-4.  6. -4.]\n",
      "[48 66 34] [-6.  6. -4.]\n",
      "[46 67 34] [-2.  8. -4.]\n",
      "[47 67 34] [-4.  8. -4.]\n",
      "[48 67 34] [-6.  8. -4.]\n",
      "[46 68 34] [ -2.  10.  -4.]\n",
      "[47 68 34] [ -4.  10.  -4.]\n",
      "[48 68 34] [ -6.  10.  -4.]\n",
      "[47 69 34] [ -4.  12.  -4.]\n",
      "[48 69 34] [ -6.  12.  -4.]\n",
      "[48 70 34] [ -6.  14.  -4.]\n",
      "[48 71 34] [ -6.  16.  -4.]\n",
      "[49 71 34] [ -8.  16.  -4.]\n",
      "[50 71 34] [-10.  16.  -4.]\n",
      "[49 72 34] [ -8.  18.  -4.]\n",
      "[50 72 34] [-10.  18.  -4.]\n",
      "[47 65 35] [-4.  4. -2.]\n",
      "[46 66 35] [-2.  6. -2.]\n",
      "[47 66 35] [-4.  6. -2.]\n",
      "[46 67 35] [-2.  8. -2.]\n",
      "[47 67 35] [-4.  8. -2.]\n",
      "[47 68 35] [ -4.  10.  -2.]\n",
      "[47 69 35] [ -4.  12.  -2.]\n",
      "[47 70 35] [ -4.  14.  -2.]\n",
      "[48 71 35] [ -6.  16.  -2.]\n",
      "[48 72 35] [ -6.  18.  -2.]\n"
     ]
    }
   ],
   "source": [
    "# cvoxels example:\n",
    "for i in range(0,len(cvoxels(ch,MNI=False,trim=True)[0])):\n",
    "    print(cvoxels(ch,MNI=False,trim=True)[0][i], cvoxels(ch,MNI=True,trim=True)[0][i])"
   ]
  },
  {
   "cell_type": "code",
   "execution_count": 633,
   "metadata": {
    "collapsed": true
   },
   "outputs": [],
   "source": [
    "def csplit(incifti,gii=False):\n",
    "    '''\n",
    "    Split cifti overlay into separate left surface, right surface, and subcortical voxel arrays.\n",
    "    \n",
    "    Parameters\n",
    "    ----------\n",
    "    incifti: str, Cifti2Image\n",
    "        string containing path to cifti file or an already loaded cifti object\n",
    "    gii: bool\n",
    "        returns surfaces as GiftiImage objects, default=False\n",
    "    '''\n",
    "    if isinstance(incifti,nb.cifti2.cifti2.Cifti2Image):\n",
    "        cd=np.asarray(incifti.get_data()).copy()\n",
    "        ch=incifti.header.copy()\n",
    "    elif isinstance(incifti,str):\n",
    "        if not os.path.exists(incifti):\n",
    "            raise ValueError('File does not exist, please provide a valid path to a cifti file.')\n",
    "        try:\n",
    "            cd,ch,cn,cx,cf=cread(incifti)\n",
    "        except:\n",
    "            raise ValueError('Please provide a valid cifti file.')   \n",
    "    mim = ch.matrix[1]\n",
    "    bm1 = list(mim.brain_models)[0]\n",
    "    bm2 = list(mim.brain_models)[1]\n",
    "    lidx = list(bm1.vertex_indices)\n",
    "    ridx = [bm1.surface_number_of_vertices + val for val in bm2.vertex_indices]\n",
    "    bidx = np.concatenate((lidx, ridx))\n",
    "    # split cifti overlay into left surface, right surface, and subcortical volume\n",
    "    clh=cd[:,0:len(lidx)]\n",
    "    crh=cd[:,len(lidx):len(lidx)+len(ridx)+1]\n",
    "    csc=cd[:,len(lidx)+len(ridx)+1:cd.shape[1]]\n",
    "    if gii is True:\n",
    "        glh=nb.gifti.gifti.GiftiImage()\n",
    "        grh=nb.gifti.gifti.GiftiImage()\n",
    "        glh.add_gifti_data_array(nb.gifti.gifti.GiftiDataArray(clh))\n",
    "        grh.add_gifti_data_array(nb.gifti.gifti.GiftiDataArray(crh))\n",
    "        left=glh\n",
    "        right=grh\n",
    "    else:\n",
    "        left=clh\n",
    "        right=crh\n",
    "    sub=csc # option for .nii format subcortex data pending\n",
    "    return left, right, sub"
   ]
  },
  {
   "cell_type": "code",
   "execution_count": 649,
   "metadata": {},
   "outputs": [
    {
     "data": {
      "application/vnd.jupyter.widget-view+json": {
       "model_id": "f437c5b661d64faaa0da5ab143fe221f",
       "version_major": 2,
       "version_minor": 0
      },
      "text/plain": [
       "A Jupyter Widget"
      ]
     },
     "metadata": {},
     "output_type": "display_data"
    }
   ],
   "source": [
    "# csplit example 1:\n",
    "a,b,c=csplit(data_ciftiTS,gii=True)\n",
    "aa=mwpad(a,data_lh_myelin,frame=0)\n",
    "bb=mwpad(b,data_rh_myelin,frame=0)\n",
    "fig2=showSurface(data_lh,aa,showZeroes=False)\n",
    "fig2=showSurface(data_rh,bb,showZeroes=False,newfigure=False)"
   ]
  },
  {
   "cell_type": "code",
   "execution_count": 650,
   "metadata": {},
   "outputs": [
    {
     "data": {
      "application/vnd.jupyter.widget-view+json": {
       "model_id": "1ff4a28a136d4f878eb85152faf6da25",
       "version_major": 2,
       "version_minor": 0
      },
      "text/plain": [
       "A Jupyter Widget"
      ]
     },
     "metadata": {},
     "output_type": "display_data"
    }
   ],
   "source": [
    "# csplit example 2:\n",
    "aaa=mwpad(a,data_lh_myelin,frame=0)\n",
    "fig3=showSurface(data_lh,aaa,showZeroes=False)\n",
    "for x in range(1,10):\n",
    "    time.sleep(1)\n",
    "    aaa=mwpad(a,data_lh_myelin,frame=x)\n",
    "    fig3=showSurface(data_lh,aaa,showZeroes=False,newfigure=False)"
   ]
  },
  {
   "cell_type": "code",
   "execution_count": 651,
   "metadata": {},
   "outputs": [
    {
     "data": {
      "application/vnd.jupyter.widget-view+json": {
       "model_id": "d87fe97224cd4f0aa067075879fc01f1",
       "version_major": 2,
       "version_minor": 0
      },
      "text/plain": [
       "A Jupyter Widget"
      ]
     },
     "metadata": {},
     "output_type": "display_data"
    }
   ],
   "source": [
    "# csplit example 2:\n",
    "thrl,thrr,thrs=csplit(nhw+'/thresh_demo.dtseries.nii',gii=True)\n",
    "aaa=mwpad(thrl,data_lh_myelin,frame=0)\n",
    "fig4=showSurface(data_lh,aaa,showZeroes=False)\n",
    "for x in range(1,10):\n",
    "    time.sleep(1)\n",
    "    aaa=mwpad(thrl,data_lh_myelin,frame=x)\n",
    "    fig4=showSurface(data_lh,aaa,showZeroes=False,newfigure=False)"
   ]
  },
  {
   "cell_type": "code",
   "execution_count": 637,
   "metadata": {},
   "outputs": [
    {
     "data": {
      "application/vnd.jupyter.widget-view+json": {
       "model_id": "e6d93da3b5d040b0aa17aceae2d0b26a",
       "version_major": 2,
       "version_minor": 0
      },
      "text/plain": [
       "A Jupyter Widget"
      ]
     },
     "metadata": {},
     "output_type": "display_data"
    }
   ],
   "source": [
    "d=nb.cifti2.cifti2.Cifti2Image(dataobj=range4d, header=ch, nifti_header=cn, extra=cx, file_map=cf)\n",
    "dl,dr,ds=csplit(d,gii=True)\n",
    "ddl=mwpad(dl,data_lh_myelin)\n",
    "fig4=showSurface(data_lh,aa,showZeroes=False)\n",
    "time.sleep(5)\n",
    "fig4=showSurface(data_lh,ddl,showZeroes=False,newfigure=False,colormap='autumn')"
   ]
  },
  {
   "cell_type": "markdown",
   "metadata": {},
   "source": [
    "Other stuff still in development:"
   ]
  },
  {
   "cell_type": "code",
   "execution_count": 314,
   "metadata": {
    "collapsed": true
   },
   "outputs": [],
   "source": [
    "def cplot(coverlay,lsurf,rsurf,subvol,colormap):\n",
    "    # plots cifti overlay data with specified color on surfaces/subcortex\n",
    "    # lsurf and rsurf should be .surf.gii files matched to the number of vertices in each cifti hemisphere\n",
    "    # subvol should be a HCP-style subcortical volume (e.g. Atlas_ROIs.2.nii.gz)\n",
    "    \n",
    "    # import packages\n",
    "    import nibabel as nb\n",
    "    import matplotlib.pyplot as plt\n",
    "    import ipyvolume\n",
    "    import ipyvolume.pylab as p3\n",
    "    import numpy as np\n",
    "    \n",
    "    # read input files\n",
    "    ls=nb.load(lsurf)\n",
    "    rs=nb.load(rsurf)\n",
    "    sv=nb.load(subvol)\n",
    "    \n",
    "    # parse surface structure\n",
    "    lxyz=ls.darrays[0]\n",
    "    rxyz=rs.darrays[0]\n",
    "    lmesh=ls.darrays[1]\n",
    "    rmesh=rs.darrays[1]\n",
    "    \n",
    "    # plot\n",
    "    showSurface(lsurf,coverlay,showZeroes=False)\n",
    "    \n",
    "#    return 1\n",
    "    "
   ]
  },
  {
   "cell_type": "code",
   "execution_count": null,
   "metadata": {},
   "outputs": [],
   "source": [
    "%whos"
   ]
  },
  {
   "cell_type": "code",
   "execution_count": 658,
   "metadata": {},
   "outputs": [
    {
     "ename": "NameError",
     "evalue": "name 'overlay' is not defined",
     "output_type": "error",
     "traceback": [
      "\u001b[0;31m---------------------------------------------------------------------------\u001b[0m",
      "\u001b[0;31mNameError\u001b[0m                                 Traceback (most recent call last)",
      "\u001b[0;32m<ipython-input-658-e59157abfc4d>\u001b[0m in \u001b[0;36m<module>\u001b[0;34m()\u001b[0m\n\u001b[1;32m      1\u001b[0m \u001b[0;31m# WARNING: still in development\u001b[0m\u001b[0;34m\u001b[0m\u001b[0;34m\u001b[0m\u001b[0m\n\u001b[0;32m----> 2\u001b[0;31m \u001b[0;32mif\u001b[0m \u001b[0misinstance\u001b[0m\u001b[0;34m(\u001b[0m\u001b[0moverlay\u001b[0m\u001b[0;34m,\u001b[0m\u001b[0mnb\u001b[0m\u001b[0;34m.\u001b[0m\u001b[0mcifti2\u001b[0m\u001b[0;34m.\u001b[0m\u001b[0mcifti2\u001b[0m\u001b[0;34m.\u001b[0m\u001b[0mCifti2Image\u001b[0m\u001b[0;34m)\u001b[0m\u001b[0;34m:\u001b[0m\u001b[0;34m\u001b[0m\u001b[0m\n\u001b[0m\u001b[1;32m      3\u001b[0m     \u001b[0;32mtry\u001b[0m\u001b[0;34m:\u001b[0m\u001b[0;34m\u001b[0m\u001b[0m\n\u001b[1;32m      4\u001b[0m         \u001b[0mleft\u001b[0m\u001b[0;34m,\u001b[0m\u001b[0mright\u001b[0m\u001b[0;34m,\u001b[0m\u001b[0msub\u001b[0m\u001b[0;34m=\u001b[0m\u001b[0mcsplit\u001b[0m\u001b[0;34m(\u001b[0m\u001b[0moverlay\u001b[0m\u001b[0;34m)\u001b[0m\u001b[0;34m\u001b[0m\u001b[0m\n\u001b[1;32m      5\u001b[0m         \u001b[0mactivation\u001b[0m\u001b[0;34m=\u001b[0m\u001b[0mleft\u001b[0m\u001b[0;34m[\u001b[0m\u001b[0;36m0\u001b[0m\u001b[0;34m]\u001b[0m\u001b[0;34m\u001b[0m\u001b[0m\n",
      "\u001b[0;31mNameError\u001b[0m: name 'overlay' is not defined"
     ]
    }
   ],
   "source": [
    "    # WARNING: still in development\n",
    "    if isinstance(overlay,nb.cifti2.cifti2.Cifti2Image):\n",
    "        try:\n",
    "            left,right,sub=csplit(overlay)\n",
    "            activation=left[0]\n",
    "        except:\n",
    "            raise ValueError('Please provide a valid cifti file.')"
   ]
  },
  {
   "cell_type": "code",
   "execution_count": 663,
   "metadata": {},
   "outputs": [
    {
     "name": "stdout",
     "output_type": "stream",
     "text": [
      "Once deleted, variables cannot be recovered. Proceed (y/[n])?  y\n"
     ]
    }
   ],
   "source": [
    "reset_selective cplt"
   ]
  },
  {
   "cell_type": "code",
   "execution_count": 664,
   "metadata": {},
   "outputs": [
    {
     "ename": "NameError",
     "evalue": "name 'p3' is not defined",
     "output_type": "error",
     "traceback": [
      "\u001b[0;31m---------------------------------------------------------------------------\u001b[0m",
      "\u001b[0;31mNameError\u001b[0m                                 Traceback (most recent call last)",
      "\u001b[0;32m<ipython-input-664-729d1f28de1f>\u001b[0m in \u001b[0;36m<module>\u001b[0;34m()\u001b[0m\n\u001b[1;32m      2\u001b[0m \u001b[0;32mimport\u001b[0m \u001b[0mciftiplot\u001b[0m \u001b[0;32mas\u001b[0m \u001b[0mcplt\u001b[0m\u001b[0;34m\u001b[0m\u001b[0m\n\u001b[1;32m      3\u001b[0m \u001b[0;34m\u001b[0m\u001b[0m\n\u001b[0;32m----> 4\u001b[0;31m \u001b[0mcplt\u001b[0m\u001b[0;34m.\u001b[0m\u001b[0mshowSurface\u001b[0m\u001b[0;34m(\u001b[0m\u001b[0mdata_lh\u001b[0m\u001b[0;34m,\u001b[0m\u001b[0mdata_lh_myelin\u001b[0m\u001b[0;34m)\u001b[0m\u001b[0;34m\u001b[0m\u001b[0m\n\u001b[0m",
      "\u001b[0;32m/Users/ely/Desktop/nhw2017/NHW_visualization/ciftiplot.py\u001b[0m in \u001b[0;36mshowSurface\u001b[0;34m(surface, overlay, frame, newfigure, colormap, figsize, figlims, showZeroes)\u001b[0m\n\u001b[1;32m     95\u001b[0m \u001b[0;34m\u001b[0m\u001b[0m\n\u001b[1;32m     96\u001b[0m     \u001b[0;32mif\u001b[0m \u001b[0mnewfigure\u001b[0m\u001b[0;34m:\u001b[0m\u001b[0;34m\u001b[0m\u001b[0m\n\u001b[0;32m---> 97\u001b[0;31m \u001b[0;34m\u001b[0m\u001b[0m\n\u001b[0m\u001b[1;32m     98\u001b[0m         \u001b[0mfig\u001b[0m \u001b[0;34m=\u001b[0m \u001b[0mipyvolume\u001b[0m\u001b[0;34m.\u001b[0m\u001b[0mpylab\u001b[0m\u001b[0;34m.\u001b[0m\u001b[0mfigure\u001b[0m\u001b[0;34m(\u001b[0m\u001b[0mwidth\u001b[0m\u001b[0;34m=\u001b[0m\u001b[0mfigsize\u001b[0m\u001b[0;34m[\u001b[0m\u001b[0;36m0\u001b[0m\u001b[0;34m]\u001b[0m\u001b[0;34m,\u001b[0m \u001b[0mheight\u001b[0m\u001b[0;34m=\u001b[0m\u001b[0mfigsize\u001b[0m\u001b[0;34m[\u001b[0m\u001b[0;36m1\u001b[0m\u001b[0;34m]\u001b[0m\u001b[0;34m)\u001b[0m\u001b[0;34m\u001b[0m\u001b[0m\n\u001b[1;32m     99\u001b[0m         \u001b[0mfig\u001b[0m\u001b[0;34m.\u001b[0m\u001b[0mcamera_fov\u001b[0m \u001b[0;34m=\u001b[0m \u001b[0;36m1\u001b[0m\u001b[0;34m\u001b[0m\u001b[0m\n",
      "\u001b[0;31mNameError\u001b[0m: name 'p3' is not defined"
     ]
    }
   ],
   "source": [
    "import ciftitools as ct\n",
    "import ciftiplot as cplt\n",
    "\n",
    "cplt.showSurface(data_lh,data_lh_myelin)"
   ]
  },
  {
   "cell_type": "code",
   "execution_count": null,
   "metadata": {
    "collapsed": true
   },
   "outputs": [],
   "source": []
  }
 ],
 "metadata": {
  "kernelspec": {
   "display_name": "Python 3",
   "language": "python",
   "name": "python3"
  },
  "language_info": {
   "codemirror_mode": {
    "name": "ipython",
    "version": 3
   },
   "file_extension": ".py",
   "mimetype": "text/x-python",
   "name": "python",
   "nbconvert_exporter": "python",
   "pygments_lexer": "ipython3",
   "version": "3.6.1"
  }
 },
 "nbformat": 4,
 "nbformat_minor": 2
}
