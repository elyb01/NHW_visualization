{
 "cells": [
  {
   "cell_type": "markdown",
   "metadata": {},
   "source": [
    "# Putatively Useful Code from Ely's Test Notebook, Neurohackweek 2017\n",
    "\n",
    "- Cloned from the demo introductory_3d.ipynb notebook\n",
    "- Builds on \n",
    "[IPyvolume](https://ipyvolume.readthedocs.io/en/latest/index.html), \n",
    "[NiBabel cifti2 package](http://nipy.org/nibabel/reference/nibabel.cifti2.html), \n",
    "[Michiel Cottaar's cifti tools](https://git.fmrib.ox.ac.uk/ndcn0236/cifti), and [various NHW demo notebooks](https://github.com/neurohackweek)\n"
   ]
  },
  {
   "cell_type": "code",
   "execution_count": 4,
   "metadata": {
    "collapsed": true
   },
   "outputs": [],
   "source": [
    "# load packages etc\n",
    "%matplotlib inline\n",
    "import matplotlib.pyplot as plt\n",
    "\n",
    "import nibabel as nb\n",
    "import ipyvolume\n",
    "import ipyvolume.pylab as p3\n",
    "import numpy as np\n",
    "import os\n",
    "import sys\n",
    "\n",
    "# be sure to set the global variable NHW to your NHW_visualization git directory\n",
    "# e.g. add 'export NHW=$HOME/Desktop/nhw2017/NHW_visualization' to your ~/.bashrc file\n",
    "nhw = os.environ['NHW'] # set the global variable NHW to your NHW_visualization git directory"
   ]
  },
  {
   "cell_type": "markdown",
   "metadata": {},
   "source": [
    "\n",
    "<b>CIFTI Tools:</b>"
   ]
  },
  {
   "cell_type": "code",
   "execution_count": 5,
   "metadata": {
    "collapsed": true
   },
   "outputs": [],
   "source": [
    "def cread(file):\n",
    "    # loads a cifti file and stores the data and four metadata objects\n",
    "    # should be called as: cd,ch,cn,cx,cf=cread(input_cifti)\n",
    "    cin=nb.load(file)\n",
    "    cdata=np.asarray(cin.get_data()).copy()\n",
    "    chead=cin.header.copy()\n",
    "    cnhdr=cin.nifti_header.copy()\n",
    "    cxtra=cin.extra.copy()\n",
    "    cfmap=cin.file_map.copy()\n",
    "    return cdata,chead,cnhdr,cxtra,cfmap"
   ]
  },
  {
   "cell_type": "code",
   "execution_count": 6,
   "metadata": {},
   "outputs": [
    {
     "name": "stderr",
     "output_type": "stream",
     "text": [
      "pixdim[1,2,3] should be non-zero; setting 0 dims to 1\n"
     ]
    }
   ],
   "source": [
    "# cread example:\n",
    "input_cifti=nhw+'/rfMRI_REST1_LR_Atlas_MSMAll_hp2000_clean.dtseries.nii'\n",
    "cd,ch,cn,cx,cf=cread(input_cifti)"
   ]
  },
  {
   "cell_type": "code",
   "execution_count": 7,
   "metadata": {
    "collapsed": true
   },
   "outputs": [],
   "source": [
    "def clthresh(data,thresh,setto=0):\n",
    "    # set all values below threshold to a given value (default 0)\n",
    "    lthr_data=data.copy()\n",
    "    lthr_data[lthr_data<thresh]=setto\n",
    "    return lthr_data"
   ]
  },
  {
   "cell_type": "code",
   "execution_count": 8,
   "metadata": {
    "collapsed": true
   },
   "outputs": [],
   "source": [
    "def cuthresh(data,thresh,setto=0):\n",
    "    # set all values above threshold to a given value (default 0)\n",
    "    uthr_data=data.copy()\n",
    "    uthr_data[uthr_data>thresh]=setto\n",
    "    return uthr_data"
   ]
  },
  {
   "cell_type": "code",
   "execution_count": 19,
   "metadata": {},
   "outputs": [
    {
     "data": {
      "image/png": "[encoded data removed]",
      "text/plain": [
       "<matplotlib.figure.Figure at 0x14b873b38>"
      ]
     },
     "metadata": {},
     "output_type": "display_data"
    }
   ],
   "source": [
    "# clthresh/cuthresh example:\n",
    "tl12000_cd=clthresh(cd,12000)\n",
    "tu12000_cd=cuthresh(cd,12000)\n",
    "plt.hist(cd[np.nonzero(cd)], 32);\n",
    "plt.hist(tl12000_cd[np.nonzero(tl12000_cd)], 32);\n",
    "plt.hist(tu12000_cd[np.nonzero(tu12000_cd)], 32);"
   ]
  },
  {
   "cell_type": "code",
   "execution_count": 12,
   "metadata": {
    "collapsed": true
   },
   "outputs": [],
   "source": [
    "def csave(filename,cdata,chead=None,cnhdr=None,cxtra=None,cfmap=None):\n",
    "    # saves a cifti data structure to file. Output likely unusable without some header info\n",
    "    cout=nb.Cifti2Image(dataobj=cdata,header=chead,nifti_header=cnhdr, extra=cxtra, file_map=cfmap)\n",
    "    cout.to_filename(filename)"
   ]
  },
  {
   "cell_type": "code",
   "execution_count": 13,
   "metadata": {
    "collapsed": true
   },
   "outputs": [],
   "source": [
    "# csave example:\n",
    "output_cifti=nhw+'/save_demo.dtseries.nii'\n",
    "csave(output_cifti,cd,ch,cn,ch,cf)"
   ]
  },
  {
   "cell_type": "code",
   "execution_count": 15,
   "metadata": {
    "collapsed": true
   },
   "outputs": [],
   "source": [
    "def cmask(cdata1,cdata2):\n",
    "    # masks cifti data 1 with non-zero values of cifti data 2\n",
    "    # cdata2 can be a single timepoint or matched to cdata1 dimensions\n",
    "    masked_cdata1=cdata1.copy()\n",
    "    if cdata1.shape != cdata2.shape:\n",
    "        mask=np.tile(cdata2,(cdata1.shape[0],1))\n",
    "    else:\n",
    "        mask=cdata2.copy()\n",
    "    masked_cdata1[mask==0]=0\n",
    "    return masked_cdata1"
   ]
  },
  {
   "cell_type": "code",
   "execution_count": 16,
   "metadata": {},
   "outputs": [
    {
     "data": {
      "image/png": "[encoded data removed]",
      "text/plain": [
       "<matplotlib.figure.Figure at 0x10f8e85c0>"
      ]
     },
     "metadata": {},
     "output_type": "display_data"
    }
   ],
   "source": [
    "# cmask example:\n",
    "masked3d=cmask(cd,tu12000_cd[0]) # masking 4d timeseries with single 3d timepoint\n",
    "masked4d=cmask(cd,tu12000_cd)    # masking 4d timeseries with 4d timeseries\n",
    "plt.hist(cd[np.nonzero(cd)], 32);\n",
    "plt.hist(masked3d[np.nonzero(masked3d)], 32);\n",
    "plt.hist(masked4d[np.nonzero(masked4d)], 32);"
   ]
  },
  {
   "cell_type": "code",
   "execution_count": null,
   "metadata": {
    "collapsed": true
   },
   "outputs": [],
   "source": [
    "def cplot(coverlay,lsurf,rsurf,subvol,colormap):\n",
    "    # plots cifti overlay data with specified color on surfaces/subcortex\n",
    "    # lsurf and rsurf should be .surf.gii files matched to the number of vertices in each cifti hemisphere\n",
    "    # subvol should be a HCP-style subcortical volume (e.g. Atlas_ROIs.2.nii.gz)\n",
    "    \n",
    "    # import packages\n",
    "    import nibabel as nb\n",
    "    import matplotlib.pyplot as plt\n",
    "    import ipyvolume\n",
    "    import ipyvolume.pylab as p3\n",
    "    import numpy as np\n",
    "    \n",
    "    # read input files\n",
    "    cd,ch,cn,cx,cf=cread(coverlay) \n",
    "    ls=nb.load(lsurf)\n",
    "    rs=nb.load(rsurf)\n",
    "    sv=nb.load(subvol)\n",
    "    \n",
    "    # parse surface structure\n",
    "    lxyz=ls.darrays[0]\n",
    "    rxyz=rs.darrays[0]\n",
    "    lmesh=ls.darrays[1]\n",
    "    rmesh=rs.darrays[1]\n",
    "    \n",
    "    # parse cifti header\n",
    "    mim = ch.matrix[1]\n",
    "    bm1 = list(mim.brain_models)[0]\n",
    "    bm2 = list(mim.brain_models)[1]\n",
    "    lidx = list(bm1.vertex_indices)\n",
    "    ridx = [bm1.surface_number_of_vertices + val for val in bm2.vertex_indices]\n",
    "    bidx = np.concatenate((lidx, ridx))\n",
    "    # debug:\n",
    "    # print(bidx.shape)\n",
    "    #    for idx, bm in enumerate(mim.brain_models):\n",
    "    #        print((idx, bm.index_offset, bm.brain_structure))\n",
    "    \n",
    "    "
   ]
  }
 ],
 "metadata": {
  "kernelspec": {
   "display_name": "Python 3",
   "language": "python",
   "name": "python3"
  },
  "language_info": {
   "codemirror_mode": {
    "name": "ipython",
    "version": 3
   },
   "file_extension": ".py",
   "mimetype": "text/x-python",
   "name": "python",
   "nbconvert_exporter": "python",
   "pygments_lexer": "ipython3",
   "version": "3.6.1"
  }
 },
 "nbformat": 4,
 "nbformat_minor": 2
}
