{
 "cells": [
  {
   "cell_type": "markdown",
   "metadata": {},
   "source": [
    "# Ely's test notebook for visualizing in 3D, Neurohackweek 2017\n",
    "\n",
    "- Cloned from the demo introductory_3d.ipynb notebook\n",
    "- Initial functionality based on [IPyvolume](https://ipyvolume.readthedocs.io/en/latest/index.html)"
   ]
  },
  {
   "cell_type": "markdown",
   "metadata": {},
   "source": [
    "load packages"
   ]
  },
  {
   "cell_type": "code",
   "execution_count": null,
   "metadata": {
    "collapsed": true
   },
   "outputs": [],
   "source": [
    "%matplotlib inline\n",
    "import matplotlib.pyplot as plt\n",
    "\n",
    "import nibabel as nb\n",
    "import ipyvolume\n",
    "import ipyvolume.pylab as p3\n",
    "import numpy as np\n",
    "import os\n",
    "import sys\n",
    "\n",
    "# be sure to set the global variable NHW to your NHW_visualization git directory\n",
    "# e.g. add 'export NHW=$HOME/Desktop/nhw2017/NHW_visualization' to your ~/.bashrc file\n",
    "nhw = os.environ['NHW'] # set the global variable NHW to your NHW_visualization git directory"
   ]
  },
  {
   "cell_type": "markdown",
   "metadata": {},
   "source": [
    "\n",
    "<b>3D Volume Rendering:</b>"
   ]
  },
  {
   "cell_type": "code",
   "execution_count": null,
   "metadata": {
    "scrolled": false
   },
   "outputs": [],
   "source": [
    "V = nb.load(nhw + '/data/100610/MNINonLinear/T1w_restore_brain.nii.gz').get_data()\n",
    "ipyvolume.quickvolshow(V, level=[0.25, 0.5, 0.75], opacity=0.03, level_width=0.1, \n",
    "                       width=600, height=600)"
   ]
  },
  {
   "cell_type": "code",
   "execution_count": null,
   "metadata": {},
   "outputs": [],
   "source": [
    "img = nb.load(nhw + '/data/T1.nii.gz')\n",
    "#img = nb.load(nhw + '/data/100610/MNINonLinear/T1w_restore_brain.nii.gz')\n",
    "print(\"Dimensions\", img.shape)\n",
    "print(\"Pixel dimensions\", img.header.get_zooms())\n",
    "V = img.get_data()\n",
    "#print(\"Largest dimension\", np.max(img.shape))\n",
    "#print(np.max(img.shape)-img.shape[0])"
   ]
  },
  {
   "cell_type": "code",
   "execution_count": null,
   "metadata": {
    "scrolled": false
   },
   "outputs": [],
   "source": [
    "fig = p3.figure(width=600, height=600)\n",
    "fig.style = {'axes': {'color': 'black',\n",
    "  'label': {'color': 'black'},\n",
    "  'ticklabel': {'color': 'black'},\n",
    "  'visible': False},\n",
    " 'background-color': 'white',\n",
    " 'box': {'visible': False}}\n",
    "fig.camera_fov = 1\n",
    "fig.xlim = (-100, 100)\n",
    "fig.ylim = (-100, 100)\n",
    "fig.zlim = (-100, 100)\n",
    "\n",
    "fig.anglex = 0\n",
    "fig.angley = 0\n",
    "fig.anglez = -np.pi/2\n",
    "vol = p3.volshow(V)\n",
    "p3.show()"
   ]
  },
  {
   "cell_type": "code",
   "execution_count": null,
   "metadata": {
    "solution2": "hidden"
   },
   "outputs": [],
   "source": [
    "fig = p3.figure(width=600, height=600)\n",
    "fig.style = {'axes': {'color': 'black',\n",
    "  'label': {'color': 'black'},\n",
    "  'ticklabel': {'color': 'black'},\n",
    "  'visible': False},\n",
    " 'background-color': 'white',\n",
    " 'box': {'visible': False}}\n",
    "fig.camera_fov = 1\n",
    "\n",
    "# Set viewing angle\n",
    "fig.anglex = -2.5287287502882\n",
    "fig.angley = 0.432399229463336\n",
    "fig.anglez = -1.7057381623311114\n",
    "\n",
    "# Turn volume into cube\n",
    "Vnew = np.concatenate((np.zeros((256-176, 256, 256)), V), axis=0)\n",
    "#Vnew = np.concatenate((np.zeros((img.shape[0]-176, img.shape[1], img.shape[2])), V), axis=0) #modded to adapt to image size\n",
    "#print(np.max(img.shape)-img.shape[0])\n",
    "#print(np.max(img.shape)-img.shape[1])\n",
    "#print(np.max(img.shape)-img.shape[2])\n",
    "#print(np.zeros((np.max(img.shape)-img.shape[0], np.max(img.shape), np.max(img.shape))))\n",
    "#print(np.zeros((51,1,51)))\n",
    "#Vnew = np.concatenate((np.zeros((np.max(img.shape)-img.shape[0], np.max(img.shape), np.max(img.shape)-img.shape[2])), V), axis=0) #modded to adapt to image size\n",
    "\n",
    "vol = p3.volshow(Vnew, level=[0.21, 0.30], opacity=[0.2, 1.0], max_opacity=1, lighting=True, downscale=2,\n",
    "                 diffuse_coefficient=0.5, controls=False)\n",
    "p3.show()"
   ]
  },
  {
   "cell_type": "code",
   "execution_count": null,
   "metadata": {},
   "outputs": [],
   "source": [
    "fig = p3.figure(width=600, height=600)\n",
    "fig.style = {'axes': {'color': 'black',\n",
    "  'label': {'color': 'black'},\n",
    "  'ticklabel': {'color': 'black'},\n",
    "  'visible': False},\n",
    " 'background-color': 'white',\n",
    " 'box': {'visible': False}}\n",
    "fig.camera_fov = 1\n",
    "\n",
    "# Set viewing angle\n",
    "fig.anglex = -2.5287287502882\n",
    "fig.angley = 0.432399229463336\n",
    "fig.anglez = -1.7057381623311114\n",
    "\n",
    "# Turn volume into cube\n",
    "Vnew = np.concatenate((np.zeros((256-176, 256, 256)), V), axis=0)\n",
    "\n",
    "vol = p3.volshow(Vnew, level=[0.21, 0.30], opacity=[0.2, 1.0], max_opacity=1, lighting=True, downscale=2,\n",
    "                 diffuse_coefficient=0.5, controls=False)\n",
    "p3.show()"
   ]
  },
  {
   "cell_type": "code",
   "execution_count": null,
   "metadata": {
    "scrolled": true
   },
   "outputs": [],
   "source": [
    "fig = p3.figure(width=600, height=600)\n",
    "fig.style = {'axes': {'color': 'black',\n",
    "  'label': {'color': 'black'},\n",
    "  'ticklabel': {'color': 'black'},\n",
    "  'visible': False},\n",
    " 'background-color': 'white',\n",
    " 'box': {'visible': False}}\n",
    "fig.camera_fov = 1\n",
    "Vnew = np.concatenate((np.zeros((256-176, 256, 256)), V), axis=0)\n",
    "# Set viewing angle\n",
    "fig.anglex = -1.4971217646597959\n",
    "fig.angley = 0.45647865940768106\n",
    "fig.anglez = 3.0730970695793047\n",
    "vol = p3.plot_isosurface(Vnew, 200)\n",
    "p3.show()"
   ]
  },
  {
   "cell_type": "markdown",
   "metadata": {},
   "source": [
    "\n",
    "\n",
    "<b>Load/Manipulate Ciftis:</b>"
   ]
  },
  {
   "cell_type": "code",
   "execution_count": null,
   "metadata": {
    "scrolled": true
   },
   "outputs": [],
   "source": [
    "# see about importing the cifti more directly\n",
    "\n",
    "cifti_test = nb.load(nhw+'/data/100610/MNINonLinear/fsaverage_LR32k/100610.ArealDistortion_MSMAll.32k_fs_LR.dscalar.nii')"
   ]
  },
  {
   "cell_type": "code",
   "execution_count": null,
   "metadata": {
    "scrolled": false
   },
   "outputs": [],
   "source": [
    "#print(cifti_test.nifti_header.get_base_affine())\n",
    "#print(cifti_test.nifti_header.get_best_affine())\n",
    "#print(subcort.header.get_base_affine())\n",
    "#cdata=cifti_test.get_data()\n",
    "#cmat=cifti_test.header.matrix.get_index_map(1)\n",
    "#asdf=nb.cifti2.Cifti2Matrix(cifti_test,0)\n",
    "import cifti\n",
    "alt_cifti_test,aa = cifti.read(nhw+'/data/100610/MNINonLinear/fsaverage_LR32k/100610.ArealDistortion_MSMAll.32k_fs_LR.dscalar.nii')"
   ]
  },
  {
   "cell_type": "code",
   "execution_count": null,
   "metadata": {},
   "outputs": [],
   "source": [
    "alt_cifti_test"
   ]
  },
  {
   "cell_type": "code",
   "execution_count": null,
   "metadata": {
    "collapsed": true
   },
   "outputs": [],
   "source": [
    "thal_L=nb.load('/Users/ely/templates/HCP/Subcortical_ROIs/Thalamus_L.nii.gz')\n",
    "keep_L=np.where(thal_L.get_data()!=0)\n",
    "thalamus_mask=np.asarray(keep_L)\n",
    "affine=thal_L.affine\n",
    "fMRI_data=fmri_cifti_in\n",
    "bm_cortex = cifti.BrainModel.from_surface(range(32492), nvertex=32492, brain_structure='cortex_left')\n",
    "bm_thal = cifti.BrainModel.from_mask(thalamus_mask.any(), affine, 'thalamus_left')\n",
    "bm_full = bm_cortex + bm_thal\n",
    "assert bm_full[bm_full.struc == 'CortexLeft'] == bm_cortex\n",
    "assert bm_full[bm_full.struc == 'ThalamusLeft'] == bm_thal\n",
    "parcel = cifti.Parcels([('surface_parcel', bm_cortex[:100]),('volume_parcel', bm_thal)]) #,('combined_parcel', bm_full[0,1])])\n",
    "#series = cifti.Series(start=0, step=100, size=5000)\n",
    "\n",
    "cifti_out=nhw+'/rfMRI1_LR.dtseries.nii'\n",
    "cifti_husk=[series,bm_full]\n",
    "cifti.write(cifti_out, fMRI_data, aa)\n"
   ]
  },
  {
   "cell_type": "code",
   "execution_count": null,
   "metadata": {},
   "outputs": [],
   "source": [
    "fmri_cifti='/Users/ely/Desktop/HCP/100610/MNINonLinear/Results/rfMRI_REST1_LR/rfMRI_REST1_LR_Atlas_MSMAll_hp2000_clean.dtseries.nii'\n",
    "img = nb.cifti2.Cifti2Image.from_filename(fmri_cifti)\n",
    "img_load = nb.load(fmri_cifti)\n",
    "#%whos\n"
   ]
  },
  {
   "cell_type": "code",
   "execution_count": null,
   "metadata": {
    "collapsed": true
   },
   "outputs": [],
   "source": [
    "def cread(file):\n",
    "    # loads a cifti file and stores the data and metadata\n",
    "    cin=nb.load(file)\n",
    "    cdata=np.asarray(cin.get_data()).copy()\n",
    "    chead=cin.header.copy()\n",
    "    cnhdr=cin.nifti_header.copy()\n",
    "    cxtra=cin.extra.copy()\n",
    "    cfmap=cin.file_map.copy()\n",
    "    return cdata,chead,cnhdr,cxtra,cfmap"
   ]
  },
  {
   "cell_type": "code",
   "execution_count": null,
   "metadata": {},
   "outputs": [],
   "source": [
    "cd,ch,cn,cx,cf=cread(fmri_cifti)\n",
    "#%whos"
   ]
  },
  {
   "cell_type": "code",
   "execution_count": null,
   "metadata": {
    "collapsed": true
   },
   "outputs": [],
   "source": [
    "def clthresh(data,thresh,setto=0):\n",
    "    # set all values below threshold to a given value (default 0)\n",
    "    lthr_data=data.copy()\n",
    "    lthr_data[lthr_data<thresh]=setto\n",
    "    return lthr_data\n",
    "\n",
    "# clthresh example:\n",
    "# tl12000_cd=clthresh(cd,12000)\n",
    "# plt.hist(cd[np.nonzero(cd)], 32);\n",
    "# plt.hist(tl12000_cd[np.nonzero(tl12000_cd)], 32);"
   ]
  },
  {
   "cell_type": "code",
   "execution_count": null,
   "metadata": {
    "collapsed": true
   },
   "outputs": [],
   "source": [
    "def cuthresh(data,thresh,setto=0):\n",
    "    # set all values above threshold to a given value (default 0)\n",
    "    uthr_data=data.copy()\n",
    "    uthr_data[uthr_data>thresh]=setto\n",
    "    return uthr_data\n",
    "\n",
    "# cuthresh example:\n",
    "# tu12000_cd=cuthresh(cd,12000)\n",
    "# plt.hist(cd[np.nonzero(cd)], 32);\n",
    "# plt.hist(tu12000_cd[np.nonzero(tu12000_cd)], 32);"
   ]
  },
  {
   "cell_type": "code",
   "execution_count": null,
   "metadata": {},
   "outputs": [],
   "source": [
    "tl12000_cd=clthresh(cd,12000)\n",
    "tu12000_cd=cuthresh(cd,12000)\n",
    "plt.hist(cd[np.nonzero(cd)], 32);\n",
    "plt.hist(tl12000_cd[np.nonzero(tl12000_cd)], 32);\n",
    "plt.hist(tu12000_cd[np.nonzero(tu12000_cd)], 32);"
   ]
  },
  {
   "cell_type": "code",
   "execution_count": null,
   "metadata": {},
   "outputs": [],
   "source": [
    "print(cd.shape)\n",
    "print(tl12000_cd.shape)"
   ]
  },
  {
   "cell_type": "code",
   "execution_count": null,
   "metadata": {},
   "outputs": [],
   "source": [
    "min(cd[np.nonzero(cd)])\n",
    "max(cd[np.nonzero(cd)])"
   ]
  },
  {
   "cell_type": "code",
   "execution_count": null,
   "metadata": {
    "collapsed": true
   },
   "outputs": [],
   "source": [
    "fmri_cifti_data=np.asarray(img.get_data()).copy()\n",
    "fmri_cifti_head=img.header.copy()\n",
    "fmri_cifti_nhead=img.nifti_header.copy()\n",
    "fmri_cifti_extra=img.extra.copy()\n",
    "fmri_cifti_fmap=img.file_map.copy()\n",
    "#out_img = nb.cifti2.Cifti2Image(dataobj=fmri_cifti_data, header=fmri_cifti_head,nifti_header=fmri_cifti_nhead, extra=fmri_cifti_extra, file_map=fmri_cifti_fmap)\n",
    "#cifti_out=nhw+'/custom_rfMRI1_LR.dtseries.nii'\n",
    "#img.to_filename(cifti_out)\n",
    "#%whos"
   ]
  },
  {
   "cell_type": "code",
   "execution_count": null,
   "metadata": {
    "collapsed": true
   },
   "outputs": [],
   "source": [
    "#thresh_data=fmri_cifti_data[fmri_cifti_data>10000]\n",
    "thresh_data=fmri_cifti_data.copy()\n",
    "thresh_data[thresh_data<10000]=0\n",
    "#a[a > 10] = 0\n",
    "#thresh_data = [0 if fmri_cifti_data_ > 10000 for fmri_cifti_data_ in fmri_cifti_data]\n",
    "out_img = nb.cifti2.Cifti2Image(dataobj=thresh_data, header=fmri_cifti_head,nifti_header=fmri_cifti_nhead, extra=fmri_cifti_extra, file_map=fmri_cifti_fmap)\n"
   ]
  },
  {
   "cell_type": "code",
   "execution_count": null,
   "metadata": {},
   "outputs": [],
   "source": [
    "plt.hist(fmri_cifti_data[np.nonzero(fmri_cifti_data)], 32);"
   ]
  },
  {
   "cell_type": "code",
   "execution_count": null,
   "metadata": {
    "collapsed": true
   },
   "outputs": [],
   "source": [
    "stufftosave=[tu12000_cd,ch,cn,cx,cf]\n",
    "out_img = nb.cifti2.Cifti2Image(dataobj=cd,header=ch,nifti_header=cn, extra=cx, file_map=cf)\n",
    "cout=nb.Cifti2Image(dataobj=cd,header=ch,nifti_header=cn, extra=cx, file_map=cf)\n",
    "#nb.save()\n",
    "\n",
    "#%whos"
   ]
  },
  {
   "cell_type": "code",
   "execution_count": null,
   "metadata": {
    "collapsed": true
   },
   "outputs": [],
   "source": [
    "def csave(filename,cdata,chead=None,cnhdr=None,cxtra=None,cfmap=None):\n",
    "    # saves a cifti data structure to file. Output likely unusable without some header info\n",
    "    cout=nb.Cifti2Image(dataobj=cdata,header=chead,nifti_header=cnhdr, extra=cxtra, file_map=cfmap)\n",
    "    cout.to_filename(filename)\n",
    "#cifti_out=nhw+'/'+thresh_rfMRI1_LR.dtseries.nii'\n",
    "#out_img.to_filename(cifti_out)"
   ]
  },
  {
   "cell_type": "code",
   "execution_count": null,
   "metadata": {
    "collapsed": true
   },
   "outputs": [],
   "source": [
    "csave(nhw+'/test_csave_data_nhdr.dtseries.nii',cd,None,cn)\n",
    "#post_thresh= nb.cifti2.Cifti2Image.from_filename(cifti_out)"
   ]
  },
  {
   "cell_type": "code",
   "execution_count": null,
   "metadata": {
    "collapsed": true
   },
   "outputs": [],
   "source": [
    "def cmask(cdata1,cdata2):\n",
    "    # masks cifti data 1 with non-zero values of cifti data 2\n",
    "    # cdata2 can be a single timepoint or matched to cdata1 dimensions\n",
    "    masked_cdata1=cdata1.copy()\n",
    "    if cdata1.shape != cdata2.shape:\n",
    "        mask=np.tile(cdata2,(cdata1.shape[0],1))\n",
    "#        return mask.shape\n",
    "    else:\n",
    "        mask=cdata2.copy()\n",
    "#        return mask.shape\n",
    "\n",
    "    masked_cdata1[mask==0]=0\n",
    "    return masked_cdata1"
   ]
  },
  {
   "cell_type": "code",
   "execution_count": null,
   "metadata": {},
   "outputs": [],
   "source": [
    "np.tile(cd[0],(cd.shape[0],1)).shape"
   ]
  },
  {
   "cell_type": "code",
   "execution_count": null,
   "metadata": {},
   "outputs": [],
   "source": [
    "masked_cd=cmask(cd,tu12000_cd[0])"
   ]
  },
  {
   "cell_type": "code",
   "execution_count": null,
   "metadata": {},
   "outputs": [],
   "source": [
    "plt.hist(cd[np.nonzero(cd)], 32);\n",
    "plt.hist(masked_cd[np.nonzero(masked_cd)], 32);"
   ]
  },
  {
   "cell_type": "code",
   "execution_count": null,
   "metadata": {
    "collapsed": true
   },
   "outputs": [],
   "source": [
    "csave(nhw+'/test_cmask_cd_singlevol.dtseries.nii',masked_cd,ch,cn,cx,cf)"
   ]
  },
  {
   "cell_type": "code",
   "execution_count": null,
   "metadata": {},
   "outputs": [],
   "source": [
    "post_thresh_data=np.asarray(post_thresh.get_data())\n",
    "\n",
    "plt.hist(post_thresh_data[np.nonzero(post_thresh_data)], 32);"
   ]
  },
  {
   "cell_type": "code",
   "execution_count": null,
   "metadata": {},
   "outputs": [],
   "source": [
    "thresh_data[thresh_data<20000]=0\n",
    "thresh_data"
   ]
  },
  {
   "cell_type": "code",
   "execution_count": null,
   "metadata": {
    "collapsed": true
   },
   "outputs": [],
   "source": []
  },
  {
   "cell_type": "code",
   "execution_count": null,
   "metadata": {},
   "outputs": [],
   "source": [
    "#%whos\n",
    "#fMRI_data\n",
    "\n",
    "fmri_cifti_in,aa = cifti.read('/Users/ely/Desktop/HCP/100610/MNINonLinear/Results/rfMRI_REST1_LR/rfMRI_REST1_LR_Atlas_MSMAll_hp2000_clean.dtseries.nii')"
   ]
  },
  {
   "cell_type": "code",
   "execution_count": null,
   "metadata": {},
   "outputs": [],
   "source": [
    "aa[0]\n",
    "def write(filename, arr, axes):\n",
    "    img = cifti2.Cifti2Image(np.asarray(arr), axis.to_header(axes))\n",
    "    img.to_filename(filename)"
   ]
  },
  {
   "cell_type": "code",
   "execution_count": null,
   "metadata": {},
   "outputs": [],
   "source": [
    "cin=nb.load(fmri_cifti)\n",
    "cdata=cin.get_data()"
   ]
  },
  {
   "cell_type": "code",
   "execution_count": null,
   "metadata": {},
   "outputs": [],
   "source": [
    "ktb=ch.get_index_map(1)\n",
    "ktb"
   ]
  },
  {
   "cell_type": "code",
   "execution_count": null,
   "metadata": {},
   "outputs": [],
   "source": [
    "ktb.indices_map_to_data_type\n",
    "#nb.cifti2.Cifti2VertexIndices(cdata)\n",
    "fmri_cifti_load=nb.cifti2.load(fmri_cifti)"
   ]
  },
  {
   "cell_type": "code",
   "execution_count": null,
   "metadata": {},
   "outputs": [],
   "source": [
    "bm=nb.cifti2.cifti2.Cifti2BrainModel(cdata,ch,cn,cx,cf)\n",
    "cf[x]\n",
    "nb.fileholders.FileHolder.file_like"
   ]
  },
  {
   "cell_type": "code",
   "execution_count": null,
   "metadata": {},
   "outputs": [],
   "source": [
    "for x in cf:\n",
    "    print (x)\n",
    "    for y in cf[x]:\n",
    "        print (y,':',cf[x][y])"
   ]
  },
  {
   "cell_type": "code",
   "execution_count": 507,
   "metadata": {},
   "outputs": [
    {
     "data": {
      "text/plain": [
       "b'<BrainModel BrainStructure=\"{}\" IndexCount=\"&lt;nibabel.cifti2.cifti2.Cifti2Header object at 0x127898860&gt;\" IndexOffset=\"[[ 10370.02734375   8975.28808594   8177.61816406 ...,   8267.63867188&#10;    9081.58300781   8428.43261719]&#10; [ 10405.33300781   8885.35449219   8228.50195312 ...,   9814.16601562&#10;   10344.37695312   9132.24707031]&#10; [ 10403.03027344   8885.85253906   8170.07861328 ...,   9360.21777344&#10;    8852.38671875   9805.09863281]&#10; ..., &#10; [ 10651.48046875   8867.24511719   8167.99414062 ...,   8364.47460938&#10;   11047.29199219   9667.34179688]&#10; [ 10547.875        8944.50683594   8189.71582031 ...,  10087.88476562&#10;    9486.22949219   9620.84765625]&#10; [ 10372.42089844   8968.25292969   8143.32861328 ...,   9411.23144531&#10;   10986.9375       8809.45214844]]\" ModelType=\"&lt;class \\'nibabel.nifti2.Nifti2Header\\'&gt; object, endian=\\'&lt;\\'&#10;sizeof_hdr      : 540&#10;magic           : b\\'n+2\\'&#10;eol_check       : [13 10 26 10]&#10;datatype        : float32&#10;bitpix          : 32&#10;dim             : [    2  1200 91282     1     1     1     1     1]&#10;intent_p1       : 0.0&#10;intent_p2       : 0.0&#10;intent_p3       : 0.0&#10;pixdim          : [ 1.  1.  1.  1.  1.  1.  1.  1.]&#10;vox_offset      : 0&#10;scl_slope       : nan&#10;scl_inter       : nan&#10;cal_max         : 0.0&#10;cal_min         : 0.0&#10;slice_duration  : 0.0&#10;toffset         : 0.0&#10;slice_start     : 0&#10;slice_end       : 0&#10;descrip         : b\\'\\'&#10;aux_file        : b\\'\\'&#10;qform_code      : unknown&#10;sform_code      : unknown&#10;quatern_b       : 0.0&#10;quatern_c       : 0.0&#10;quatern_d       : 0.0&#10;qoffset_x       : 0.0&#10;qoffset_y       : 0.0&#10;qoffset_z       : 0.0&#10;srow_x          : [ 0.  0.  0.  0.]&#10;srow_y          : [ 0.  0.  0.  0.]&#10;srow_z          : [ 0.  0.  0.  0.]&#10;slice_code      : unknown&#10;xyzt_units      : 10&#10;intent_code     : dense data series/fiber fans&#10;intent_name     : b\\'ConnDenseSeries\\'&#10;dim_info        : 0&#10;unused_str      : b\\'\\'\" SurfaceNumberOfVertices=\"{\\'image\\': &lt;nibabel.fileholders.FileHolder object at 0x1251d66d8&gt;}\" />'"
      ]
     },
     "execution_count": 507,
     "metadata": {},
     "output_type": "execute_result"
    }
   ],
   "source": [
    "bm.to_xml()"
   ]
  },
  {
   "cell_type": "code",
   "execution_count": 676,
   "metadata": {},
   "outputs": [
    {
     "name": "stdout",
     "output_type": "stream",
     "text": [
      "(0, 0, 'CIFTI_STRUCTURE_CORTEX_LEFT')\n",
      "(1, 29696, 'CIFTI_STRUCTURE_CORTEX_RIGHT')\n",
      "(2, 59412, 'CIFTI_STRUCTURE_ACCUMBENS_LEFT')\n",
      "(3, 59547, 'CIFTI_STRUCTURE_ACCUMBENS_RIGHT')\n",
      "(4, 59687, 'CIFTI_STRUCTURE_AMYGDALA_LEFT')\n",
      "(5, 60002, 'CIFTI_STRUCTURE_AMYGDALA_RIGHT')\n",
      "(6, 60334, 'CIFTI_STRUCTURE_BRAIN_STEM')\n",
      "(7, 63806, 'CIFTI_STRUCTURE_CAUDATE_LEFT')\n",
      "(8, 64534, 'CIFTI_STRUCTURE_CAUDATE_RIGHT')\n",
      "(9, 65289, 'CIFTI_STRUCTURE_CEREBELLUM_LEFT')\n",
      "(10, 73998, 'CIFTI_STRUCTURE_CEREBELLUM_RIGHT')\n",
      "(11, 83142, 'CIFTI_STRUCTURE_DIENCEPHALON_VENTRAL_LEFT')\n",
      "(12, 83848, 'CIFTI_STRUCTURE_DIENCEPHALON_VENTRAL_RIGHT')\n",
      "(13, 84560, 'CIFTI_STRUCTURE_HIPPOCAMPUS_LEFT')\n",
      "(14, 85324, 'CIFTI_STRUCTURE_HIPPOCAMPUS_RIGHT')\n",
      "(15, 86119, 'CIFTI_STRUCTURE_PALLIDUM_LEFT')\n",
      "(16, 86416, 'CIFTI_STRUCTURE_PALLIDUM_RIGHT')\n",
      "(17, 86676, 'CIFTI_STRUCTURE_PUTAMEN_LEFT')\n",
      "(18, 87736, 'CIFTI_STRUCTURE_PUTAMEN_RIGHT')\n",
      "(19, 88746, 'CIFTI_STRUCTURE_THALAMUS_LEFT')\n",
      "(20, 90034, 'CIFTI_STRUCTURE_THALAMUS_RIGHT')\n",
      "(59412,)\n"
     ]
    }
   ],
   "source": [
    "mim = ch.matrix[1]\n",
    "for idx, bm in enumerate(mim.brain_models):\n",
    "    print((idx, bm.index_offset, bm.brain_structure))\n",
    "bm1 = list(mim.brain_models)[0]\n",
    "lidx = list(bm1.vertex_indices)\n",
    "bm2 = list(mim.brain_models)[1]\n",
    "ridx = [bm1.surface_number_of_vertices + val for val in bm2.vertex_indices]\n",
    "bidx = np.concatenate((lidx, ridx))\n",
    "print(bidx.shape)"
   ]
  },
  {
   "cell_type": "code",
   "execution_count": 694,
   "metadata": {},
   "outputs": [
    {
     "data": {
      "text/plain": [
       "29696"
      ]
     },
     "execution_count": 694,
     "metadata": {},
     "output_type": "execute_result"
    }
   ],
   "source": [
    "len(lidx)"
   ]
  },
  {
   "cell_type": "code",
   "execution_count": null,
   "metadata": {
    "scrolled": false
   },
   "outputs": [],
   "source": [
    "#nb.cifti2.Cifti2BrainModel\n",
    "#%whos \n",
    "data_lh_myelin.darrays[0].data.shape\n",
    "for x in data_lh_myelin.darrays[0].data:\n",
    "    \n",
    "    print(x)"
   ]
  },
  {
   "cell_type": "markdown",
   "metadata": {
    "solution2": "hidden",
    "solution2_first": true
   },
   "source": [
    "\n",
    "\n",
    "<b> Surface Rendering: </b>"
   ]
  },
  {
   "cell_type": "code",
   "execution_count": 528,
   "metadata": {},
   "outputs": [],
   "source": [
    "# import surface mesh and subcortical volume\n",
    "#data_lh = nb.load(nhw+'/data/100610/MNINonLinear/fsaverage_LR32k/100610.L.midthickness_MSMAll.32k_fs_LR.surf.gii')\n",
    "data_lh = nb.load(nhw+'/data/100610/MNINonLinear/fsaverage_LR32k/100610.L.very_inflated_MSMAll.32k_fs_LR.surf.gii')\n",
    "data_rh = nb.load(nhw+'/data/100610/MNINonLinear/fsaverage_LR32k/100610.R.midthickness_MSMAll.32k_fs_LR.surf.gii')\n",
    "#data_lh = nb.load(nhw+'/data/100610/T1w/Native/100610.L.pial.native.surf.gii')\n",
    "#data_rh = nb.load(nhw+'/data/100610/T1w/Native/100610.R.pial.native.surf.gii')\n",
    "subcort = nb.load('/Users/ely/Desktop/HCP/100610/MNINonLinear/ROIs/Atlas_ROIs.2.nii.gz')\n",
    "\n",
    "xyz_lh=data_lh.darrays[0]\n",
    "xyz_rh=data_rh.darrays[0]\n",
    "mesh_lh=data_lh.darrays[1]\n",
    "mesh_rh=data_rh.darrays[1]\n",
    "cort_lh=(data_lh_myelin.darrays[0].data>0)\n",
    "cort_rh=(data_rh_myelin.darrays[0].data>0)\n",
    "sub_lh=(data_lh_myelin.darrays[0].data==0)\n",
    "sub_rh=(data_rh_myelin.darrays[0].data==0)\n",
    "\n",
    "\n",
    "#cort_olay_lh=data_lh_myelin.darrays[0].data[cort_lh]\n",
    "#cort_olay_rh=data_rh_myelin.darrays[0].data[cort_rh]\n",
    "#sub_olay_lh=data_lh_myelin.darrays[0].data[sub_lh]\n",
    "#sub_olay_rh=data_rh_myelin.darrays[0].data[sub_rh]"
   ]
  },
  {
   "cell_type": "code",
   "execution_count": 681,
   "metadata": {},
   "outputs": [
    {
     "data": {
      "text/plain": [
       "32492"
      ]
     },
     "execution_count": 681,
     "metadata": {},
     "output_type": "execute_result"
    }
   ],
   "source": [
    "xyz_lh.data.shape[0]"
   ]
  },
  {
   "cell_type": "code",
   "execution_count": 665,
   "metadata": {},
   "outputs": [
    {
     "name": "stdout",
     "output_type": "stream",
     "text": [
      "True 10370.0273438\n",
      "True 8975.28808594\n",
      "True 8177.61816406\n",
      "True 13548.9941406\n",
      "True 9550.23144531\n",
      "True 7693.234375\n",
      "True 13309.0966797\n",
      "False 0.0\n",
      "True 11807.2578125\n",
      "True 8082.74267578\n"
     ]
    }
   ],
   "source": [
    "for x in range(0,10):\n",
    "    print (cort_lh[x], olay[x])\n"
   ]
  },
  {
   "cell_type": "code",
   "execution_count": 509,
   "metadata": {
    "collapsed": true
   },
   "outputs": [],
   "source": [
    "# import data to overlay\n",
    "data_lh_myelin = nb.load(nhw+'/data/100610/MNINonLinear/fsaverage_LR32k/100610.L.MyelinMap.32k_fs_LR.func.gii')\n",
    "data_rh_myelin = nb.load(nhw+'/data/100610/MNINonLinear/fsaverage_LR32k/100610.R.MyelinMap.32k_fs_LR.func.gii')\n",
    "olay_lh=data_lh_myelin.darrays[0].data\n",
    "olay_rh=data_rh_myelin.darrays[0].data"
   ]
  },
  {
   "cell_type": "code",
   "execution_count": 690,
   "metadata": {},
   "outputs": [
    {
     "data": {
      "text/plain": [
       "[]"
      ]
     },
     "execution_count": 690,
     "metadata": {},
     "output_type": "execute_result"
    }
   ],
   "source": [
    "brainmodels=[]\n",
    "for idx, bm in enumerate(mim.brain_models):\n",
    "    np.append(brainmodels,np.asarray([idx, bm.index_offset, bm.brain_structure]))\n",
    "#    np.asarray()\n",
    "#    print((idx, bm.index_offset, bm.brain_structure))\n",
    "brainmodels"
   ]
  },
  {
   "cell_type": "code",
   "execution_count": 721,
   "metadata": {},
   "outputs": [
    {
     "name": "stdout",
     "output_type": "stream",
     "text": [
      "(1200, 29696)\n",
      "(1200, 29717)\n",
      "(1200, 31869)\n",
      "8412.6\n",
      "6808.48\n"
     ]
    },
    {
     "data": {
      "text/plain": [
       "array([[ 10370.02734375,   8975.28808594,   8177.61816406, ...,\n",
       "          7961.00195312,   8160.44628906,   8412.59570312],\n",
       "       [ 10405.33300781,   8885.35449219,   8228.50195312, ...,\n",
       "          8045.67138672,   8196.06152344,   8447.87597656],\n",
       "       [ 10403.03027344,   8885.85253906,   8170.07861328, ...,\n",
       "          8100.45068359,   8327.37402344,   8508.35644531],\n",
       "       ..., \n",
       "       [ 10651.48046875,   8867.24511719,   8167.99414062, ...,\n",
       "          8208.328125  ,   8336.39746094,   8499.38671875],\n",
       "       [ 10547.875     ,   8944.50683594,   8189.71582031, ...,\n",
       "          8144.38916016,   8298.16308594,   8386.21582031],\n",
       "       [ 10372.42089844,   8968.25292969,   8143.32861328, ...,\n",
       "          8001.57714844,   8115.43945312,   8326.44433594]], dtype=float32)"
      ]
     },
     "execution_count": 721,
     "metadata": {},
     "output_type": "execute_result"
    }
   ],
   "source": [
    "cclh=cd[:,0:len(lidx)]\n",
    "ccrh=cd[:,len(lidx):len(lidx)+len(ridx)+1]\n",
    "ccsc=cd[:,len(lidx)+len(ridx)+1:cd.shape[1]]\n",
    "print(cclh.shape)\n",
    "print(ccrh.shape)\n",
    "print(ccsc.shape)\n",
    "print(cclh[0,len(lidx)-1])\n",
    "print(ccrh[0,len(lidx)+1])\n",
    "clh"
   ]
  },
  {
   "cell_type": "code",
   "execution_count": 559,
   "metadata": {},
   "outputs": [
    {
     "name": "stdout",
     "output_type": "stream",
     "text": [
      "(1200, 91282)\n",
      "(1200, 29696)\n",
      "(1200, 29717)\n",
      "(1200, 31869)\n",
      "91282\n",
      "29696\n",
      "29717\n",
      "31869\n",
      "91282\n",
      "8412.6\n",
      "10799.1\n"
     ]
    }
   ],
   "source": [
    "clh=cd[:,0:29696]\n",
    "crh=cd[:,29696:59413]\n",
    "csc=cd[:,59413:91282]\n",
    "print(cd.shape)\n",
    "print(clh.shape)\n",
    "print(crh.shape)\n",
    "print(csc.shape)\n",
    "print(len(cd[0]))\n",
    "print(len(clh[0]))\n",
    "print(len(crh[0]))\n",
    "print(len(csc[0]))\n",
    "print(len(clh[0])+len(crh[0])+len(csc[0]))\n",
    "print(clh[0,29695])\n",
    "print(crh[0,0])\n",
    "#cd[0,29692:29698]\n",
    "olay_lh=clh.copy()"
   ]
  },
  {
   "cell_type": "code",
   "execution_count": 575,
   "metadata": {},
   "outputs": [
    {
     "data": {
      "text/plain": [
       "(64980, 3)"
      ]
     },
     "execution_count": 575,
     "metadata": {},
     "output_type": "execute_result"
    }
   ],
   "source": [
    "mesh_lh.data.shape"
   ]
  },
  {
   "cell_type": "code",
   "execution_count": null,
   "metadata": {},
   "outputs": [],
   "source": [
    "# compute MNI coordinates from voxel coordinates\n",
    "sub_data=subcort.get_data()\n",
    "subcort_disp=sub_data!=0\n",
    "from nibabel.affines import apply_affine\n",
    "\n",
    "real_coords=np.zeros([subcort_disp.shape[0],subcort_disp.shape[1],subcort_disp.shape[2]], dtype = object)\n",
    "xyz_sub=[]#np.zeros([33259,33259,33259],dtype=object)\n",
    "c=0\n",
    "for xx in range (0, subcort_disp.shape[0]):\n",
    "    for yy in range (0, subcort_disp.shape[1]):\n",
    "        for zz in range (0, subcort_disp.shape[2]):\n",
    "            real_coords[xx,yy,zz]=apply_affine(subcort.affine,[xx,yy,zz])\n",
    "#            print(real_coords[xx,yy,zz])\n",
    "#            xyz_sub[i]"
   ]
  },
  {
   "cell_type": "code",
   "execution_count": null,
   "metadata": {},
   "outputs": [],
   "source": [
    "subcort_disp=subcort.get_data()!=0\n",
    "np.where(subcort_disp)[2]\n",
    "sub_mask=[]\n",
    "sub_mask0=[]\n",
    "for ii in np.where(subcort_disp)[0]:\n",
    "#    sub_mask0=subcort_disp[ii]\n",
    "#    sub_mask0=sub_mask.any(1)\n",
    "    sub_mask.append(real_coords[ii])"
   ]
  },
  {
   "cell_type": "code",
   "execution_count": null,
   "metadata": {
    "scrolled": true
   },
   "outputs": [],
   "source": [
    "#import IPython\n",
    "np.where(subcort_disp)\n",
    "sub_mask1=np.asarray([np.where(subcort_disp)[0],np.where(subcort_disp)[1],np.where(subcort_disp)[2]])\n",
    "print (sub_mask1.shape)\n",
    "print (xyz_lh.data.shape)\n",
    "np.ones_like(sub_mask1)\n",
    "#%whos"
   ]
  },
  {
   "cell_type": "code",
   "execution_count": 634,
   "metadata": {},
   "outputs": [
    {
     "data": {
      "text/plain": [
       "(29696,)"
      ]
     },
     "execution_count": 634,
     "metadata": {},
     "output_type": "execute_result"
    }
   ],
   "source": [
    "clh[0].shape"
   ]
  },
  {
   "cell_type": "code",
   "execution_count": 580,
   "metadata": {},
   "outputs": [],
   "source": [
    "# loop through xyz values to create lists of cortical and subcortical triangles\n",
    "# left\n",
    "cort_tri_lh=[]\n",
    "for ii in np.where(cort_lh)[0]:\n",
    "    cort_mask_lh=mesh_lh.data==ii\n",
    "    cort_mask_lh=cort_mask_lh.any(1)\n",
    "    cort_tri_lh.append(cort_mask_lh)\n",
    "    \n",
    "sub_tri_lh=[]\n",
    "for ii in np.where(sub_lh)[0]:\n",
    "    sub_mask_lh=mesh_lh.data==ii\n",
    "    sub_mask_lh=sub_mask_lh.any(1)\n",
    "    sub_tri_lh.append(sub_mask_lh)"
   ]
  },
  {
   "cell_type": "code",
   "execution_count": 567,
   "metadata": {
    "scrolled": false
   },
   "outputs": [],
   "source": [
    "#cort_tri_lh=np.asarray(cort_tri_lh)"
   ]
  },
  {
   "cell_type": "code",
   "execution_count": 578,
   "metadata": {},
   "outputs": [
    {
     "data": {
      "text/plain": [
       "(29696, 64980)"
      ]
     },
     "execution_count": 578,
     "metadata": {},
     "output_type": "execute_result"
    }
   ],
   "source": [
    "#cort_tri_lh.shape"
   ]
  },
  {
   "cell_type": "code",
   "execution_count": null,
   "metadata": {},
   "outputs": [],
   "source": [
    "# right\n",
    "cort_tri_rh=[]\n",
    "for ii in np.where(cort_lh)[0]:\n",
    "    cort_mask_rh=mesh_rh.data==ii\n",
    "    cort_mask_rh=cort_mask_rh.any(1)\n",
    "    cort_tri_rh.append(cort_mask_rh)\n",
    "    \n",
    "sub_tri_rh=[]\n",
    "for ii in np.where(sub_rh)[0]:\n",
    "    sub_mask_rh=mesh_rh.data==ii\n",
    "    sub_mask_rh=sub_mask_rh.any(1)\n",
    "    sub_tri_rh.append(sub_mask_rh)"
   ]
  },
  {
   "cell_type": "code",
   "execution_count": 581,
   "metadata": {},
   "outputs": [],
   "source": [
    "cort_tri_lh=np.array(cort_tri_lh)\n",
    "sub_tri_lh=np.array(sub_tri_lh)\n",
    "cort_tri_rh=np.array(cort_tri_rh)\n",
    "sub_tri_rh=np.array(sub_tri_rh)"
   ]
  },
  {
   "cell_type": "code",
   "execution_count": 582,
   "metadata": {},
   "outputs": [],
   "source": [
    "cort_mask_lh=cort_tri_lh.any(0)\n",
    "sub_mask_lh=sub_tri_lh.any(0)\n",
    "cort_mask_rh=cort_tri_rh.any(0)\n",
    "sub_mask_rh=sub_tri_rh.any(0)"
   ]
  },
  {
   "cell_type": "code",
   "execution_count": null,
   "metadata": {},
   "outputs": [],
   "source": [
    "sub_mask_rh.shape"
   ]
  },
  {
   "cell_type": "code",
   "execution_count": null,
   "metadata": {},
   "outputs": [],
   "source": [
    "print (xyz_lh.data.shape)\n",
    "print (mesh_lh.data.shape)\n",
    "\n",
    "print (xyz_lh.data[0:19])\n",
    "print (mesh_lh.data[0:19])\n",
    "\n",
    "print(subcort_disp[0])"
   ]
  },
  {
   "cell_type": "code",
   "execution_count": 648,
   "metadata": {},
   "outputs": [
    {
     "name": "stdout",
     "output_type": "stream",
     "text": [
      "(29696,)\n",
      "1.0\n",
      "0.0\n"
     ]
    }
   ],
   "source": [
    "print(cort_olay_lh.shape)\n",
    "min(olay_lh[0])\n",
    "\n",
    "std_olay_lh=(olay-min(olay))/(max(olay)-min(olay))\n",
    "print(max(std_olay_lh))\n",
    "print(min(std_olay_lh))\n",
    "#mlv=maybe_lverts[0].shape[0]"
   ]
  },
  {
   "cell_type": "code",
   "execution_count": 780,
   "metadata": {},
   "outputs": [
    {
     "ename": "ValueError",
     "evalue": "operands could not be broadcast together with shapes (1200,29696) (1200,) ",
     "output_type": "error",
     "traceback": [
      "\u001b[0;31m---------------------------------------------------------------------------\u001b[0m",
      "\u001b[0;31mValueError\u001b[0m                                Traceback (most recent call last)",
      "\u001b[0;32m<ipython-input-780-e215821ae1ec>\u001b[0m in \u001b[0;36m<module>\u001b[0;34m()\u001b[0m\n\u001b[1;32m      6\u001b[0m     \u001b[0;32mreturn\u001b[0m \u001b[0mscaled\u001b[0m\u001b[0;34m\u001b[0m\u001b[0m\n\u001b[1;32m      7\u001b[0m \u001b[0;34m\u001b[0m\u001b[0m\n\u001b[0;32m----> 8\u001b[0;31m \u001b[0mscaled_clh\u001b[0m\u001b[0;34m=\u001b[0m\u001b[0molayscale\u001b[0m\u001b[0;34m(\u001b[0m\u001b[0mclh\u001b[0m\u001b[0;34m)\u001b[0m\u001b[0;34m\u001b[0m\u001b[0m\n\u001b[0m\u001b[1;32m      9\u001b[0m \u001b[0mscaled_clh\u001b[0m\u001b[0;34m\u001b[0m\u001b[0m\n\u001b[1;32m     10\u001b[0m \u001b[0;31m#scaled_olay=olayscale(clh[0])\u001b[0m\u001b[0;34m\u001b[0m\u001b[0;34m\u001b[0m\u001b[0m\n",
      "\u001b[0;32m<ipython-input-780-e215821ae1ec>\u001b[0m in \u001b[0;36molayscale\u001b[0;34m(olay)\u001b[0m\n\u001b[1;32m      3\u001b[0m \u001b[0;32mdef\u001b[0m \u001b[0molayscale\u001b[0m\u001b[0;34m(\u001b[0m\u001b[0molay\u001b[0m\u001b[0;34m)\u001b[0m\u001b[0;34m:\u001b[0m\u001b[0;34m\u001b[0m\u001b[0m\n\u001b[1;32m      4\u001b[0m     \u001b[0;31m# scales input array values to between zero and one, needed for iPyVolume colormaps\u001b[0m\u001b[0;34m\u001b[0m\u001b[0;34m\u001b[0m\u001b[0m\n\u001b[0;32m----> 5\u001b[0;31m     \u001b[0mscaled\u001b[0m\u001b[0;34m=\u001b[0m\u001b[0;34m(\u001b[0m\u001b[0molay\u001b[0m\u001b[0;34m-\u001b[0m\u001b[0mnp\u001b[0m\u001b[0;34m.\u001b[0m\u001b[0mamin\u001b[0m\u001b[0;34m(\u001b[0m\u001b[0molay\u001b[0m\u001b[0;34m,\u001b[0m\u001b[0molay\u001b[0m\u001b[0;34m.\u001b[0m\u001b[0mndim\u001b[0m\u001b[0;34m-\u001b[0m\u001b[0;36m1\u001b[0m\u001b[0;34m)\u001b[0m\u001b[0;34m)\u001b[0m\u001b[0;34m/\u001b[0m\u001b[0;34m(\u001b[0m\u001b[0mnp\u001b[0m\u001b[0;34m.\u001b[0m\u001b[0mamax\u001b[0m\u001b[0;34m(\u001b[0m\u001b[0molay\u001b[0m\u001b[0;34m,\u001b[0m\u001b[0molay\u001b[0m\u001b[0;34m.\u001b[0m\u001b[0mndim\u001b[0m\u001b[0;34m-\u001b[0m\u001b[0;36m1\u001b[0m\u001b[0;34m)\u001b[0m\u001b[0;34m-\u001b[0m\u001b[0mnp\u001b[0m\u001b[0;34m.\u001b[0m\u001b[0mamin\u001b[0m\u001b[0;34m(\u001b[0m\u001b[0molay\u001b[0m\u001b[0;34m,\u001b[0m\u001b[0molay\u001b[0m\u001b[0;34m.\u001b[0m\u001b[0mndim\u001b[0m\u001b[0;34m-\u001b[0m\u001b[0;36m1\u001b[0m\u001b[0;34m)\u001b[0m\u001b[0;34m)\u001b[0m\u001b[0;34m\u001b[0m\u001b[0m\n\u001b[0m\u001b[1;32m      6\u001b[0m     \u001b[0;32mreturn\u001b[0m \u001b[0mscaled\u001b[0m\u001b[0;34m\u001b[0m\u001b[0m\n\u001b[1;32m      7\u001b[0m \u001b[0;34m\u001b[0m\u001b[0m\n",
      "\u001b[0;31mValueError\u001b[0m: operands could not be broadcast together with shapes (1200,29696) (1200,) "
     ]
    }
   ],
   "source": [
    "### THIS ONE\n",
    "\n",
    "def olayscale(olay):\n",
    "    # scales input array values to between zero and one, needed for iPyVolume colormaps\n",
    "    scaled=(olay-np.amin(olay,olay.ndim-1))/(np.amax(olay,olay.ndim-1)-np.amin(olay,olay.ndim-1))\n",
    "    return scaled\n",
    "\n",
    "scaled_clh=olayscale(clh)\n",
    "scaled_clh\n",
    "#scaled_olay=olayscale(clh[0])\n",
    "#scaled_olay\n",
    "#print(max(clh[0]))\n",
    "#np.amax(clh,1)\n",
    "#clh.ndim\n",
    "#xx=olay-np.amin(olay,olay.ndim-1)\n",
    "#yy=np.amax(olay,olay.ndim-1)-np.amin(olay,olay.ndim-1)"
   ]
  },
  {
   "cell_type": "code",
   "execution_count": 777,
   "metadata": {},
   "outputs": [
    {
     "data": {
      "text/plain": [
       "(1200, 29696)"
      ]
     },
     "execution_count": 777,
     "metadata": {},
     "output_type": "execute_result"
    }
   ],
   "source": [
    "clh.shape"
   ]
  },
  {
   "cell_type": "code",
   "execution_count": 733,
   "metadata": {},
   "outputs": [
    {
     "ename": "ValueError",
     "evalue": "The truth value of an array with more than one element is ambiguous. Use a.any() or a.all()",
     "output_type": "error",
     "traceback": [
      "\u001b[0;31m---------------------------------------------------------------------------\u001b[0m",
      "\u001b[0;31mValueError\u001b[0m                                Traceback (most recent call last)",
      "\u001b[0;32m<ipython-input-733-4642ad7d08ae>\u001b[0m in \u001b[0;36m<module>\u001b[0;34m()\u001b[0m\n\u001b[1;32m      6\u001b[0m \u001b[0mscaled_olay\u001b[0m\u001b[0;34m=\u001b[0m\u001b[0molayscale\u001b[0m\u001b[0;34m(\u001b[0m\u001b[0molay\u001b[0m\u001b[0;34m)\u001b[0m\u001b[0;34m\u001b[0m\u001b[0m\n\u001b[1;32m      7\u001b[0m \u001b[0mnp\u001b[0m\u001b[0;34m.\u001b[0m\u001b[0many\u001b[0m\u001b[0;34m(\u001b[0m\u001b[0mscaled_olay\u001b[0m\u001b[0;34m==\u001b[0m\u001b[0mstd_olay_lh\u001b[0m\u001b[0;34m)\u001b[0m\u001b[0;34m\u001b[0m\u001b[0m\n\u001b[0;32m----> 8\u001b[0;31m \u001b[0mscaled_clh\u001b[0m\u001b[0;34m=\u001b[0m\u001b[0molayscale\u001b[0m\u001b[0;34m(\u001b[0m\u001b[0mclh\u001b[0m\u001b[0;34m)\u001b[0m\u001b[0;34m\u001b[0m\u001b[0m\n\u001b[0m",
      "\u001b[0;32m<ipython-input-728-ae243ad9e789>\u001b[0m in \u001b[0;36molayscale\u001b[0;34m(olay)\u001b[0m\n\u001b[1;32m      1\u001b[0m \u001b[0;32mdef\u001b[0m \u001b[0molayscale\u001b[0m\u001b[0;34m(\u001b[0m\u001b[0molay\u001b[0m\u001b[0;34m)\u001b[0m\u001b[0;34m:\u001b[0m\u001b[0;34m\u001b[0m\u001b[0m\n\u001b[1;32m      2\u001b[0m     \u001b[0;31m# scales input array values to between zero and one, needed for iPyVolume colormaps\u001b[0m\u001b[0;34m\u001b[0m\u001b[0;34m\u001b[0m\u001b[0m\n\u001b[0;32m----> 3\u001b[0;31m     \u001b[0mscaled\u001b[0m\u001b[0;34m=\u001b[0m\u001b[0mnp\u001b[0m\u001b[0;34m.\u001b[0m\u001b[0masarray\u001b[0m\u001b[0;34m(\u001b[0m\u001b[0;34m(\u001b[0m\u001b[0molay\u001b[0m\u001b[0;34m-\u001b[0m\u001b[0mmin\u001b[0m\u001b[0;34m(\u001b[0m\u001b[0molay\u001b[0m\u001b[0;34m)\u001b[0m\u001b[0;34m)\u001b[0m\u001b[0;34m/\u001b[0m\u001b[0;34m(\u001b[0m\u001b[0mmax\u001b[0m\u001b[0;34m(\u001b[0m\u001b[0molay\u001b[0m\u001b[0;34m)\u001b[0m\u001b[0;34m-\u001b[0m\u001b[0mmin\u001b[0m\u001b[0;34m(\u001b[0m\u001b[0molay\u001b[0m\u001b[0;34m)\u001b[0m\u001b[0;34m)\u001b[0m\u001b[0;34m)\u001b[0m\u001b[0;34m\u001b[0m\u001b[0m\n\u001b[0m\u001b[1;32m      4\u001b[0m     \u001b[0;32mreturn\u001b[0m \u001b[0mscaled\u001b[0m\u001b[0;34m\u001b[0m\u001b[0m\n",
      "\u001b[0;31mValueError\u001b[0m: The truth value of an array with more than one element is ambiguous. Use a.any() or a.all()"
     ]
    }
   ],
   "source": [
    "std_olay_lh=np.asarray((olay-min(olay))/(max(olay)-min(olay)))\n",
    "std_olay_lh.shape\n",
    "olay.shape\n",
    "np.corrcoef(std_olay_lh,olay)\n",
    "clh.shape\n",
    "scaled_olay=olayscale(olay)\n",
    "np.any(scaled_olay==std_olay_lh)\n",
    "scaled_clh=olayscale(clh)"
   ]
  },
  {
   "cell_type": "code",
   "execution_count": 642,
   "metadata": {},
   "outputs": [],
   "source": [
    "olay=np.zeros([32492])\n",
    "values=clh[0]\n",
    "count=0\n",
    "olay[lidx] = values\n",
    "#for x in 0:len(lidx):\n",
    "#    olay[lidx[x]]=values[x]\n",
    "#    count=count+1\n",
    "    \n",
    "    \n",
    "#for ii in np.where(cort_lh)[0]:\n",
    "#    cort_mask_lh=mesh_lh.data==ii\n",
    "#    cort_mask_lh=cort_mask_lh.any(1)\n",
    "#    cort_tri_lh.append(cort_mask_lh)"
   ]
  },
  {
   "cell_type": "code",
   "execution_count": 667,
   "metadata": {},
   "outputs": [
    {
     "data": {
      "text/plain": [
       "29696"
      ]
     },
     "execution_count": 667,
     "metadata": {},
     "output_type": "execute_result"
    }
   ],
   "source": [
    "len(lidx)"
   ]
  },
  {
   "cell_type": "code",
   "execution_count": 621,
   "metadata": {},
   "outputs": [
    {
     "ename": "TypeError",
     "evalue": "list indices must be integers or slices, not tuple",
     "output_type": "error",
     "traceback": [
      "\u001b[0;31m---------------------------------------------------------------------------\u001b[0m",
      "\u001b[0;31mTypeError\u001b[0m                                 Traceback (most recent call last)",
      "\u001b[0;32m<ipython-input-621-f8e286d5446b>\u001b[0m in \u001b[0;36m<module>\u001b[0;34m()\u001b[0m\n\u001b[1;32m      4\u001b[0m \u001b[0;32mfor\u001b[0m \u001b[0mx\u001b[0m \u001b[0;32min\u001b[0m \u001b[0mrange\u001b[0m\u001b[0;34m(\u001b[0m\u001b[0;36m32491\u001b[0m\u001b[0;34m)\u001b[0m\u001b[0;34m:\u001b[0m\u001b[0;34m\u001b[0m\u001b[0m\n\u001b[1;32m      5\u001b[0m     \u001b[0;32mif\u001b[0m \u001b[0mcort_lh\u001b[0m\u001b[0;34m[\u001b[0m\u001b[0mx\u001b[0m\u001b[0;34m]\u001b[0m\u001b[0;34m==\u001b[0m\u001b[0;32mTrue\u001b[0m\u001b[0;34m:\u001b[0m\u001b[0;34m\u001b[0m\u001b[0m\n\u001b[0;32m----> 6\u001b[0;31m         \u001b[0molay_lh_fillgaps\u001b[0m\u001b[0;34m[\u001b[0m\u001b[0;36m0\u001b[0m\u001b[0;34m,\u001b[0m\u001b[0mint\u001b[0m\u001b[0;34m(\u001b[0m\u001b[0mx\u001b[0m\u001b[0;34m)\u001b[0m\u001b[0;34m]\u001b[0m\u001b[0;34m=\u001b[0m\u001b[0molay_lh\u001b[0m\u001b[0;34m[\u001b[0m\u001b[0;36m0\u001b[0m\u001b[0;34m,\u001b[0m\u001b[0mint\u001b[0m\u001b[0;34m(\u001b[0m\u001b[0mx\u001b[0m\u001b[0;34m)\u001b[0m\u001b[0;34m]\u001b[0m\u001b[0;34m\u001b[0m\u001b[0m\n\u001b[0m\u001b[1;32m      7\u001b[0m     \u001b[0;32melse\u001b[0m\u001b[0;34m:\u001b[0m\u001b[0;34m\u001b[0m\u001b[0m\n\u001b[1;32m      8\u001b[0m         \u001b[0molay_lh_fillgaps\u001b[0m\u001b[0;34m[\u001b[0m\u001b[0;36m0\u001b[0m\u001b[0;34m,\u001b[0m\u001b[0mint\u001b[0m\u001b[0;34m(\u001b[0m\u001b[0mx\u001b[0m\u001b[0;34m)\u001b[0m\u001b[0;34m]\u001b[0m\u001b[0;34m=\u001b[0m\u001b[0;34m[\u001b[0m\u001b[0;36m0\u001b[0m\u001b[0;34m,\u001b[0m\u001b[0mint\u001b[0m\u001b[0;34m(\u001b[0m\u001b[0mx\u001b[0m\u001b[0;34m)\u001b[0m\u001b[0;34m]\u001b[0m\u001b[0;34m\u001b[0m\u001b[0m\n",
      "\u001b[0;31mTypeError\u001b[0m: list indices must be integers or slices, not tuple"
     ]
    }
   ],
   "source": [
    "color_lh.shape\n",
    "32492-29696\n",
    "olay_lh_fillgaps=[]\n",
    "for x in range(32491):\n",
    "    if cort_lh[x]==True:\n",
    "        olay_lh_fillgaps[0,int(x)]=olay_lh[0,int(x)]\n",
    "    else:\n",
    "        olay_lh_fillgaps[0,int(x)]=[0,int(x)]\n",
    "        \n",
    "print(olay_lh_fillgaps.shape)"
   ]
  },
  {
   "cell_type": "code",
   "execution_count": 639,
   "metadata": {},
   "outputs": [
    {
     "data": {
      "text/plain": [
       "array([ 0.53080547,  0.44309887,  0.39293829, ...,  0.37931663,\n",
       "        0.39185846,  0.40771461], dtype=float32)"
      ]
     },
     "execution_count": 639,
     "metadata": {},
     "output_type": "execute_result"
    }
   ],
   "source": [
    "std_olay_lh"
   ]
  },
  {
   "cell_type": "code",
   "execution_count": 651,
   "metadata": {},
   "outputs": [
    {
     "data": {
      "application/vnd.jupyter.widget-view+json": {
       "model_id": "361aba9fc62544fd849c319e071488a1",
       "version_major": 2,
       "version_minor": 0
      },
      "text/plain": [
       "A Jupyter Widget"
      ]
     },
     "metadata": {},
     "output_type": "display_data"
    }
   ],
   "source": [
    "fig = p3.figure(width=600, height=600)\n",
    "fig.camera_fov = 1\n",
    "fig.style = {'axes': {'color': 'black',\n",
    "  'label': {'color': 'black'},\n",
    "  'ticklabel': {'color': 'black'},\n",
    "  'visible': False},\n",
    " 'background-color': 'white',\n",
    " 'box': {'visible': False}}\n",
    "fig.xlim = (-100, 100)\n",
    "fig.ylim = (-100, 100)\n",
    "fig.zlim = (-100, 100)\n",
    "\n",
    "# plot each hemisphere\n",
    "#x, y, z = data_lh[0][:, 0], data_lh[0][:, 1], data_lh[0][:, 2]\n",
    "#p3.plot_trisurf(x, y, z, triangles=data_lh[1], color='gray')\n",
    "\n",
    "#activation=np.linspace(0,1,x.shape[0]) #np.ones(x.shape[0]) #\n",
    "#activation2 = np.ones(x.shape[0])\n",
    "#color_lh=plt.cm.autumn(olay_lh)\n",
    "color_lh=plt.cm.viridis(std_olay_lh)\n",
    "#color_mlh=plt.cm.autumn(np.log(olay_lh+sys.float_info.epsilon))\n",
    "color_rh=plt.cm.viridis(np.log(olay_rh+sys.float_info.epsilon))\n",
    "\n",
    "#colors\n",
    "x, y, z = xyz_lh.data.T\n",
    "#surf_mlh = p3.plot_trisurf(y, z, x, triangles=mesh_lh.data[cort_mask_lh], color=color_mlh[:,:3])\n",
    "\n",
    "surf_lh = p3.plot_trisurf(y,z,x,triangles=mesh_lh.data[cort_mask_lh],color=color_lh[:,:3])\n",
    "#sub_lh = p3.plot_trisurf(x, y, z, triangles=mesh_lh.data[sub_mask_lh], color=color_lh[:,:3])\n",
    "x, y, z = xyz_rh.data.T\n",
    "#surf_rh = p3.plot_trisurf(y*1.1, z*1.1, x*1.1, triangles=mesh_rh.data[cort_mask_rh], color=color_rh[:,:3])\n",
    "surf_rh = p3.plot_trisurf(y,z,x,triangles=mesh_rh.data[cort_mask_rh],color=color_rh[:,:3])\n",
    "#sub_rh = p3.plot_trisurf(x, y, z, triangles=mesh_rh.data[sub_mask_rh], color=color_rh[:,:3])\n",
    "\n",
    "x, y, z = sub_mask1\n",
    "#surf_sub = p3.plot_trisurf(x, y, z,triangles=np.ones_like(sub_mask1),color='grey')\n",
    "\n",
    "#x, y, z = xyz_rh.data.T\n",
    "#surf_rh = p3.plot_trisurf(x, y, z, triangles=mesh_rh.data, color=color_rh[:,:3])\n",
    "\n",
    "\n",
    "\n",
    "#x, y, z = data_rh[0][:, 0], data_rh[0][:, 1], data_rh[0][:, 2]\n",
    "#p3.plot_trisurf(x, y, z, triangles=data_rh[1], color='gray')\n",
    "\n",
    "p3.show()"
   ]
  },
  {
   "cell_type": "code",
   "execution_count": 652,
   "metadata": {
    "scrolled": false
   },
   "outputs": [
    {
     "name": "stderr",
     "output_type": "stream",
     "text": [
      "/Users/ely/Dropbox/SCIENCE/Software/anaconda3/anaconda/lib/python3.6/site-packages/ipyvolume/serialize.py:66: RuntimeWarning: invalid value encountered in true_divide\n",
      "  gradient = gradient / np.sqrt(gradient[0]**2 + gradient[1]**2 + gradient[2]**2)\n"
     ]
    },
    {
     "data": {
      "application/vnd.jupyter.widget-view+json": {
       "model_id": "bbedda88dbac41e997abde8de2d6ac12",
       "version_major": 2,
       "version_minor": 0
      },
      "text/plain": [
       "A Jupyter Widget"
      ]
     },
     "metadata": {},
     "output_type": "display_data"
    }
   ],
   "source": [
    "from mpl_toolkits.mplot3d.art3d import Poly3DCollection\n",
    "from skimage import measure\n",
    "#from skimage.draw import ellipsoid\n",
    "#sub_mask2=np.asarray(sub_mask)\n",
    "#sub_mask2.ndim\n",
    "#verts, faces, normals, values = measure.marching_cubes_lewiner(sub_mask2.T, 0)\n",
    "#%whos\n",
    "#sorted(xyz_lh.data.T[1])\n",
    "#print(max(xyz_lh.data.T[1]))\n",
    "#print(min(xyz_lh.data.T[1]))\n",
    "#xyz_lh.data.T.shape\n",
    "#real_coords.data.shape\n",
    "#p3.plot_wireframe(x,y,z, color='red', wrapx=False, wrapy=False)\n",
    "#x.shape\n",
    "p3.volshow(subcort_disp)\n",
    "#p3.volshow(real_coords)\n",
    "#p3.plot_isosurface(subcort_disp)\n",
    "#p3.plot_isosurface(real_coords)\n",
    "#p3.plot\n",
    "#x, y, z = real_coords.T\n",
    "#p3.plot_trisurf(x, y, z)\n"
   ]
  },
  {
   "cell_type": "code",
   "execution_count": null,
   "metadata": {},
   "outputs": [],
   "source": [
    "sub_mask2.T.ndim"
   ]
  },
  {
   "cell_type": "code",
   "execution_count": null,
   "metadata": {
    "collapsed": true
   },
   "outputs": [],
   "source": [
    "p3.plot_trisurf(x, y, z,triangles=np.ones_like(sub_mask1),color='grey')"
   ]
  },
  {
   "cell_type": "code",
   "execution_count": null,
   "metadata": {},
   "outputs": [],
   "source": [
    "fig"
   ]
  },
  {
   "cell_type": "code",
   "execution_count": null,
   "metadata": {},
   "outputs": [],
   "source": [
    "color2_lh = plt.cm.autumn(np.log(olay_lh+sys.float_info.epsilon))\n",
    "color2_rh = plt.cm.autumn(np.log(olay_rh+sys.float_info.epsilon))"
   ]
  },
  {
   "cell_type": "code",
   "execution_count": null,
   "metadata": {},
   "outputs": [],
   "source": [
    "surf_lh.color = color2_lh[:, :3]\n",
    "surf_rh.color = color2_rh[:, :3]"
   ]
  },
  {
   "cell_type": "markdown",
   "metadata": {
    "solution2": "hidden",
    "solution2_first": true
   },
   "source": [
    "## Exercise 3: \n",
    "\n",
    "Plot the smoothwm surfaces of subject 1."
   ]
  },
  {
   "cell_type": "code",
   "execution_count": null,
   "metadata": {
    "solution2": "hidden"
   },
   "outputs": [],
   "source": [
    "data_lhs = nb.freesurfer.read_geometry('/data/ds000114/derivatives/freesurfer/sub-01/surf/lh.smoothwm')\n",
    "data_rhs = nb.freesurfer.read_geometry('/data/ds000114/derivatives/freesurfer/sub-01/surf/rh.smoothwm')\n",
    "\n",
    "fig = p3.figure(width=600, height=600)\n",
    "fig.camera_fov = 1\n",
    "fig.style = {'axes': {'color': 'black',\n",
    "  'label': {'color': 'black'},\n",
    "  'ticklabel': {'color': 'black'},\n",
    "  'visible': False},\n",
    " 'background-color': 'white',\n",
    " 'box': {'visible': False}}\n",
    "fig.xlim = (-100, 100)\n",
    "fig.ylim = (-100, 100)\n",
    "fig.zlim = (-100, 100)\n",
    "\n",
    "# plot each hemisphere\n",
    "x, y, z = data_lhs[0][:, 0], data_lhs[0][:, 1], data_lhs[0][:, 2]\n",
    "p3.plot_trisurf(x, y, z, triangles=data_lhs[1], color='gray')\n",
    "\n",
    "x, y, z = data_rhs[0][:, 0], data_rhs[0][:, 1], data_rhs[0][:, 2]\n",
    "p3.plot_trisurf(x, y, z, triangles=data_rhs[1], color='gray')\n",
    "\n",
    "p3.show()"
   ]
  },
  {
   "cell_type": "code",
   "execution_count": null,
   "metadata": {
    "collapsed": true
   },
   "outputs": [],
   "source": [
    "# Create solution here\n",
    "\n",
    "# load data\n",
    "\n",
    "# extract and plot each hemisphere"
   ]
  },
  {
   "cell_type": "markdown",
   "metadata": {},
   "source": [
    "The dataset we are using also has the surfaces stored in `gifti` format under `derivatives/fmriprep`. In addition, the freesurfer output for these subjects also has the parcellation files. Nibabel can read these files."
   ]
  },
  {
   "cell_type": "code",
   "execution_count": null,
   "metadata": {
    "collapsed": true
   },
   "outputs": [],
   "source": [
    "data_lh = [val.data for val in nb.load('/data/ds000114/derivatives/fmriprep/sub-01/anat/sub-01_t1w_smoothwm.l.surf.gii').darrays]\n",
    "data_rh = [val.data for val in nb.load('/data/ds000114/derivatives/fmriprep/sub-01/anat/sub-01_t1w_smoothwm.r.surf.gii').darrays]\n",
    "\n",
    "# Read the annot files and extract the colors.\n",
    "annot_rh = nb.freesurfer.read_annot('/data/ds000114/derivatives/freesurfer/sub-01/label/rh.aparc.dktatlas.annot')\n",
    "colors_rh = annot_rh[1][annot_rh[0], 0:3]/255.\n",
    "annot_lh = nb.freesurfer.read_annot('/data/ds000114/derivatives/freesurfer/sub-01/label/lh.aparc.dktatlas.annot')\n",
    "colors_lh = annot_lh[1][annot_lh[0], 0:3]/255."
   ]
  },
  {
   "cell_type": "code",
   "execution_count": null,
   "metadata": {},
   "outputs": [],
   "source": [
    "fig = p3.figure(width=600, height=600)\n",
    "# we draw the tetrahedron\n",
    "x, y, z = data_lh[0][:, 0], data_lh[0][:, 1], data_lh[0][:, 2]\n",
    "p3.plot_trisurf(x, y, z, triangles=data_lh[1], color=colors_lh)\n",
    "x, y, z = data_rh[0][:, 0], data_rh[0][:, 1], data_rh[0][:, 2]\n",
    "p3.plot_trisurf(x, y, z, triangles=data_rh[1], color=colors_rh)\n",
    "fig.camera_fov = 1\n",
    "fig.xlim = (-100, 100)\n",
    "fig.ylim = (-100, 100)\n",
    "fig.zlim = (-100, 100)\n",
    "p3.show()"
   ]
  },
  {
   "cell_type": "markdown",
   "metadata": {},
   "source": [
    "We can load the functional time series preprocessed by fmriprep"
   ]
  },
  {
   "cell_type": "code",
   "execution_count": null,
   "metadata": {
    "collapsed": true
   },
   "outputs": [],
   "source": [
    "lh_func = nb.load('/data/ds000114/derivatives/fmriprep/sub-02/ses-test/func/sub-02_ses-test_task-fingerfootlips_bold_space-fsaverage5.l.func.gii')\n",
    "data = np.vstack([val.data for val in lh_func.darrays]).T"
   ]
  },
  {
   "cell_type": "code",
   "execution_count": null,
   "metadata": {},
   "outputs": [],
   "source": [
    "plt.hist(data.flatten(), 128);"
   ]
  },
  {
   "cell_type": "code",
   "execution_count": null,
   "metadata": {},
   "outputs": [],
   "source": [
    "data[data<500] = np.nan\n",
    "mean_val = np.nanmean(data)\n",
    "data_change = (data - mean_val)/mean_val\n",
    "mean_epi = np.nanmedian(data, axis=1) - mean_val\n",
    "mean_std = np.nanstd(mean_epi)\n",
    "mean_epi[np.isnan(mean_epi)] = 0.\n",
    "data[np.isnan(data)] = 0.\n",
    "print(mean_epi.shape, mean_val, mean_std)"
   ]
  },
  {
   "cell_type": "code",
   "execution_count": null,
   "metadata": {},
   "outputs": [],
   "source": [
    "plt.hist(mean_epi, 128);"
   ]
  },
  {
   "cell_type": "code",
   "execution_count": null,
   "metadata": {
    "collapsed": true
   },
   "outputs": [],
   "source": [
    "def vals2colors(vals):\n",
    "    cmap = np.vstack((plt.cm.viridis(range(256)), plt.cm.cool(range(256))))\n",
    "    indices = 256 + (255 * vals).astype(int)\n",
    "    return cmap[indices, 0:3]"
   ]
  },
  {
   "cell_type": "code",
   "execution_count": null,
   "metadata": {},
   "outputs": [],
   "source": [
    "epi_vals = np.minimum(np.maximum(mean_epi/(3 * mean_std), -1), 1)\n",
    "colors = vals2colors(epi_vals)\n",
    "plt.hist(epi_vals, 64);"
   ]
  },
  {
   "cell_type": "markdown",
   "metadata": {},
   "source": [
    "If you do not have lh.smoothwm you can retrieve it using the following command\n",
    "\n",
    "```\n",
    "!datalad get /data/ds000114/derivatives/freesurfer/fsaverage5/surf/lh.smoothwm\n",
    "```"
   ]
  },
  {
   "cell_type": "code",
   "execution_count": null,
   "metadata": {},
   "outputs": [],
   "source": [
    "data_fs = nb.freesurfer.read_geometry('/data/ds000114/derivatives/freesurfer/fsaverage5/surf/lh.smoothwm')\n",
    "\n",
    "fig = p3.figure(width=600, height=600)\n",
    "# we draw the tetrahedron\n",
    "x, y, z = data_fs[0][:, 0], data_fs[0][:, 1], data_fs[0][:, 2]\n",
    "p3.plot_trisurf(x, y, z, triangles=data_fs[1], color=colors)\n",
    "fig.camera_fov = 1\n",
    "fig.anglex = np.pi/2\n",
    "fig.angley = -np.pi/2\n",
    "fig.xlim = (-100, 100)\n",
    "fig.ylim = (-100, 100)\n",
    "fig.zlim = (-100, 100)\n",
    "p3.show()"
   ]
  },
  {
   "cell_type": "markdown",
   "metadata": {
    "solution2": "hidden",
    "solution2_first": true
   },
   "source": [
    "## Exercise 4:\n",
    "\n",
    "Plot the mean activity of the functional time series (stored as gifti) on the surface of the fsaverage5 mesh. The fmriprep routine generates these surface-based timeseries files.\n",
    "\n",
    "- extract principal components of the data scikit-learn \n",
    "- plot the first two components on the surface of the mesh\n"
   ]
  },
  {
   "cell_type": "code",
   "execution_count": null,
   "metadata": {
    "collapsed": true,
    "solution2": "hidden"
   },
   "outputs": [],
   "source": [
    "from sklearn.decomposition import PCA\n",
    "foo = PCA(n_components=2).fit_transform(data)"
   ]
  },
  {
   "cell_type": "code",
   "execution_count": null,
   "metadata": {
    "solution2": "hidden"
   },
   "outputs": [],
   "source": [
    "comp_vals = np.minimum(np.maximum(foo[:, 0]/(3 * np.std(foo[:, 0])), -1), 1)\n",
    "colors = vals2colors(comp_vals)\n",
    "plt.hist(epi_vals, 64);"
   ]
  },
  {
   "cell_type": "code",
   "execution_count": null,
   "metadata": {
    "solution2": "hidden"
   },
   "outputs": [],
   "source": [
    "data_fs = nb.freesurfer.read_geometry('/data/ds000114/derivatives/freesurfer/fsaverage5/surf/lh.smoothwm')\n",
    "\n",
    "fig = p3.figure(width=600, height=600)\n",
    "# we draw the tetrahedron\n",
    "x, y, z = data_fs[0][:, 0], data_fs[0][:, 1], data_fs[0][:, 2]\n",
    "p3.plot_trisurf(x, y, z, triangles=data_fs[1], color=colors)\n",
    "fig.camera_fov = 1\n",
    "fig.anglex = np.pi/2\n",
    "fig.angley = -np.pi/2\n",
    "fig.xlim = (-100, 100)\n",
    "fig.ylim = (-100, 100)\n",
    "fig.zlim = (-100, 100)\n",
    "p3.show()"
   ]
  },
  {
   "cell_type": "code",
   "execution_count": null,
   "metadata": {
    "collapsed": true
   },
   "outputs": [],
   "source": [
    "# Look up how to use PCA from scikit learn\n",
    "\n",
    "# Follow the steps from above to plot the two components"
   ]
  },
  {
   "cell_type": "code",
   "execution_count": null,
   "metadata": {
    "collapsed": true
   },
   "outputs": [],
   "source": []
  },
  {
   "cell_type": "code",
   "execution_count": null,
   "metadata": {
    "collapsed": true
   },
   "outputs": [],
   "source": []
  },
  {
   "cell_type": "markdown",
   "metadata": {
    "collapsed": true
   },
   "source": [
    "<b> ~~~~~ BONEYARD ~~~~~ </b>"
   ]
  },
  {
   "cell_type": "code",
   "execution_count": null,
   "metadata": {
    "scrolled": true
   },
   "outputs": [],
   "source": [
    "from urllib.request import urlretrieve\n",
    "urlretrieve('https://osf.io/7jbpr/download?version=1', '/tmp/T1.nii.gz')"
   ]
  },
  {
   "cell_type": "code",
   "execution_count": null,
   "metadata": {
    "collapsed": true
   },
   "outputs": [],
   "source": [
    "fig.trait_names"
   ]
  },
  {
   "cell_type": "markdown",
   "metadata": {
    "solution2": "hidden",
    "solution2_first": true
   },
   "source": [
    "## Exercise 1:\n",
    "\n",
    "Turn this image into a face\n",
    "\n",
    "- adjust the transfer function using `level`, `opacity`, and `max_opacity`\n",
    "- adjust lighting using `lighting` and `diffuse_coefficient`\n",
    "- turn of controls after you are done adjusting\n",
    "- fix the aspect ratio based on dimensions\n",
    "  The image is always rendered into a cube, so extend the volume with zeros to create a uniform cube\n",
    "- use `downscale` to do faster rendering"
   ]
  },
  {
   "cell_type": "code",
   "execution_count": null,
   "metadata": {
    "collapsed": true
   },
   "outputs": [],
   "source": [
    "# Here is an example of mesh plotting from the IPYVolume documentation\n",
    "\n",
    "s = 1/2**0.5\n",
    "\n",
    "# Create 4 vertices for the tetrahedron\n",
    "x = np.array([1.,  -1, 0,  0])\n",
    "y = np.array([0,   0, 1., -1])\n",
    "z = np.array([-s, -s, s,  s])\n",
    "\n",
    "# and 4 surfaces (triangles or faces), where the number refer to the vertex index\n",
    "triangles = [(0, 1, 2), (0, 1, 3), (0, 2, 3), (1,3,2)]"
   ]
  },
  {
   "cell_type": "code",
   "execution_count": null,
   "metadata": {},
   "outputs": [],
   "source": [
    "fig = p3.figure()\n",
    "# we draw the tetrahedron\n",
    "p3.plot_trisurf(x, y, z, triangles=triangles, color='orange')\n",
    "# and also mark the vertices\n",
    "p3.scatter(x, y, z, marker='sphere', color='blue')\n",
    "p3.xyzlim(-2, 2)\n",
    "p3.show()"
   ]
  },
  {
   "cell_type": "code",
   "execution_count": null,
   "metadata": {
    "scrolled": true
   },
   "outputs": [],
   "source": [
    "# code for general 3D rotation\n",
    "from numpy import cross, eye, dot\n",
    "from scipy.linalg import expm3, norm\n",
    "import math\n",
    "def M(axis, theta):\n",
    "    return expm3(cross(eye(3), axis/norm(axis)*theta))\n",
    "\n",
    "v, axis, theta = [3,5,0], [1,0,0], math.pi/2\n",
    "M0 = M(axis, theta)\n",
    "v*M0"
   ]
  }
 ],
 "metadata": {
  "kernelspec": {
   "display_name": "Python 3",
   "language": "python",
   "name": "python3"
  },
  "language_info": {
   "codemirror_mode": {
    "name": "ipython",
    "version": 3
   },
   "file_extension": ".py",
   "mimetype": "text/x-python",
   "name": "python",
   "nbconvert_exporter": "python",
   "pygments_lexer": "ipython3",
   "version": "3.6.1"
  }
 },
 "nbformat": 4,
 "nbformat_minor": 2
}
