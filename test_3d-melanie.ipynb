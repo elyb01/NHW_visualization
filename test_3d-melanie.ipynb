{
 "cells": [
  {
   "cell_type": "markdown",
   "metadata": {},
   "source": [
    "# Test notebook for visualizing in 3D, Neurohackweek 2017\n",
    "\n",
    "- Cloned from the demo introductory_3d.ipynb notebook\n",
    "- Initial functionality based on [IPyvolume](https://ipyvolume.readthedocs.io/en/latest/index.html)\n",
    "- modified by melanie to focus on surface viewer"
   ]
  },
  {
   "cell_type": "markdown",
   "metadata": {},
   "source": [
    "load packages"
   ]
  },
  {
   "cell_type": "code",
   "execution_count": null,
   "metadata": {
    "collapsed": true
   },
   "outputs": [],
   "source": []
  },
  {
   "cell_type": "code",
   "execution_count": 8,
   "metadata": {},
   "outputs": [],
   "source": [
    "%matplotlib inline\n",
    "import matplotlib.pyplot as plt\n",
    "\n",
    "import nibabel as nb\n",
    "import ipyvolume\n",
    "import ipyvolume.pylab as p3\n",
    "import numpy as np\n",
    "import os\n",
    "import sys\n",
    "import niwidgets\n",
    "from ipywidgets import interact,fixed"
   ]
  },
  {
   "cell_type": "code",
   "execution_count": null,
   "metadata": {
    "collapsed": true
   },
   "outputs": [],
   "source": [
    "def f(x):\n",
    "    return x"
   ]
  },
  {
   "cell_type": "code",
   "execution_count": 3,
   "metadata": {
    "collapsed": true
   },
   "outputs": [],
   "source": [
    "# before running, set the global variable NHW to your NHW_visualization git directory\n",
    "# e.g. add 'export NHW=/Users/ely/Desktop/nhw2017/NHW_visualization' to your ~/.bashrc file\n",
    "nhw = os.environ['NHW'] # set the global variable NHW to your NHW_visualization git directory\n",
    "V = nb.load(nhw + '/data/100610/MNINonLinear/T1w_restore_brain.nii.gz').get_data()"
   ]
  },
  {
   "cell_type": "code",
   "execution_count": 13,
   "metadata": {
    "collapsed": true
   },
   "outputs": [],
   "source": [
    "def showSurface(surface,overlay=None,newfigure=True,colormap='summer',figsize=np.array([600,600]),\n",
    "                figlims=np.array([[-100,100],[-100,100],[-100,100]])):\n",
    "    '''\n",
    "    Displays a surface mesh in gifti or FreeSurfer (FS) surface format with/without an overlay inside  \n",
    "    Jupyter notebook for interactive visualization.\n",
    "\n",
    "    Parameters\n",
    "    ----------\n",
    "    surface : str, gifti opject\n",
    "        Path to surface file in gifti or FS surface format or an already loaded gifti object of surface\n",
    "    overlay : str, gifti opject\n",
    "        Path to overlay file in gifti or FS annot or anaotimcal (.curv,.sulc,.thickness) format or an already loaded \n",
    "        gifti object of overlay, default None\n",
    "    newfigure: bool\n",
    "        Create a new figure else prints into the last figure (in order to visualize both hemispheres in \n",
    "        one plot), default True\n",
    "    colormap: string\n",
    "        A matplotlib colormap, default summer\n",
    "    figsize: ndarray\n",
    "        Size of the figure to display, default [600,600]\n",
    "    figLims: ndarray\n",
    "        x,y and z limits of the axes, default [[-100,100],[-100,100],[-100,100]])\n",
    "\n",
    "    '''\n",
    "\n",
    "    if isinstance(surface,str):\n",
    "        if not os.path.exists(surface):\n",
    "            error('File does not exist, please provide a valid file path to a gifti or FreeSurfer file.')\n",
    "        filename, file_extension = os.path.splitext(surface)\n",
    "        if file_extension is '.gii':\n",
    "            surface = nb.load(surface)\n",
    "        else:\n",
    "            fsgeometry = nb.freesurfer.read_geometry(surface)\n",
    "            x,y,z = fsgeometry[0].T\n",
    "            vertex_edges=fsgeometry[1]\n",
    "\n",
    "    if isinstance(surface,nb.gifti.gifti.GiftiImage):\n",
    "        try:\n",
    "            vertex_spatial=surface.darrays[0]\n",
    "            vertex_edges=surface.darrays[1]\n",
    "            x, y, z = vertex_spatial.data.T\n",
    "        except:\n",
    "            raise ValueError('Please provide a valid gifti file.')\n",
    "        \n",
    "    if isinstance(overlay,str):\n",
    "        if not os.path.exists(surface):\n",
    "            error('File does not exist, please provide a valid file path to a gifti or FreeSurfer file.')\n",
    "        filename, file_extension = os.path.splitext(overlay)\n",
    "        \n",
    "        if file_extension is '.gii':\n",
    "            overlay = nb.load(overlay)\n",
    "        elif (file_extension in ('.annot','')):\n",
    "            annot = nb.freesurfer.read_annot(overlay)\n",
    "            activation = annot[0]\n",
    "        elif (file_extension in ('.curv','.thickness','.sulc')):\n",
    "            activation = nb.freesurfer.read_morph_data(overlay)\n",
    "            \n",
    "    if isinstance(overlay,nb.gifti.gifti.GiftiImage):\n",
    "        try:\n",
    "            activation=overlay.darrays[0].data\n",
    "        except:\n",
    "            raise ValueError('Please provide a valid gifti file')\n",
    "    \n",
    "    \n",
    "    if newfigure:\n",
    "\n",
    "        fig = p3.figure(width=figsize[0], height=figsize[0])\n",
    "        fig.camera_fov = 1\n",
    "        fig.style = {'axes': {'color': 'black',\n",
    "          'label': {'color': 'black'},\n",
    "          'ticklabel': {'color': 'black'},\n",
    "          'visible': False},\n",
    "         'background-color': 'white',\n",
    "         'box': {'visible': False}}\n",
    "        fig.xlim = (figlims[0][0], figlims[0][1])\n",
    "        fig.ylim = (figlims[1][0], figlims[1][1])\n",
    "        fig.zlim = (figlims[2][0], figlims[2][1])\n",
    "\n",
    "        \n",
    "    # plot surface\n",
    "    if overlay is None:\n",
    "        p3.plot_trisurf(x, y, z, triangles=vertex_edges.data)\n",
    "    else:\n",
    "        my_color = plt.cm.get_cmap(colormap)\n",
    "        colors=my_color((activation-min(activation))/(max(activation)-min(activation)))\n",
    "        p3.plot_trisurf(x, y, z, triangles=vertex_edges.data, color=colors[:,:3])\n",
    "\n",
    "    if newfigure:\n",
    "        p3.show()\n",
    "        \n",
    "    return 1\n",
    "    \n",
    "    \n",
    "   "
   ]
  },
  {
   "cell_type": "markdown",
   "metadata": {},
   "source": [
    "## Plot gifti surface and overlay files for a subject's left and right hemisphere"
   ]
  },
  {
   "cell_type": "code",
   "execution_count": 5,
   "metadata": {
    "collapsed": true
   },
   "outputs": [],
   "source": [
    "data_lh = nb.load(nhw+'/data/100610/MNINonLinear/fsaverage_LR32k/100610.L.midthickness_MSMAll.32k_fs_LR.surf.gii')\n",
    "data_lh_myelin = nb.load(nhw+'/data/100610/MNINonLinear/fsaverage_LR32k/100610.L.MyelinMap.32k_fs_LR.func.gii')\n",
    "\n",
    "data_rh = nb.load(nhw+'/data/100610/MNINonLinear/fsaverage_LR32k/100610.R.midthickness_MSMAll.32k_fs_LR.surf.gii')\n",
    "data_rh_myelin = nb.load(nhw+'/data/100610/MNINonLinear/fsaverage_LR32k/100610.R.MyelinMap.32k_fs_LR.func.gii')"
   ]
  },
  {
   "cell_type": "code",
   "execution_count": 14,
   "metadata": {},
   "outputs": [
    {
     "ename": "ValueError",
     "evalue": "None cannot be transformed to a widget",
     "output_type": "error",
     "traceback": [
      "\u001b[1;31m---------------------------------------------------------------------------\u001b[0m",
      "\u001b[1;31mValueError\u001b[0m                                Traceback (most recent call last)",
      "\u001b[1;32m<ipython-input-14-6a898eb3ff83>\u001b[0m in \u001b[0;36m<module>\u001b[1;34m()\u001b[0m\n\u001b[1;32m----> 1\u001b[1;33m \u001b[0minteract\u001b[0m\u001b[1;33m(\u001b[0m\u001b[0mshowSurface\u001b[0m\u001b[1;33m,\u001b[0m\u001b[0msurface\u001b[0m\u001b[1;33m=\u001b[0m\u001b[0mfixed\u001b[0m\u001b[1;33m(\u001b[0m\u001b[0mdata_lh\u001b[0m\u001b[1;33m)\u001b[0m\u001b[1;33m,\u001b[0m\u001b[0mcolormap\u001b[0m\u001b[1;33m=\u001b[0m\u001b[1;33m[\u001b[0m\u001b[1;34m'summer'\u001b[0m\u001b[1;33m,\u001b[0m\u001b[1;34m'autumn'\u001b[0m\u001b[1;33m,\u001b[0m\u001b[1;34m'winter'\u001b[0m\u001b[1;33m,\u001b[0m\u001b[1;34m'spring'\u001b[0m\u001b[1;33m]\u001b[0m\u001b[1;33m)\u001b[0m\u001b[1;33m\u001b[0m\u001b[0m\n\u001b[0m",
      "\u001b[1;32mC:\\Users\\spn486\\AppData\\Local\\Continuum\\Anaconda3\\lib\\site-packages\\ipywidgets\\widgets\\interaction.py\u001b[0m in \u001b[0;36m__call__\u001b[1;34m(self, _InteractFactory__interact_f, **kwargs)\u001b[0m\n\u001b[0;32m    520\u001b[0m         \u001b[1;31m#    def f(*args, **kwargs):\u001b[0m\u001b[1;33m\u001b[0m\u001b[1;33m\u001b[0m\u001b[0m\n\u001b[0;32m    521\u001b[0m         \u001b[1;31m#        ...\u001b[0m\u001b[1;33m\u001b[0m\u001b[1;33m\u001b[0m\u001b[0m\n\u001b[1;32m--> 522\u001b[1;33m         \u001b[0mw\u001b[0m \u001b[1;33m=\u001b[0m \u001b[0mself\u001b[0m\u001b[1;33m.\u001b[0m\u001b[0mwidget\u001b[0m\u001b[1;33m(\u001b[0m\u001b[0mf\u001b[0m\u001b[1;33m)\u001b[0m\u001b[1;33m\u001b[0m\u001b[0m\n\u001b[0m\u001b[0;32m    523\u001b[0m         \u001b[1;32mtry\u001b[0m\u001b[1;33m:\u001b[0m\u001b[1;33m\u001b[0m\u001b[0m\n\u001b[0;32m    524\u001b[0m             \u001b[0mf\u001b[0m\u001b[1;33m.\u001b[0m\u001b[0mwidget\u001b[0m \u001b[1;33m=\u001b[0m \u001b[0mw\u001b[0m\u001b[1;33m\u001b[0m\u001b[0m\n",
      "\u001b[1;32mC:\\Users\\spn486\\AppData\\Local\\Continuum\\Anaconda3\\lib\\site-packages\\ipywidgets\\widgets\\interaction.py\u001b[0m in \u001b[0;36mwidget\u001b[1;34m(self, f)\u001b[0m\n\u001b[0;32m    436\u001b[0m             \u001b[0mThe\u001b[0m \u001b[0mfunction\u001b[0m \u001b[0mto\u001b[0m \u001b[0mwhich\u001b[0m \u001b[0mthe\u001b[0m \u001b[0minteractive\u001b[0m \u001b[0mwidgets\u001b[0m \u001b[0mare\u001b[0m \u001b[0mtied\u001b[0m\u001b[1;33m.\u001b[0m\u001b[1;33m\u001b[0m\u001b[0m\n\u001b[0;32m    437\u001b[0m         \"\"\"\n\u001b[1;32m--> 438\u001b[1;33m         \u001b[1;32mreturn\u001b[0m \u001b[0mself\u001b[0m\u001b[1;33m.\u001b[0m\u001b[0mcls\u001b[0m\u001b[1;33m(\u001b[0m\u001b[0mf\u001b[0m\u001b[1;33m,\u001b[0m \u001b[0mself\u001b[0m\u001b[1;33m.\u001b[0m\u001b[0mopts\u001b[0m\u001b[1;33m,\u001b[0m \u001b[1;33m**\u001b[0m\u001b[0mself\u001b[0m\u001b[1;33m.\u001b[0m\u001b[0mkwargs\u001b[0m\u001b[1;33m)\u001b[0m\u001b[1;33m\u001b[0m\u001b[0m\n\u001b[0m\u001b[0;32m    439\u001b[0m \u001b[1;33m\u001b[0m\u001b[0m\n\u001b[0;32m    440\u001b[0m     \u001b[1;32mdef\u001b[0m \u001b[0m__call__\u001b[0m\u001b[1;33m(\u001b[0m\u001b[0mself\u001b[0m\u001b[1;33m,\u001b[0m \u001b[0m__interact_f\u001b[0m\u001b[1;33m=\u001b[0m\u001b[1;32mNone\u001b[0m\u001b[1;33m,\u001b[0m \u001b[1;33m**\u001b[0m\u001b[0mkwargs\u001b[0m\u001b[1;33m)\u001b[0m\u001b[1;33m:\u001b[0m\u001b[1;33m\u001b[0m\u001b[0m\n",
      "\u001b[1;32mC:\\Users\\spn486\\AppData\\Local\\Continuum\\Anaconda3\\lib\\site-packages\\ipywidgets\\widgets\\interaction.py\u001b[0m in \u001b[0;36m__init__\u001b[1;34m(self, _interactive__interact_f, _interactive__options, **kwargs)\u001b[0m\n\u001b[0;32m    192\u001b[0m             \u001b[0mgetcallargs\u001b[0m\u001b[1;33m(\u001b[0m\u001b[0mf\u001b[0m\u001b[1;33m,\u001b[0m \u001b[1;33m**\u001b[0m\u001b[1;33m{\u001b[0m\u001b[0mn\u001b[0m\u001b[1;33m:\u001b[0m\u001b[0mv\u001b[0m \u001b[1;32mfor\u001b[0m \u001b[0mn\u001b[0m\u001b[1;33m,\u001b[0m\u001b[0mv\u001b[0m\u001b[1;33m,\u001b[0m\u001b[0m_\u001b[0m \u001b[1;32min\u001b[0m \u001b[0mnew_kwargs\u001b[0m\u001b[1;33m}\u001b[0m\u001b[1;33m)\u001b[0m\u001b[1;33m\u001b[0m\u001b[0m\n\u001b[0;32m    193\u001b[0m         \u001b[1;31m# Now build the widgets from the abbreviations.\u001b[0m\u001b[1;33m\u001b[0m\u001b[1;33m\u001b[0m\u001b[0m\n\u001b[1;32m--> 194\u001b[1;33m         \u001b[0mself\u001b[0m\u001b[1;33m.\u001b[0m\u001b[0mkwargs_widgets\u001b[0m \u001b[1;33m=\u001b[0m \u001b[0mself\u001b[0m\u001b[1;33m.\u001b[0m\u001b[0mwidgets_from_abbreviations\u001b[0m\u001b[1;33m(\u001b[0m\u001b[0mnew_kwargs\u001b[0m\u001b[1;33m)\u001b[0m\u001b[1;33m\u001b[0m\u001b[0m\n\u001b[0m\u001b[0;32m    195\u001b[0m \u001b[1;33m\u001b[0m\u001b[0m\n\u001b[0;32m    196\u001b[0m         \u001b[1;31m# This has to be done as an assignment, not using self.children.append,\u001b[0m\u001b[1;33m\u001b[0m\u001b[1;33m\u001b[0m\u001b[0m\n",
      "\u001b[1;32mC:\\Users\\spn486\\AppData\\Local\\Continuum\\Anaconda3\\lib\\site-packages\\ipywidgets\\widgets\\interaction.py\u001b[0m in \u001b[0;36mwidgets_from_abbreviations\u001b[1;34m(self, seq)\u001b[0m\n\u001b[0;32m    292\u001b[0m             \u001b[1;32mif\u001b[0m \u001b[1;32mnot\u001b[0m \u001b[1;33m(\u001b[0m\u001b[0misinstance\u001b[0m\u001b[1;33m(\u001b[0m\u001b[0mwidget\u001b[0m\u001b[1;33m,\u001b[0m \u001b[0mValueWidget\u001b[0m\u001b[1;33m)\u001b[0m \u001b[1;32mor\u001b[0m \u001b[0misinstance\u001b[0m\u001b[1;33m(\u001b[0m\u001b[0mwidget\u001b[0m\u001b[1;33m,\u001b[0m \u001b[0mfixed\u001b[0m\u001b[1;33m)\u001b[0m\u001b[1;33m)\u001b[0m\u001b[1;33m:\u001b[0m\u001b[1;33m\u001b[0m\u001b[0m\n\u001b[0;32m    293\u001b[0m                 \u001b[1;32mif\u001b[0m \u001b[0mwidget\u001b[0m \u001b[1;32mis\u001b[0m \u001b[1;32mNone\u001b[0m\u001b[1;33m:\u001b[0m\u001b[1;33m\u001b[0m\u001b[0m\n\u001b[1;32m--> 294\u001b[1;33m                     \u001b[1;32mraise\u001b[0m \u001b[0mValueError\u001b[0m\u001b[1;33m(\u001b[0m\u001b[1;34m\"{!r} cannot be transformed to a widget\"\u001b[0m\u001b[1;33m.\u001b[0m\u001b[0mformat\u001b[0m\u001b[1;33m(\u001b[0m\u001b[0mabbrev\u001b[0m\u001b[1;33m)\u001b[0m\u001b[1;33m)\u001b[0m\u001b[1;33m\u001b[0m\u001b[0m\n\u001b[0m\u001b[0;32m    295\u001b[0m                 \u001b[1;32melse\u001b[0m\u001b[1;33m:\u001b[0m\u001b[1;33m\u001b[0m\u001b[0m\n\u001b[0;32m    296\u001b[0m                     \u001b[1;32mraise\u001b[0m \u001b[0mTypeError\u001b[0m\u001b[1;33m(\u001b[0m\u001b[1;34m\"{!r} is not a ValueWidget\"\u001b[0m\u001b[1;33m.\u001b[0m\u001b[0mformat\u001b[0m\u001b[1;33m(\u001b[0m\u001b[0mwidget\u001b[0m\u001b[1;33m)\u001b[0m\u001b[1;33m)\u001b[0m\u001b[1;33m\u001b[0m\u001b[0m\n",
      "\u001b[1;31mValueError\u001b[0m: None cannot be transformed to a widget"
     ]
    }
   ],
   "source": [
    "interact(showSurface,surface=fixed(data_lh),colormap=['summer','autumn','winter','spring'])"
   ]
  },
  {
   "cell_type": "code",
   "execution_count": 5,
   "metadata": {
    "scrolled": true
   },
   "outputs": [
    {
     "data": {
      "application/vnd.jupyter.widget-view+json": {
       "model_id": "77ea45d59a0b429484a91ed60ea54ae1",
       "version_major": 2,
       "version_minor": 0
      },
      "text/plain": [
       "A Jupyter Widget"
      ]
     },
     "metadata": {},
     "output_type": "display_data"
    }
   ],
   "source": [
    "showSurface(data_lh,data_lh_myelin)"
   ]
  },
  {
   "cell_type": "code",
   "execution_count": 6,
   "metadata": {
    "collapsed": true
   },
   "outputs": [],
   "source": [
    "showSurface(data_rh,data_rh_myelin,False)"
   ]
  },
  {
   "cell_type": "markdown",
   "metadata": {},
   "source": [
    "## now read in a FreeSurfer surface and curvature/annotation as overlay"
   ]
  },
  {
   "cell_type": "code",
   "execution_count": 7,
   "metadata": {},
   "outputs": [
    {
     "data": {
      "application/vnd.jupyter.widget-view+json": {
       "model_id": "762c74f7450e4b81a7fca37522925d90",
       "version_major": 2,
       "version_minor": 0
      },
      "text/plain": [
       "A Jupyter Widget"
      ]
     },
     "metadata": {},
     "output_type": "display_data"
    }
   ],
   "source": [
    "showSurface(nhw+'/data/006/surf/lh.inflated',nhw+'/data/006/surf/lh.curv')"
   ]
  },
  {
   "cell_type": "code",
   "execution_count": 8,
   "metadata": {},
   "outputs": [
    {
     "data": {
      "application/vnd.jupyter.widget-view+json": {
       "model_id": "2f2f45af807a44058d783d2e0c1777e0",
       "version_major": 2,
       "version_minor": 0
      },
      "text/plain": [
       "A Jupyter Widget"
      ]
     },
     "metadata": {},
     "output_type": "display_data"
    }
   ],
   "source": [
    "showSurface(nhw+'/data/006/surf/lh.inflated',nhw+'/data/006/surf/lh.aparc.annot')"
   ]
  },
  {
   "cell_type": "code",
   "execution_count": 13,
   "metadata": {},
   "outputs": [
    {
     "data": {
      "application/vnd.jupyter.widget-view+json": {
       "model_id": "782e2549399d46eb8c97f3deed7b6a07",
       "version_major": 2,
       "version_minor": 0
      },
      "text/plain": [
       "A Jupyter Widget"
      ]
     },
     "metadata": {},
     "output_type": "display_data"
    }
   ],
   "source": [
    "showSurface(nhw+'/data/006/surf/lh.inflated',nhw+'/data/006/surf/lh.thickness')"
   ]
  }
 ],
 "metadata": {
  "kernelspec": {
   "display_name": "Python 3",
   "language": "python",
   "name": "python3"
  },
  "language_info": {
   "codemirror_mode": {
    "name": "ipython",
    "version": 3
   },
   "file_extension": ".py",
   "mimetype": "text/x-python",
   "name": "python",
   "nbconvert_exporter": "python",
   "pygments_lexer": "ipython3",
   "version": "3.6.1"
  }
 },
 "nbformat": 4,
 "nbformat_minor": 2
}
