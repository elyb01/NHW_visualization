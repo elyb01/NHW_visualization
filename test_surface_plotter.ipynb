{
 "cells": [
  {
   "cell_type": "markdown",
   "metadata": {},
   "source": [
    "# Test notebook for interactive surface visualization, Neurohackweek 2017\n",
    "\n",
    "- Bug in surface plotter: interactive feature from niwidgets results in figure disappearing after first change. But if the fig attribute of the instantiated SurfaceWidget is called in a separate cell, the dropdown menu will work as intended -- see comments below in code.\n",
    "\n",
    "- Cloned from the demo test_3d_melanie.ipynb notebook\n",
    "- modified by melanie & murat to focus on interactive surface viewer"
   ]
  },
  {
   "cell_type": "markdown",
   "metadata": {},
   "source": [
    "load packages"
   ]
  },
  {
   "cell_type": "code",
   "execution_count": 1,
   "metadata": {
    "ExecuteTime": {
     "end_time": "2017-09-08T17:14:24.246737Z",
     "start_time": "2017-09-08T17:14:17.337366Z"
    },
    "collapsed": true
   },
   "outputs": [],
   "source": [
    "%matplotlib inline\n",
    "import matplotlib.pyplot as plt\n",
    "\n",
    "import nibabel as nb\n",
    "import ipyvolume\n",
    "import ipyvolume.pylab as p3\n",
    "import numpy as np\n",
    "import os\n",
    "import sys\n",
    "import niwidgets\n",
    "from ipywidgets import interact,fixed,IntSlider"
   ]
  },
  {
   "cell_type": "code",
   "execution_count": 2,
   "metadata": {
    "ExecuteTime": {
     "end_time": "2017-09-08T17:14:25.051753Z",
     "start_time": "2017-09-08T17:14:24.248599Z"
    },
    "collapsed": true
   },
   "outputs": [],
   "source": [
    "# before running, set the global variable NHW to your NHW_visualization git directory\n",
    "# e.g. add 'export NHW=/Users/ely/Desktop/nhw2017/NHW_visualization' to your ~/.bashrc file\n",
    "nhw = os.environ['NHW'] # set the global variable NHW to your NHW_visualization git directory\n",
    "V = nb.load(nhw + '/data/100610/MNINonLinear/T1w_restore_brain.nii.gz').get_data()"
   ]
  },
  {
   "cell_type": "markdown",
   "metadata": {},
   "source": [
    "## Plot gifti surface and overlay files for a subject's left and right hemisphere"
   ]
  },
  {
   "cell_type": "code",
   "execution_count": 4,
   "metadata": {
    "ExecuteTime": {
     "end_time": "2017-09-08T17:14:26.301760Z",
     "start_time": "2017-09-08T17:14:26.213889Z"
    },
    "collapsed": true
   },
   "outputs": [],
   "source": [
    "data_lh = nb.load(nhw+'/data/100610/MNINonLinear/fsaverage_LR32k/100610.L.midthickness_MSMAll.32k_fs_LR.surf.gii')\n",
    "data_lh_myelin = nb.load(nhw+'/data/100610/MNINonLinear/fsaverage_LR32k/100610.L.MyelinMap.32k_fs_LR.func.gii')\n",
    "\n",
    "data_rh = nb.load(nhw+'/data/100610/MNINonLinear/fsaverage_LR32k/100610.R.midthickness_MSMAll.32k_fs_LR.surf.gii')\n",
    "data_rh_myelin = nb.load(nhw+'/data/100610/MNINonLinear/fsaverage_LR32k/100610.R.MyelinMap.32k_fs_LR.func.gii')"
   ]
  },
  {
   "cell_type": "code",
   "execution_count": 5,
   "metadata": {
    "ExecuteTime": {
     "end_time": "2017-09-08T17:14:27.006714Z",
     "start_time": "2017-09-08T17:14:26.962496Z"
    },
    "collapsed": true
   },
   "outputs": [],
   "source": [
    "%load_ext autoreload"
   ]
  },
  {
   "cell_type": "code",
   "execution_count": 6,
   "metadata": {
    "ExecuteTime": {
     "end_time": "2017-09-08T17:14:27.375365Z",
     "start_time": "2017-09-08T17:14:27.372178Z"
    },
    "collapsed": true
   },
   "outputs": [],
   "source": [
    "%autoreload 2"
   ]
  },
  {
   "cell_type": "code",
   "execution_count": 9,
   "metadata": {
    "ExecuteTime": {
     "end_time": "2017-09-08T17:19:35.900033Z",
     "start_time": "2017-09-08T17:19:35.755180Z"
    },
    "scrolled": true
   },
   "outputs": [
    {
     "data": {
      "application/vnd.jupyter.widget-view+json": {
       "model_id": "59257c4511ec49b496efe68df5739c90",
       "version_major": 2,
       "version_minor": 0
      },
      "text/plain": [
       "A Jupyter Widget"
      ]
     },
     "metadata": {},
     "output_type": "display_data"
    }
   ],
   "source": [
    "from niwidgets import niwidget_surface\n",
    "sw = niwidget_surface.SurfaceWidget(meshfile=data_lh, overlayfiles = data_lh_myelin)\n",
    "sw.surface_plotter()\n",
    "# changing the colormap in dropdown menu works the first time\n",
    "# the following change will cause the figure to disappear. But see the next cell..."
   ]
  },
  {
   "cell_type": "code",
   "execution_count": 10,
   "metadata": {
    "ExecuteTime": {
     "end_time": "2017-09-08T17:19:48.738134Z",
     "start_time": "2017-09-08T17:19:48.704839Z"
    }
   },
   "outputs": [
    {
     "data": {
      "application/vnd.jupyter.widget-view+json": {
       "model_id": "c2d0a6275e0240b18f58900a48422ccc",
       "version_major": 2,
       "version_minor": 0
      },
      "text/plain": [
       "A Jupyter Widget"
      ]
     },
     "metadata": {},
     "output_type": "display_data"
    }
   ],
   "source": [
    "# we plot the figure again. now, the dropdown colormap menu (above) works as intended.\n",
    "sw.fig"
   ]
  }
 ],
 "metadata": {
  "kernelspec": {
   "display_name": "Python 3",
   "language": "python",
   "name": "python3"
  },
  "language_info": {
   "codemirror_mode": {
    "name": "ipython",
    "version": 3
   },
   "file_extension": ".py",
   "mimetype": "text/x-python",
   "name": "python",
   "nbconvert_exporter": "python",
   "pygments_lexer": "ipython3",
   "version": "3.6.1"
  },
  "toc": {
   "nav_menu": {},
   "number_sections": true,
   "sideBar": true,
   "skip_h1_title": false,
   "toc_cell": false,
   "toc_position": {},
   "toc_section_display": "block",
   "toc_window_display": false
  }
 },
 "nbformat": 4,
 "nbformat_minor": 2
}
